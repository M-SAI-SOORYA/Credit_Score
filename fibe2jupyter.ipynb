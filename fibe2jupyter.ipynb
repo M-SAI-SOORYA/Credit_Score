{
  "cells": [
    {
      "cell_type": "code",
      "execution_count": null,
      "metadata": {
        "colab": {
          "base_uri": "https://localhost:8080/"
        },
        "id": "IgSlq9oaqUSv",
        "outputId": "ae30172d-65e7-4a51-977b-e3af8cbb5788"
      },
      "outputs": [
        {
          "name": "stdout",
          "output_type": "stream",
          "text": [
            "Mounted at /content/drive\n"
          ]
        }
      ],
      "source": [
        "from google.colab import drive\n",
        "drive.mount('/content/drive')"
      ]
    },
    {
      "cell_type": "code",
      "execution_count": null,
      "metadata": {
        "id": "2nKwQTwOq0Yd"
      },
      "outputs": [],
      "source": [
        "\n",
        "import warnings\n",
        "warnings.filterwarnings('ignore')\n",
        "import pandas as pd\n",
        "df=pd.read_csv('/content/drive/MyDrive/fibe hackathon/dataset/train.csv')"
      ]
    },
    {
      "cell_type": "code",
      "execution_count": null,
      "metadata": {
        "colab": {
          "base_uri": "https://localhost:8080/",
          "height": 235
        },
        "id": "K8W-dqppteDI",
        "outputId": "9fa5d51f-4f1a-4442-b04e-a0afecd22e99"
      },
      "outputs": [
        {
          "data": {
            "text/html": [
              "\n",
              "  <div id=\"df-b82f5091-182a-4b39-898d-3b8e50d53564\">\n",
              "    <div class=\"colab-df-container\">\n",
              "      <div>\n",
              "<style scoped>\n",
              "    .dataframe tbody tr th:only-of-type {\n",
              "        vertical-align: middle;\n",
              "    }\n",
              "\n",
              "    .dataframe tbody tr th {\n",
              "        vertical-align: top;\n",
              "    }\n",
              "\n",
              "    .dataframe thead th {\n",
              "        text-align: right;\n",
              "    }\n",
              "</style>\n",
              "<table border=\"1\" class=\"dataframe\">\n",
              "  <thead>\n",
              "    <tr style=\"text-align: right;\">\n",
              "      <th></th>\n",
              "      <th>id</th>\n",
              "      <th>var_1</th>\n",
              "      <th>var_2</th>\n",
              "      <th>var_3</th>\n",
              "      <th>var_4</th>\n",
              "      <th>var_5</th>\n",
              "      <th>var_6</th>\n",
              "      <th>var_7</th>\n",
              "      <th>var_8</th>\n",
              "      <th>var_9</th>\n",
              "      <th>...</th>\n",
              "      <th>var_5470</th>\n",
              "      <th>var_5471</th>\n",
              "      <th>var_5472</th>\n",
              "      <th>var_5473</th>\n",
              "      <th>var_5474</th>\n",
              "      <th>var_5475</th>\n",
              "      <th>var_5476</th>\n",
              "      <th>var_5477</th>\n",
              "      <th>var_5478</th>\n",
              "      <th>target</th>\n",
              "    </tr>\n",
              "  </thead>\n",
              "  <tbody>\n",
              "    <tr>\n",
              "      <th>0</th>\n",
              "      <td>id_1</td>\n",
              "      <td>0.015625</td>\n",
              "      <td>0.0</td>\n",
              "      <td>0.0</td>\n",
              "      <td>0.0</td>\n",
              "      <td>0.0</td>\n",
              "      <td>0.0</td>\n",
              "      <td>0.0</td>\n",
              "      <td>0.0</td>\n",
              "      <td>0.355422</td>\n",
              "      <td>...</td>\n",
              "      <td>NaN</td>\n",
              "      <td>NaN</td>\n",
              "      <td>NaN</td>\n",
              "      <td>NaN</td>\n",
              "      <td>NaN</td>\n",
              "      <td>NaN</td>\n",
              "      <td>NaN</td>\n",
              "      <td>NaN</td>\n",
              "      <td>NaN</td>\n",
              "      <td>0</td>\n",
              "    </tr>\n",
              "    <tr>\n",
              "      <th>1</th>\n",
              "      <td>id_2</td>\n",
              "      <td>0.187500</td>\n",
              "      <td>0.0</td>\n",
              "      <td>0.0</td>\n",
              "      <td>0.0</td>\n",
              "      <td>0.0</td>\n",
              "      <td>0.0</td>\n",
              "      <td>0.0</td>\n",
              "      <td>0.0</td>\n",
              "      <td>0.150602</td>\n",
              "      <td>...</td>\n",
              "      <td>0.0</td>\n",
              "      <td>NaN</td>\n",
              "      <td>0.000000</td>\n",
              "      <td>NaN</td>\n",
              "      <td>NaN</td>\n",
              "      <td>NaN</td>\n",
              "      <td>NaN</td>\n",
              "      <td>NaN</td>\n",
              "      <td>NaN</td>\n",
              "      <td>0</td>\n",
              "    </tr>\n",
              "    <tr>\n",
              "      <th>2</th>\n",
              "      <td>id_3</td>\n",
              "      <td>0.000000</td>\n",
              "      <td>0.0</td>\n",
              "      <td>0.0</td>\n",
              "      <td>0.0</td>\n",
              "      <td>0.0</td>\n",
              "      <td>0.0</td>\n",
              "      <td>0.0</td>\n",
              "      <td>0.0</td>\n",
              "      <td>NaN</td>\n",
              "      <td>...</td>\n",
              "      <td>NaN</td>\n",
              "      <td>NaN</td>\n",
              "      <td>0.008333</td>\n",
              "      <td>NaN</td>\n",
              "      <td>NaN</td>\n",
              "      <td>0.0</td>\n",
              "      <td>NaN</td>\n",
              "      <td>NaN</td>\n",
              "      <td>0.0</td>\n",
              "      <td>0</td>\n",
              "    </tr>\n",
              "    <tr>\n",
              "      <th>3</th>\n",
              "      <td>id_4</td>\n",
              "      <td>0.156250</td>\n",
              "      <td>0.0</td>\n",
              "      <td>0.0</td>\n",
              "      <td>0.0</td>\n",
              "      <td>0.0</td>\n",
              "      <td>0.0</td>\n",
              "      <td>0.0</td>\n",
              "      <td>0.0</td>\n",
              "      <td>0.018072</td>\n",
              "      <td>...</td>\n",
              "      <td>NaN</td>\n",
              "      <td>NaN</td>\n",
              "      <td>NaN</td>\n",
              "      <td>NaN</td>\n",
              "      <td>NaN</td>\n",
              "      <td>NaN</td>\n",
              "      <td>NaN</td>\n",
              "      <td>NaN</td>\n",
              "      <td>NaN</td>\n",
              "      <td>0</td>\n",
              "    </tr>\n",
              "    <tr>\n",
              "      <th>4</th>\n",
              "      <td>id_5</td>\n",
              "      <td>0.046875</td>\n",
              "      <td>0.0</td>\n",
              "      <td>0.0</td>\n",
              "      <td>0.0</td>\n",
              "      <td>0.0</td>\n",
              "      <td>0.0</td>\n",
              "      <td>0.0</td>\n",
              "      <td>0.0</td>\n",
              "      <td>0.096386</td>\n",
              "      <td>...</td>\n",
              "      <td>NaN</td>\n",
              "      <td>NaN</td>\n",
              "      <td>NaN</td>\n",
              "      <td>NaN</td>\n",
              "      <td>NaN</td>\n",
              "      <td>NaN</td>\n",
              "      <td>NaN</td>\n",
              "      <td>NaN</td>\n",
              "      <td>NaN</td>\n",
              "      <td>0</td>\n",
              "    </tr>\n",
              "  </tbody>\n",
              "</table>\n",
              "<p>5 rows × 5480 columns</p>\n",
              "</div>\n",
              "      <button class=\"colab-df-convert\" onclick=\"convertToInteractive('df-b82f5091-182a-4b39-898d-3b8e50d53564')\"\n",
              "              title=\"Convert this dataframe to an interactive table.\"\n",
              "              style=\"display:none;\">\n",
              "        \n",
              "  <svg xmlns=\"http://www.w3.org/2000/svg\" height=\"24px\"viewBox=\"0 0 24 24\"\n",
              "       width=\"24px\">\n",
              "    <path d=\"M0 0h24v24H0V0z\" fill=\"none\"/>\n",
              "    <path d=\"M18.56 5.44l.94 2.06.94-2.06 2.06-.94-2.06-.94-.94-2.06-.94 2.06-2.06.94zm-11 1L8.5 8.5l.94-2.06 2.06-.94-2.06-.94L8.5 2.5l-.94 2.06-2.06.94zm10 10l.94 2.06.94-2.06 2.06-.94-2.06-.94-.94-2.06-.94 2.06-2.06.94z\"/><path d=\"M17.41 7.96l-1.37-1.37c-.4-.4-.92-.59-1.43-.59-.52 0-1.04.2-1.43.59L10.3 9.45l-7.72 7.72c-.78.78-.78 2.05 0 2.83L4 21.41c.39.39.9.59 1.41.59.51 0 1.02-.2 1.41-.59l7.78-7.78 2.81-2.81c.8-.78.8-2.07 0-2.86zM5.41 20L4 18.59l7.72-7.72 1.47 1.35L5.41 20z\"/>\n",
              "  </svg>\n",
              "      </button>\n",
              "      \n",
              "  <style>\n",
              "    .colab-df-container {\n",
              "      display:flex;\n",
              "      flex-wrap:wrap;\n",
              "      gap: 12px;\n",
              "    }\n",
              "\n",
              "    .colab-df-convert {\n",
              "      background-color: #E8F0FE;\n",
              "      border: none;\n",
              "      border-radius: 50%;\n",
              "      cursor: pointer;\n",
              "      display: none;\n",
              "      fill: #1967D2;\n",
              "      height: 32px;\n",
              "      padding: 0 0 0 0;\n",
              "      width: 32px;\n",
              "    }\n",
              "\n",
              "    .colab-df-convert:hover {\n",
              "      background-color: #E2EBFA;\n",
              "      box-shadow: 0px 1px 2px rgba(60, 64, 67, 0.3), 0px 1px 3px 1px rgba(60, 64, 67, 0.15);\n",
              "      fill: #174EA6;\n",
              "    }\n",
              "\n",
              "    [theme=dark] .colab-df-convert {\n",
              "      background-color: #3B4455;\n",
              "      fill: #D2E3FC;\n",
              "    }\n",
              "\n",
              "    [theme=dark] .colab-df-convert:hover {\n",
              "      background-color: #434B5C;\n",
              "      box-shadow: 0px 1px 3px 1px rgba(0, 0, 0, 0.15);\n",
              "      filter: drop-shadow(0px 1px 2px rgba(0, 0, 0, 0.3));\n",
              "      fill: #FFFFFF;\n",
              "    }\n",
              "  </style>\n",
              "\n",
              "      <script>\n",
              "        const buttonEl =\n",
              "          document.querySelector('#df-b82f5091-182a-4b39-898d-3b8e50d53564 button.colab-df-convert');\n",
              "        buttonEl.style.display =\n",
              "          google.colab.kernel.accessAllowed ? 'block' : 'none';\n",
              "\n",
              "        async function convertToInteractive(key) {\n",
              "          const element = document.querySelector('#df-b82f5091-182a-4b39-898d-3b8e50d53564');\n",
              "          const dataTable =\n",
              "            await google.colab.kernel.invokeFunction('convertToInteractive',\n",
              "                                                     [key], {});\n",
              "          if (!dataTable) return;\n",
              "\n",
              "          const docLinkHtml = 'Like what you see? Visit the ' +\n",
              "            '<a target=\"_blank\" href=https://colab.research.google.com/notebooks/data_table.ipynb>data table notebook</a>'\n",
              "            + ' to learn more about interactive tables.';\n",
              "          element.innerHTML = '';\n",
              "          dataTable['output_type'] = 'display_data';\n",
              "          await google.colab.output.renderOutput(dataTable, element);\n",
              "          const docLink = document.createElement('div');\n",
              "          docLink.innerHTML = docLinkHtml;\n",
              "          element.appendChild(docLink);\n",
              "        }\n",
              "      </script>\n",
              "    </div>\n",
              "  </div>\n",
              "  "
            ],
            "text/plain": [
              "     id     var_1  var_2  var_3  var_4  var_5  var_6  var_7  var_8     var_9  \\\n",
              "0  id_1  0.015625    0.0    0.0    0.0    0.0    0.0    0.0    0.0  0.355422   \n",
              "1  id_2  0.187500    0.0    0.0    0.0    0.0    0.0    0.0    0.0  0.150602   \n",
              "2  id_3  0.000000    0.0    0.0    0.0    0.0    0.0    0.0    0.0       NaN   \n",
              "3  id_4  0.156250    0.0    0.0    0.0    0.0    0.0    0.0    0.0  0.018072   \n",
              "4  id_5  0.046875    0.0    0.0    0.0    0.0    0.0    0.0    0.0  0.096386   \n",
              "\n",
              "   ...  var_5470  var_5471  var_5472  var_5473  var_5474  var_5475  var_5476  \\\n",
              "0  ...       NaN       NaN       NaN       NaN       NaN       NaN       NaN   \n",
              "1  ...       0.0       NaN  0.000000       NaN       NaN       NaN       NaN   \n",
              "2  ...       NaN       NaN  0.008333       NaN       NaN       0.0       NaN   \n",
              "3  ...       NaN       NaN       NaN       NaN       NaN       NaN       NaN   \n",
              "4  ...       NaN       NaN       NaN       NaN       NaN       NaN       NaN   \n",
              "\n",
              "   var_5477  var_5478  target  \n",
              "0       NaN       NaN       0  \n",
              "1       NaN       NaN       0  \n",
              "2       NaN       0.0       0  \n",
              "3       NaN       NaN       0  \n",
              "4       NaN       NaN       0  \n",
              "\n",
              "[5 rows x 5480 columns]"
            ]
          },
          "execution_count": 5,
          "metadata": {},
          "output_type": "execute_result"
        }
      ],
      "source": [
        "df.head()"
      ]
    },
    {
      "cell_type": "code",
      "execution_count": null,
      "metadata": {
        "colab": {
          "base_uri": "https://localhost:8080/"
        },
        "id": "Ki6MbFi5Dwpv",
        "outputId": "55aeaf4a-ecf6-44b7-ace3-026ae8a8f610"
      },
      "outputs": [
        {
          "data": {
            "text/plain": [
              "(25000, 5480)"
            ]
          },
          "execution_count": 6,
          "metadata": {},
          "output_type": "execute_result"
        }
      ],
      "source": [
        "df.shape"
      ]
    },
    {
      "cell_type": "code",
      "execution_count": null,
      "metadata": {
        "id": "vpktY7ORnYgw"
      },
      "outputs": [],
      "source": [
        "df=df.drop('id',axis=1)"
      ]
    },
    {
      "cell_type": "code",
      "execution_count": null,
      "metadata": {
        "colab": {
          "base_uri": "https://localhost:8080/"
        },
        "id": "b0hE9uJtCAPH",
        "outputId": "c4d224f7-518c-4b86-93b1-3eda06cc7adf"
      },
      "outputs": [
        {
          "name": "stdout",
          "output_type": "stream",
          "text": [
            "True\n",
            "True\n"
          ]
        }
      ],
      "source": [
        "import numpy as np\n",
        "print(np.any(np.isnan(df)))\n",
        "print(np.any(np.isinf(df)))"
      ]
    },
    {
      "cell_type": "code",
      "execution_count": null,
      "metadata": {
        "id": "qMG2hInAt60F"
      },
      "outputs": [],
      "source": [
        "# dataset contains high extreme or low extreme values\n",
        "# replacing infinity values with some large value or small values\n",
        "df.replace([np.inf,-np.inf],-1e9,inplace=True)"
      ]
    },
    {
      "cell_type": "code",
      "execution_count": null,
      "metadata": {
        "colab": {
          "base_uri": "https://localhost:8080/"
        },
        "id": "NOpTxNGtvH3K",
        "outputId": "df9eda15-137e-4fa3-e656-09d575aeccaa"
      },
      "outputs": [
        {
          "name": "stdout",
          "output_type": "stream",
          "text": [
            "False\n"
          ]
        }
      ],
      "source": [
        "print(np.any(np.isinf(df))) "
      ]
    },
    {
      "cell_type": "code",
      "execution_count": null,
      "metadata": {
        "colab": {
          "base_uri": "https://localhost:8080/",
          "height": 423
        },
        "id": "fIgtf0q0JZvl",
        "outputId": "cba146ea-d395-45f0-be53-4c79172f7eb1"
      },
      "outputs": [
        {
          "data": {
            "text/html": [
              "\n",
              "  <div id=\"df-066a8b30-b03f-48e5-8b34-8b2b2983b8f8\">\n",
              "    <div class=\"colab-df-container\">\n",
              "      <div>\n",
              "<style scoped>\n",
              "    .dataframe tbody tr th:only-of-type {\n",
              "        vertical-align: middle;\n",
              "    }\n",
              "\n",
              "    .dataframe tbody tr th {\n",
              "        vertical-align: top;\n",
              "    }\n",
              "\n",
              "    .dataframe thead th {\n",
              "        text-align: right;\n",
              "    }\n",
              "</style>\n",
              "<table border=\"1\" class=\"dataframe\">\n",
              "  <thead>\n",
              "    <tr style=\"text-align: right;\">\n",
              "      <th></th>\n",
              "      <th>column_name</th>\n",
              "      <th>percent_missing</th>\n",
              "    </tr>\n",
              "  </thead>\n",
              "  <tbody>\n",
              "    <tr>\n",
              "      <th>var_2834</th>\n",
              "      <td>var_2834</td>\n",
              "      <td>100.0</td>\n",
              "    </tr>\n",
              "    <tr>\n",
              "      <th>var_2908</th>\n",
              "      <td>var_2908</td>\n",
              "      <td>100.0</td>\n",
              "    </tr>\n",
              "    <tr>\n",
              "      <th>var_3893</th>\n",
              "      <td>var_3893</td>\n",
              "      <td>100.0</td>\n",
              "    </tr>\n",
              "    <tr>\n",
              "      <th>var_3894</th>\n",
              "      <td>var_3894</td>\n",
              "      <td>100.0</td>\n",
              "    </tr>\n",
              "    <tr>\n",
              "      <th>var_636</th>\n",
              "      <td>var_636</td>\n",
              "      <td>100.0</td>\n",
              "    </tr>\n",
              "    <tr>\n",
              "      <th>...</th>\n",
              "      <td>...</td>\n",
              "      <td>...</td>\n",
              "    </tr>\n",
              "    <tr>\n",
              "      <th>var_5290</th>\n",
              "      <td>var_5290</td>\n",
              "      <td>0.0</td>\n",
              "    </tr>\n",
              "    <tr>\n",
              "      <th>var_5291</th>\n",
              "      <td>var_5291</td>\n",
              "      <td>0.0</td>\n",
              "    </tr>\n",
              "    <tr>\n",
              "      <th>var_5292</th>\n",
              "      <td>var_5292</td>\n",
              "      <td>0.0</td>\n",
              "    </tr>\n",
              "    <tr>\n",
              "      <th>var_5293</th>\n",
              "      <td>var_5293</td>\n",
              "      <td>0.0</td>\n",
              "    </tr>\n",
              "    <tr>\n",
              "      <th>target</th>\n",
              "      <td>target</td>\n",
              "      <td>0.0</td>\n",
              "    </tr>\n",
              "  </tbody>\n",
              "</table>\n",
              "<p>5479 rows × 2 columns</p>\n",
              "</div>\n",
              "      <button class=\"colab-df-convert\" onclick=\"convertToInteractive('df-066a8b30-b03f-48e5-8b34-8b2b2983b8f8')\"\n",
              "              title=\"Convert this dataframe to an interactive table.\"\n",
              "              style=\"display:none;\">\n",
              "        \n",
              "  <svg xmlns=\"http://www.w3.org/2000/svg\" height=\"24px\"viewBox=\"0 0 24 24\"\n",
              "       width=\"24px\">\n",
              "    <path d=\"M0 0h24v24H0V0z\" fill=\"none\"/>\n",
              "    <path d=\"M18.56 5.44l.94 2.06.94-2.06 2.06-.94-2.06-.94-.94-2.06-.94 2.06-2.06.94zm-11 1L8.5 8.5l.94-2.06 2.06-.94-2.06-.94L8.5 2.5l-.94 2.06-2.06.94zm10 10l.94 2.06.94-2.06 2.06-.94-2.06-.94-.94-2.06-.94 2.06-2.06.94z\"/><path d=\"M17.41 7.96l-1.37-1.37c-.4-.4-.92-.59-1.43-.59-.52 0-1.04.2-1.43.59L10.3 9.45l-7.72 7.72c-.78.78-.78 2.05 0 2.83L4 21.41c.39.39.9.59 1.41.59.51 0 1.02-.2 1.41-.59l7.78-7.78 2.81-2.81c.8-.78.8-2.07 0-2.86zM5.41 20L4 18.59l7.72-7.72 1.47 1.35L5.41 20z\"/>\n",
              "  </svg>\n",
              "      </button>\n",
              "      \n",
              "  <style>\n",
              "    .colab-df-container {\n",
              "      display:flex;\n",
              "      flex-wrap:wrap;\n",
              "      gap: 12px;\n",
              "    }\n",
              "\n",
              "    .colab-df-convert {\n",
              "      background-color: #E8F0FE;\n",
              "      border: none;\n",
              "      border-radius: 50%;\n",
              "      cursor: pointer;\n",
              "      display: none;\n",
              "      fill: #1967D2;\n",
              "      height: 32px;\n",
              "      padding: 0 0 0 0;\n",
              "      width: 32px;\n",
              "    }\n",
              "\n",
              "    .colab-df-convert:hover {\n",
              "      background-color: #E2EBFA;\n",
              "      box-shadow: 0px 1px 2px rgba(60, 64, 67, 0.3), 0px 1px 3px 1px rgba(60, 64, 67, 0.15);\n",
              "      fill: #174EA6;\n",
              "    }\n",
              "\n",
              "    [theme=dark] .colab-df-convert {\n",
              "      background-color: #3B4455;\n",
              "      fill: #D2E3FC;\n",
              "    }\n",
              "\n",
              "    [theme=dark] .colab-df-convert:hover {\n",
              "      background-color: #434B5C;\n",
              "      box-shadow: 0px 1px 3px 1px rgba(0, 0, 0, 0.15);\n",
              "      filter: drop-shadow(0px 1px 2px rgba(0, 0, 0, 0.3));\n",
              "      fill: #FFFFFF;\n",
              "    }\n",
              "  </style>\n",
              "\n",
              "      <script>\n",
              "        const buttonEl =\n",
              "          document.querySelector('#df-066a8b30-b03f-48e5-8b34-8b2b2983b8f8 button.colab-df-convert');\n",
              "        buttonEl.style.display =\n",
              "          google.colab.kernel.accessAllowed ? 'block' : 'none';\n",
              "\n",
              "        async function convertToInteractive(key) {\n",
              "          const element = document.querySelector('#df-066a8b30-b03f-48e5-8b34-8b2b2983b8f8');\n",
              "          const dataTable =\n",
              "            await google.colab.kernel.invokeFunction('convertToInteractive',\n",
              "                                                     [key], {});\n",
              "          if (!dataTable) return;\n",
              "\n",
              "          const docLinkHtml = 'Like what you see? Visit the ' +\n",
              "            '<a target=\"_blank\" href=https://colab.research.google.com/notebooks/data_table.ipynb>data table notebook</a>'\n",
              "            + ' to learn more about interactive tables.';\n",
              "          element.innerHTML = '';\n",
              "          dataTable['output_type'] = 'display_data';\n",
              "          await google.colab.output.renderOutput(dataTable, element);\n",
              "          const docLink = document.createElement('div');\n",
              "          docLink.innerHTML = docLinkHtml;\n",
              "          element.appendChild(docLink);\n",
              "        }\n",
              "      </script>\n",
              "    </div>\n",
              "  </div>\n",
              "  "
            ],
            "text/plain": [
              "         column_name  percent_missing\n",
              "var_2834    var_2834            100.0\n",
              "var_2908    var_2908            100.0\n",
              "var_3893    var_3893            100.0\n",
              "var_3894    var_3894            100.0\n",
              "var_636      var_636            100.0\n",
              "...              ...              ...\n",
              "var_5290    var_5290              0.0\n",
              "var_5291    var_5291              0.0\n",
              "var_5292    var_5292              0.0\n",
              "var_5293    var_5293              0.0\n",
              "target        target              0.0\n",
              "\n",
              "[5479 rows x 2 columns]"
            ]
          },
          "execution_count": 11,
          "metadata": {},
          "output_type": "execute_result"
        }
      ],
      "source": [
        "percent_missing = df.isnull().sum() * 100 / len(df)\n",
        "missing_value_df = pd.DataFrame({'column_name': df.columns,'percent_missing': percent_missing})\n",
        "missing_value_df = missing_value_df.sort_values('percent_missing', ascending=False)\n",
        "missing_value_df"
      ]
    },
    {
      "cell_type": "code",
      "execution_count": null,
      "metadata": {
        "id": "OeSx8sH4KPwo"
      },
      "outputs": [],
      "source": [
        "mxmiss=missing_value_df[missing_value_df['percent_missing']>=80.0]"
      ]
    },
    {
      "cell_type": "code",
      "execution_count": null,
      "metadata": {
        "colab": {
          "base_uri": "https://localhost:8080/"
        },
        "id": "krDA68_Jlpcv",
        "outputId": "2d85bb5c-fb6d-4716-cdc6-dfa992a95602"
      },
      "outputs": [
        {
          "data": {
            "text/plain": [
              "(1861, 2)"
            ]
          },
          "execution_count": 13,
          "metadata": {},
          "output_type": "execute_result"
        }
      ],
      "source": [
        "mxmiss.shape"
      ]
    },
    {
      "cell_type": "code",
      "execution_count": null,
      "metadata": {
        "id": "dzVKi68gK6rQ"
      },
      "outputs": [],
      "source": [
        "# so we've 1861 attributes which have more than 80 percent missing values, we need to drop them out\n",
        "row_index=mxmiss.index\n",
        "row_index=list(row_index)\n",
        "df=df.drop(row_index,axis=1)"
      ]
    },
    {
      "cell_type": "code",
      "execution_count": null,
      "metadata": {
        "colab": {
          "base_uri": "https://localhost:8080/"
        },
        "id": "6ESWJY2RLDyZ",
        "outputId": "0bbc6f2d-0972-4472-fc1f-6bdcd217f75c"
      },
      "outputs": [
        {
          "name": "stdout",
          "output_type": "stream",
          "text": [
            "<class 'pandas.core.frame.DataFrame'>\n",
            "RangeIndex: 25000 entries, 0 to 24999\n",
            "Columns: 3618 entries, var_1 to target\n",
            "dtypes: float64(3617), int64(1)\n",
            "memory usage: 690.1 MB\n"
          ]
        }
      ],
      "source": [
        "df.info()"
      ]
    },
    {
      "cell_type": "code",
      "execution_count": null,
      "metadata": {
        "id": "cZR3zZ9yNX2_"
      },
      "outputs": [],
      "source": [
        "# now we've removed  coloumns which have more than 80% missing values"
      ]
    },
    {
      "cell_type": "code",
      "execution_count": null,
      "metadata": {
        "colab": {
          "base_uri": "https://localhost:8080/",
          "height": 279
        },
        "id": "e0l_Jo7HNuTh",
        "outputId": "a1b4cc58-fe6f-4be0-cd53-c48122f4ac45"
      },
      "outputs": [
        {
          "data": {
            "text/html": [
              "\n",
              "  <div id=\"df-4abea97a-30fa-43a4-ac77-f27d107c54e8\">\n",
              "    <div class=\"colab-df-container\">\n",
              "      <div>\n",
              "<style scoped>\n",
              "    .dataframe tbody tr th:only-of-type {\n",
              "        vertical-align: middle;\n",
              "    }\n",
              "\n",
              "    .dataframe tbody tr th {\n",
              "        vertical-align: top;\n",
              "    }\n",
              "\n",
              "    .dataframe thead th {\n",
              "        text-align: right;\n",
              "    }\n",
              "</style>\n",
              "<table border=\"1\" class=\"dataframe\">\n",
              "  <thead>\n",
              "    <tr style=\"text-align: right;\">\n",
              "      <th></th>\n",
              "      <th>var_1</th>\n",
              "      <th>var_2</th>\n",
              "      <th>var_3</th>\n",
              "      <th>var_4</th>\n",
              "      <th>var_5</th>\n",
              "      <th>var_6</th>\n",
              "      <th>var_7</th>\n",
              "      <th>var_8</th>\n",
              "      <th>var_9</th>\n",
              "      <th>var_10</th>\n",
              "      <th>...</th>\n",
              "      <th>var_5457</th>\n",
              "      <th>var_5458</th>\n",
              "      <th>var_5460</th>\n",
              "      <th>var_5461</th>\n",
              "      <th>var_5462</th>\n",
              "      <th>var_5463</th>\n",
              "      <th>var_5464</th>\n",
              "      <th>var_5466</th>\n",
              "      <th>var_5472</th>\n",
              "      <th>target</th>\n",
              "    </tr>\n",
              "  </thead>\n",
              "  <tbody>\n",
              "    <tr>\n",
              "      <th>0</th>\n",
              "      <td>0.015625</td>\n",
              "      <td>0.0</td>\n",
              "      <td>0.0</td>\n",
              "      <td>0.0</td>\n",
              "      <td>0.0</td>\n",
              "      <td>0.0</td>\n",
              "      <td>0.0</td>\n",
              "      <td>0.0</td>\n",
              "      <td>0.355422</td>\n",
              "      <td>0.106633</td>\n",
              "      <td>...</td>\n",
              "      <td>0.012270</td>\n",
              "      <td>0.008547</td>\n",
              "      <td>0.016317</td>\n",
              "      <td>NaN</td>\n",
              "      <td>NaN</td>\n",
              "      <td>0.000000</td>\n",
              "      <td>NaN</td>\n",
              "      <td>0.000000</td>\n",
              "      <td>NaN</td>\n",
              "      <td>0</td>\n",
              "    </tr>\n",
              "    <tr>\n",
              "      <th>1</th>\n",
              "      <td>0.187500</td>\n",
              "      <td>0.0</td>\n",
              "      <td>0.0</td>\n",
              "      <td>0.0</td>\n",
              "      <td>0.0</td>\n",
              "      <td>0.0</td>\n",
              "      <td>0.0</td>\n",
              "      <td>0.0</td>\n",
              "      <td>0.150602</td>\n",
              "      <td>0.106633</td>\n",
              "      <td>...</td>\n",
              "      <td>0.055215</td>\n",
              "      <td>0.145299</td>\n",
              "      <td>0.109557</td>\n",
              "      <td>NaN</td>\n",
              "      <td>0.067114</td>\n",
              "      <td>0.049020</td>\n",
              "      <td>0.073684</td>\n",
              "      <td>0.062992</td>\n",
              "      <td>0.000000</td>\n",
              "      <td>0</td>\n",
              "    </tr>\n",
              "    <tr>\n",
              "      <th>2</th>\n",
              "      <td>0.000000</td>\n",
              "      <td>0.0</td>\n",
              "      <td>0.0</td>\n",
              "      <td>0.0</td>\n",
              "      <td>0.0</td>\n",
              "      <td>0.0</td>\n",
              "      <td>0.0</td>\n",
              "      <td>0.0</td>\n",
              "      <td>NaN</td>\n",
              "      <td>NaN</td>\n",
              "      <td>...</td>\n",
              "      <td>0.079755</td>\n",
              "      <td>NaN</td>\n",
              "      <td>0.065268</td>\n",
              "      <td>0.026316</td>\n",
              "      <td>0.020134</td>\n",
              "      <td>0.068627</td>\n",
              "      <td>NaN</td>\n",
              "      <td>0.036745</td>\n",
              "      <td>0.008333</td>\n",
              "      <td>0</td>\n",
              "    </tr>\n",
              "    <tr>\n",
              "      <th>3</th>\n",
              "      <td>0.156250</td>\n",
              "      <td>0.0</td>\n",
              "      <td>0.0</td>\n",
              "      <td>0.0</td>\n",
              "      <td>0.0</td>\n",
              "      <td>0.0</td>\n",
              "      <td>0.0</td>\n",
              "      <td>0.0</td>\n",
              "      <td>0.018072</td>\n",
              "      <td>0.106633</td>\n",
              "      <td>...</td>\n",
              "      <td>NaN</td>\n",
              "      <td>NaN</td>\n",
              "      <td>0.006993</td>\n",
              "      <td>NaN</td>\n",
              "      <td>0.000000</td>\n",
              "      <td>NaN</td>\n",
              "      <td>NaN</td>\n",
              "      <td>0.000000</td>\n",
              "      <td>NaN</td>\n",
              "      <td>0</td>\n",
              "    </tr>\n",
              "    <tr>\n",
              "      <th>4</th>\n",
              "      <td>0.046875</td>\n",
              "      <td>0.0</td>\n",
              "      <td>0.0</td>\n",
              "      <td>0.0</td>\n",
              "      <td>0.0</td>\n",
              "      <td>0.0</td>\n",
              "      <td>0.0</td>\n",
              "      <td>0.0</td>\n",
              "      <td>0.096386</td>\n",
              "      <td>0.106633</td>\n",
              "      <td>...</td>\n",
              "      <td>0.042945</td>\n",
              "      <td>NaN</td>\n",
              "      <td>0.055944</td>\n",
              "      <td>0.000000</td>\n",
              "      <td>NaN</td>\n",
              "      <td>0.009804</td>\n",
              "      <td>NaN</td>\n",
              "      <td>0.005249</td>\n",
              "      <td>NaN</td>\n",
              "      <td>0</td>\n",
              "    </tr>\n",
              "  </tbody>\n",
              "</table>\n",
              "<p>5 rows × 3618 columns</p>\n",
              "</div>\n",
              "      <button class=\"colab-df-convert\" onclick=\"convertToInteractive('df-4abea97a-30fa-43a4-ac77-f27d107c54e8')\"\n",
              "              title=\"Convert this dataframe to an interactive table.\"\n",
              "              style=\"display:none;\">\n",
              "        \n",
              "  <svg xmlns=\"http://www.w3.org/2000/svg\" height=\"24px\"viewBox=\"0 0 24 24\"\n",
              "       width=\"24px\">\n",
              "    <path d=\"M0 0h24v24H0V0z\" fill=\"none\"/>\n",
              "    <path d=\"M18.56 5.44l.94 2.06.94-2.06 2.06-.94-2.06-.94-.94-2.06-.94 2.06-2.06.94zm-11 1L8.5 8.5l.94-2.06 2.06-.94-2.06-.94L8.5 2.5l-.94 2.06-2.06.94zm10 10l.94 2.06.94-2.06 2.06-.94-2.06-.94-.94-2.06-.94 2.06-2.06.94z\"/><path d=\"M17.41 7.96l-1.37-1.37c-.4-.4-.92-.59-1.43-.59-.52 0-1.04.2-1.43.59L10.3 9.45l-7.72 7.72c-.78.78-.78 2.05 0 2.83L4 21.41c.39.39.9.59 1.41.59.51 0 1.02-.2 1.41-.59l7.78-7.78 2.81-2.81c.8-.78.8-2.07 0-2.86zM5.41 20L4 18.59l7.72-7.72 1.47 1.35L5.41 20z\"/>\n",
              "  </svg>\n",
              "      </button>\n",
              "      \n",
              "  <style>\n",
              "    .colab-df-container {\n",
              "      display:flex;\n",
              "      flex-wrap:wrap;\n",
              "      gap: 12px;\n",
              "    }\n",
              "\n",
              "    .colab-df-convert {\n",
              "      background-color: #E8F0FE;\n",
              "      border: none;\n",
              "      border-radius: 50%;\n",
              "      cursor: pointer;\n",
              "      display: none;\n",
              "      fill: #1967D2;\n",
              "      height: 32px;\n",
              "      padding: 0 0 0 0;\n",
              "      width: 32px;\n",
              "    }\n",
              "\n",
              "    .colab-df-convert:hover {\n",
              "      background-color: #E2EBFA;\n",
              "      box-shadow: 0px 1px 2px rgba(60, 64, 67, 0.3), 0px 1px 3px 1px rgba(60, 64, 67, 0.15);\n",
              "      fill: #174EA6;\n",
              "    }\n",
              "\n",
              "    [theme=dark] .colab-df-convert {\n",
              "      background-color: #3B4455;\n",
              "      fill: #D2E3FC;\n",
              "    }\n",
              "\n",
              "    [theme=dark] .colab-df-convert:hover {\n",
              "      background-color: #434B5C;\n",
              "      box-shadow: 0px 1px 3px 1px rgba(0, 0, 0, 0.15);\n",
              "      filter: drop-shadow(0px 1px 2px rgba(0, 0, 0, 0.3));\n",
              "      fill: #FFFFFF;\n",
              "    }\n",
              "  </style>\n",
              "\n",
              "      <script>\n",
              "        const buttonEl =\n",
              "          document.querySelector('#df-4abea97a-30fa-43a4-ac77-f27d107c54e8 button.colab-df-convert');\n",
              "        buttonEl.style.display =\n",
              "          google.colab.kernel.accessAllowed ? 'block' : 'none';\n",
              "\n",
              "        async function convertToInteractive(key) {\n",
              "          const element = document.querySelector('#df-4abea97a-30fa-43a4-ac77-f27d107c54e8');\n",
              "          const dataTable =\n",
              "            await google.colab.kernel.invokeFunction('convertToInteractive',\n",
              "                                                     [key], {});\n",
              "          if (!dataTable) return;\n",
              "\n",
              "          const docLinkHtml = 'Like what you see? Visit the ' +\n",
              "            '<a target=\"_blank\" href=https://colab.research.google.com/notebooks/data_table.ipynb>data table notebook</a>'\n",
              "            + ' to learn more about interactive tables.';\n",
              "          element.innerHTML = '';\n",
              "          dataTable['output_type'] = 'display_data';\n",
              "          await google.colab.output.renderOutput(dataTable, element);\n",
              "          const docLink = document.createElement('div');\n",
              "          docLink.innerHTML = docLinkHtml;\n",
              "          element.appendChild(docLink);\n",
              "        }\n",
              "      </script>\n",
              "    </div>\n",
              "  </div>\n",
              "  "
            ],
            "text/plain": [
              "      var_1  var_2  var_3  var_4  var_5  var_6  var_7  var_8     var_9  \\\n",
              "0  0.015625    0.0    0.0    0.0    0.0    0.0    0.0    0.0  0.355422   \n",
              "1  0.187500    0.0    0.0    0.0    0.0    0.0    0.0    0.0  0.150602   \n",
              "2  0.000000    0.0    0.0    0.0    0.0    0.0    0.0    0.0       NaN   \n",
              "3  0.156250    0.0    0.0    0.0    0.0    0.0    0.0    0.0  0.018072   \n",
              "4  0.046875    0.0    0.0    0.0    0.0    0.0    0.0    0.0  0.096386   \n",
              "\n",
              "     var_10  ...  var_5457  var_5458  var_5460  var_5461  var_5462  var_5463  \\\n",
              "0  0.106633  ...  0.012270  0.008547  0.016317       NaN       NaN  0.000000   \n",
              "1  0.106633  ...  0.055215  0.145299  0.109557       NaN  0.067114  0.049020   \n",
              "2       NaN  ...  0.079755       NaN  0.065268  0.026316  0.020134  0.068627   \n",
              "3  0.106633  ...       NaN       NaN  0.006993       NaN  0.000000       NaN   \n",
              "4  0.106633  ...  0.042945       NaN  0.055944  0.000000       NaN  0.009804   \n",
              "\n",
              "   var_5464  var_5466  var_5472  target  \n",
              "0       NaN  0.000000       NaN       0  \n",
              "1  0.073684  0.062992  0.000000       0  \n",
              "2       NaN  0.036745  0.008333       0  \n",
              "3       NaN  0.000000       NaN       0  \n",
              "4       NaN  0.005249       NaN       0  \n",
              "\n",
              "[5 rows x 3618 columns]"
            ]
          },
          "execution_count": 17,
          "metadata": {},
          "output_type": "execute_result"
        }
      ],
      "source": [
        "df.head()"
      ]
    },
    {
      "cell_type": "code",
      "execution_count": null,
      "metadata": {
        "colab": {
          "base_uri": "https://localhost:8080/"
        },
        "id": "Os2ZmPjPXYrC",
        "outputId": "14b09d02-00c8-4565-d666-de510a07f62b"
      },
      "outputs": [
        {
          "name": "stdout",
          "output_type": "stream",
          "text": [
            "True\n"
          ]
        }
      ],
      "source": [
        "print(np.any(np.isnan(df))) # true indicates it has nan values"
      ]
    },
    {
      "cell_type": "code",
      "execution_count": null,
      "metadata": {
        "id": "XYUJCK2x-QUI"
      },
      "outputs": [],
      "source": [
        "dff=df.iloc[:,:-1]\n",
        "dff\n",
        "y=df.iloc[:,-1]"
      ]
    },
    {
      "cell_type": "code",
      "execution_count": null,
      "metadata": {
        "colab": {
          "base_uri": "https://localhost:8080/",
          "height": 279
        },
        "id": "NojUunMtU5vw",
        "outputId": "a97caa8f-d1d0-4422-9d99-e6ca74158276"
      },
      "outputs": [
        {
          "data": {
            "text/html": [
              "\n",
              "  <div id=\"df-c7bd1c02-698b-452f-9a4e-cb974c47ed56\">\n",
              "    <div class=\"colab-df-container\">\n",
              "      <div>\n",
              "<style scoped>\n",
              "    .dataframe tbody tr th:only-of-type {\n",
              "        vertical-align: middle;\n",
              "    }\n",
              "\n",
              "    .dataframe tbody tr th {\n",
              "        vertical-align: top;\n",
              "    }\n",
              "\n",
              "    .dataframe thead th {\n",
              "        text-align: right;\n",
              "    }\n",
              "</style>\n",
              "<table border=\"1\" class=\"dataframe\">\n",
              "  <thead>\n",
              "    <tr style=\"text-align: right;\">\n",
              "      <th></th>\n",
              "      <th>var_1</th>\n",
              "      <th>var_2</th>\n",
              "      <th>var_3</th>\n",
              "      <th>var_4</th>\n",
              "      <th>var_5</th>\n",
              "      <th>var_6</th>\n",
              "      <th>var_7</th>\n",
              "      <th>var_8</th>\n",
              "      <th>var_9</th>\n",
              "      <th>var_10</th>\n",
              "      <th>...</th>\n",
              "      <th>var_5456</th>\n",
              "      <th>var_5457</th>\n",
              "      <th>var_5458</th>\n",
              "      <th>var_5460</th>\n",
              "      <th>var_5461</th>\n",
              "      <th>var_5462</th>\n",
              "      <th>var_5463</th>\n",
              "      <th>var_5464</th>\n",
              "      <th>var_5466</th>\n",
              "      <th>var_5472</th>\n",
              "    </tr>\n",
              "  </thead>\n",
              "  <tbody>\n",
              "    <tr>\n",
              "      <th>0</th>\n",
              "      <td>0.015625</td>\n",
              "      <td>0.0</td>\n",
              "      <td>0.0</td>\n",
              "      <td>0.0</td>\n",
              "      <td>0.0</td>\n",
              "      <td>0.0</td>\n",
              "      <td>0.0</td>\n",
              "      <td>0.0</td>\n",
              "      <td>0.355422</td>\n",
              "      <td>0.106633</td>\n",
              "      <td>...</td>\n",
              "      <td>0.011905</td>\n",
              "      <td>0.012270</td>\n",
              "      <td>0.008547</td>\n",
              "      <td>0.016317</td>\n",
              "      <td>NaN</td>\n",
              "      <td>NaN</td>\n",
              "      <td>0.000000</td>\n",
              "      <td>NaN</td>\n",
              "      <td>0.000000</td>\n",
              "      <td>NaN</td>\n",
              "    </tr>\n",
              "    <tr>\n",
              "      <th>1</th>\n",
              "      <td>0.187500</td>\n",
              "      <td>0.0</td>\n",
              "      <td>0.0</td>\n",
              "      <td>0.0</td>\n",
              "      <td>0.0</td>\n",
              "      <td>0.0</td>\n",
              "      <td>0.0</td>\n",
              "      <td>0.0</td>\n",
              "      <td>0.150602</td>\n",
              "      <td>0.106633</td>\n",
              "      <td>...</td>\n",
              "      <td>0.107143</td>\n",
              "      <td>0.055215</td>\n",
              "      <td>0.145299</td>\n",
              "      <td>0.109557</td>\n",
              "      <td>NaN</td>\n",
              "      <td>0.067114</td>\n",
              "      <td>0.049020</td>\n",
              "      <td>0.073684</td>\n",
              "      <td>0.062992</td>\n",
              "      <td>0.000000</td>\n",
              "    </tr>\n",
              "    <tr>\n",
              "      <th>2</th>\n",
              "      <td>0.000000</td>\n",
              "      <td>0.0</td>\n",
              "      <td>0.0</td>\n",
              "      <td>0.0</td>\n",
              "      <td>0.0</td>\n",
              "      <td>0.0</td>\n",
              "      <td>0.0</td>\n",
              "      <td>0.0</td>\n",
              "      <td>NaN</td>\n",
              "      <td>NaN</td>\n",
              "      <td>...</td>\n",
              "      <td>0.047619</td>\n",
              "      <td>0.079755</td>\n",
              "      <td>NaN</td>\n",
              "      <td>0.065268</td>\n",
              "      <td>0.026316</td>\n",
              "      <td>0.020134</td>\n",
              "      <td>0.068627</td>\n",
              "      <td>NaN</td>\n",
              "      <td>0.036745</td>\n",
              "      <td>0.008333</td>\n",
              "    </tr>\n",
              "    <tr>\n",
              "      <th>3</th>\n",
              "      <td>0.156250</td>\n",
              "      <td>0.0</td>\n",
              "      <td>0.0</td>\n",
              "      <td>0.0</td>\n",
              "      <td>0.0</td>\n",
              "      <td>0.0</td>\n",
              "      <td>0.0</td>\n",
              "      <td>0.0</td>\n",
              "      <td>0.018072</td>\n",
              "      <td>0.106633</td>\n",
              "      <td>...</td>\n",
              "      <td>0.005952</td>\n",
              "      <td>NaN</td>\n",
              "      <td>NaN</td>\n",
              "      <td>0.006993</td>\n",
              "      <td>NaN</td>\n",
              "      <td>0.000000</td>\n",
              "      <td>NaN</td>\n",
              "      <td>NaN</td>\n",
              "      <td>0.000000</td>\n",
              "      <td>NaN</td>\n",
              "    </tr>\n",
              "    <tr>\n",
              "      <th>4</th>\n",
              "      <td>0.046875</td>\n",
              "      <td>0.0</td>\n",
              "      <td>0.0</td>\n",
              "      <td>0.0</td>\n",
              "      <td>0.0</td>\n",
              "      <td>0.0</td>\n",
              "      <td>0.0</td>\n",
              "      <td>0.0</td>\n",
              "      <td>0.096386</td>\n",
              "      <td>0.106633</td>\n",
              "      <td>...</td>\n",
              "      <td>0.017857</td>\n",
              "      <td>0.042945</td>\n",
              "      <td>NaN</td>\n",
              "      <td>0.055944</td>\n",
              "      <td>0.000000</td>\n",
              "      <td>NaN</td>\n",
              "      <td>0.009804</td>\n",
              "      <td>NaN</td>\n",
              "      <td>0.005249</td>\n",
              "      <td>NaN</td>\n",
              "    </tr>\n",
              "  </tbody>\n",
              "</table>\n",
              "<p>5 rows × 3617 columns</p>\n",
              "</div>\n",
              "      <button class=\"colab-df-convert\" onclick=\"convertToInteractive('df-c7bd1c02-698b-452f-9a4e-cb974c47ed56')\"\n",
              "              title=\"Convert this dataframe to an interactive table.\"\n",
              "              style=\"display:none;\">\n",
              "        \n",
              "  <svg xmlns=\"http://www.w3.org/2000/svg\" height=\"24px\"viewBox=\"0 0 24 24\"\n",
              "       width=\"24px\">\n",
              "    <path d=\"M0 0h24v24H0V0z\" fill=\"none\"/>\n",
              "    <path d=\"M18.56 5.44l.94 2.06.94-2.06 2.06-.94-2.06-.94-.94-2.06-.94 2.06-2.06.94zm-11 1L8.5 8.5l.94-2.06 2.06-.94-2.06-.94L8.5 2.5l-.94 2.06-2.06.94zm10 10l.94 2.06.94-2.06 2.06-.94-2.06-.94-.94-2.06-.94 2.06-2.06.94z\"/><path d=\"M17.41 7.96l-1.37-1.37c-.4-.4-.92-.59-1.43-.59-.52 0-1.04.2-1.43.59L10.3 9.45l-7.72 7.72c-.78.78-.78 2.05 0 2.83L4 21.41c.39.39.9.59 1.41.59.51 0 1.02-.2 1.41-.59l7.78-7.78 2.81-2.81c.8-.78.8-2.07 0-2.86zM5.41 20L4 18.59l7.72-7.72 1.47 1.35L5.41 20z\"/>\n",
              "  </svg>\n",
              "      </button>\n",
              "      \n",
              "  <style>\n",
              "    .colab-df-container {\n",
              "      display:flex;\n",
              "      flex-wrap:wrap;\n",
              "      gap: 12px;\n",
              "    }\n",
              "\n",
              "    .colab-df-convert {\n",
              "      background-color: #E8F0FE;\n",
              "      border: none;\n",
              "      border-radius: 50%;\n",
              "      cursor: pointer;\n",
              "      display: none;\n",
              "      fill: #1967D2;\n",
              "      height: 32px;\n",
              "      padding: 0 0 0 0;\n",
              "      width: 32px;\n",
              "    }\n",
              "\n",
              "    .colab-df-convert:hover {\n",
              "      background-color: #E2EBFA;\n",
              "      box-shadow: 0px 1px 2px rgba(60, 64, 67, 0.3), 0px 1px 3px 1px rgba(60, 64, 67, 0.15);\n",
              "      fill: #174EA6;\n",
              "    }\n",
              "\n",
              "    [theme=dark] .colab-df-convert {\n",
              "      background-color: #3B4455;\n",
              "      fill: #D2E3FC;\n",
              "    }\n",
              "\n",
              "    [theme=dark] .colab-df-convert:hover {\n",
              "      background-color: #434B5C;\n",
              "      box-shadow: 0px 1px 3px 1px rgba(0, 0, 0, 0.15);\n",
              "      filter: drop-shadow(0px 1px 2px rgba(0, 0, 0, 0.3));\n",
              "      fill: #FFFFFF;\n",
              "    }\n",
              "  </style>\n",
              "\n",
              "      <script>\n",
              "        const buttonEl =\n",
              "          document.querySelector('#df-c7bd1c02-698b-452f-9a4e-cb974c47ed56 button.colab-df-convert');\n",
              "        buttonEl.style.display =\n",
              "          google.colab.kernel.accessAllowed ? 'block' : 'none';\n",
              "\n",
              "        async function convertToInteractive(key) {\n",
              "          const element = document.querySelector('#df-c7bd1c02-698b-452f-9a4e-cb974c47ed56');\n",
              "          const dataTable =\n",
              "            await google.colab.kernel.invokeFunction('convertToInteractive',\n",
              "                                                     [key], {});\n",
              "          if (!dataTable) return;\n",
              "\n",
              "          const docLinkHtml = 'Like what you see? Visit the ' +\n",
              "            '<a target=\"_blank\" href=https://colab.research.google.com/notebooks/data_table.ipynb>data table notebook</a>'\n",
              "            + ' to learn more about interactive tables.';\n",
              "          element.innerHTML = '';\n",
              "          dataTable['output_type'] = 'display_data';\n",
              "          await google.colab.output.renderOutput(dataTable, element);\n",
              "          const docLink = document.createElement('div');\n",
              "          docLink.innerHTML = docLinkHtml;\n",
              "          element.appendChild(docLink);\n",
              "        }\n",
              "      </script>\n",
              "    </div>\n",
              "  </div>\n",
              "  "
            ],
            "text/plain": [
              "      var_1  var_2  var_3  var_4  var_5  var_6  var_7  var_8     var_9  \\\n",
              "0  0.015625    0.0    0.0    0.0    0.0    0.0    0.0    0.0  0.355422   \n",
              "1  0.187500    0.0    0.0    0.0    0.0    0.0    0.0    0.0  0.150602   \n",
              "2  0.000000    0.0    0.0    0.0    0.0    0.0    0.0    0.0       NaN   \n",
              "3  0.156250    0.0    0.0    0.0    0.0    0.0    0.0    0.0  0.018072   \n",
              "4  0.046875    0.0    0.0    0.0    0.0    0.0    0.0    0.0  0.096386   \n",
              "\n",
              "     var_10  ...  var_5456  var_5457  var_5458  var_5460  var_5461  var_5462  \\\n",
              "0  0.106633  ...  0.011905  0.012270  0.008547  0.016317       NaN       NaN   \n",
              "1  0.106633  ...  0.107143  0.055215  0.145299  0.109557       NaN  0.067114   \n",
              "2       NaN  ...  0.047619  0.079755       NaN  0.065268  0.026316  0.020134   \n",
              "3  0.106633  ...  0.005952       NaN       NaN  0.006993       NaN  0.000000   \n",
              "4  0.106633  ...  0.017857  0.042945       NaN  0.055944  0.000000       NaN   \n",
              "\n",
              "   var_5463  var_5464  var_5466  var_5472  \n",
              "0  0.000000       NaN  0.000000       NaN  \n",
              "1  0.049020  0.073684  0.062992  0.000000  \n",
              "2  0.068627       NaN  0.036745  0.008333  \n",
              "3       NaN       NaN  0.000000       NaN  \n",
              "4  0.009804       NaN  0.005249       NaN  \n",
              "\n",
              "[5 rows x 3617 columns]"
            ]
          },
          "execution_count": 20,
          "metadata": {},
          "output_type": "execute_result"
        }
      ],
      "source": [
        "dff.head()"
      ]
    },
    {
      "cell_type": "code",
      "execution_count": null,
      "metadata": {
        "id": "85gAh9Yk07AS"
      },
      "outputs": [],
      "source": [
        "dff.to_csv('data.csv')"
      ]
    },
    {
      "cell_type": "code",
      "execution_count": null,
      "metadata": {
        "id": "9PdXpa76z72h"
      },
      "outputs": [],
      "source": [
        "import dask.dataframe as dd \n",
        "df_da=dd.read_csv('data.csv') # reading the dataframe as dask_dataframe to make it into chunks and preprocessing ( any process ) will be easy"
      ]
    },
    {
      "cell_type": "code",
      "execution_count": null,
      "metadata": {
        "id": "NtsXSBVhV0DK"
      },
      "outputs": [],
      "source": [
        "def dd(df):\n",
        "  df = df.loc[:, ~df.columns.str.contains('^Unnamed')]\n",
        "  return df\n",
        "df_da=dd(df_da)"
      ]
    },
    {
      "cell_type": "code",
      "execution_count": null,
      "metadata": {
        "colab": {
          "base_uri": "https://localhost:8080/",
          "height": 279
        },
        "id": "fc3nLrdxWhjX",
        "outputId": "7f7d9130-5f7f-4bbc-f3ec-6a088c8e47d1"
      },
      "outputs": [
        {
          "data": {
            "text/html": [
              "\n",
              "  <div id=\"df-af92874f-1692-4476-8030-8a1b31fdbb99\">\n",
              "    <div class=\"colab-df-container\">\n",
              "      <div>\n",
              "<style scoped>\n",
              "    .dataframe tbody tr th:only-of-type {\n",
              "        vertical-align: middle;\n",
              "    }\n",
              "\n",
              "    .dataframe tbody tr th {\n",
              "        vertical-align: top;\n",
              "    }\n",
              "\n",
              "    .dataframe thead th {\n",
              "        text-align: right;\n",
              "    }\n",
              "</style>\n",
              "<table border=\"1\" class=\"dataframe\">\n",
              "  <thead>\n",
              "    <tr style=\"text-align: right;\">\n",
              "      <th></th>\n",
              "      <th>var_1</th>\n",
              "      <th>var_2</th>\n",
              "      <th>var_3</th>\n",
              "      <th>var_4</th>\n",
              "      <th>var_5</th>\n",
              "      <th>var_6</th>\n",
              "      <th>var_7</th>\n",
              "      <th>var_8</th>\n",
              "      <th>var_9</th>\n",
              "      <th>var_10</th>\n",
              "      <th>...</th>\n",
              "      <th>var_5456</th>\n",
              "      <th>var_5457</th>\n",
              "      <th>var_5458</th>\n",
              "      <th>var_5460</th>\n",
              "      <th>var_5461</th>\n",
              "      <th>var_5462</th>\n",
              "      <th>var_5463</th>\n",
              "      <th>var_5464</th>\n",
              "      <th>var_5466</th>\n",
              "      <th>var_5472</th>\n",
              "    </tr>\n",
              "  </thead>\n",
              "  <tbody>\n",
              "    <tr>\n",
              "      <th>0</th>\n",
              "      <td>0.015625</td>\n",
              "      <td>0.0</td>\n",
              "      <td>0.0</td>\n",
              "      <td>0.0</td>\n",
              "      <td>0.0</td>\n",
              "      <td>0.0</td>\n",
              "      <td>0.0</td>\n",
              "      <td>0.0</td>\n",
              "      <td>0.355422</td>\n",
              "      <td>0.106633</td>\n",
              "      <td>...</td>\n",
              "      <td>0.011905</td>\n",
              "      <td>0.012270</td>\n",
              "      <td>0.008547</td>\n",
              "      <td>0.016317</td>\n",
              "      <td>NaN</td>\n",
              "      <td>NaN</td>\n",
              "      <td>0.000000</td>\n",
              "      <td>NaN</td>\n",
              "      <td>0.000000</td>\n",
              "      <td>NaN</td>\n",
              "    </tr>\n",
              "    <tr>\n",
              "      <th>1</th>\n",
              "      <td>0.187500</td>\n",
              "      <td>0.0</td>\n",
              "      <td>0.0</td>\n",
              "      <td>0.0</td>\n",
              "      <td>0.0</td>\n",
              "      <td>0.0</td>\n",
              "      <td>0.0</td>\n",
              "      <td>0.0</td>\n",
              "      <td>0.150602</td>\n",
              "      <td>0.106633</td>\n",
              "      <td>...</td>\n",
              "      <td>0.107143</td>\n",
              "      <td>0.055215</td>\n",
              "      <td>0.145299</td>\n",
              "      <td>0.109557</td>\n",
              "      <td>NaN</td>\n",
              "      <td>0.067114</td>\n",
              "      <td>0.049020</td>\n",
              "      <td>0.073684</td>\n",
              "      <td>0.062992</td>\n",
              "      <td>0.000000</td>\n",
              "    </tr>\n",
              "    <tr>\n",
              "      <th>2</th>\n",
              "      <td>0.000000</td>\n",
              "      <td>0.0</td>\n",
              "      <td>0.0</td>\n",
              "      <td>0.0</td>\n",
              "      <td>0.0</td>\n",
              "      <td>0.0</td>\n",
              "      <td>0.0</td>\n",
              "      <td>0.0</td>\n",
              "      <td>NaN</td>\n",
              "      <td>NaN</td>\n",
              "      <td>...</td>\n",
              "      <td>0.047619</td>\n",
              "      <td>0.079755</td>\n",
              "      <td>NaN</td>\n",
              "      <td>0.065268</td>\n",
              "      <td>0.026316</td>\n",
              "      <td>0.020134</td>\n",
              "      <td>0.068627</td>\n",
              "      <td>NaN</td>\n",
              "      <td>0.036745</td>\n",
              "      <td>0.008333</td>\n",
              "    </tr>\n",
              "    <tr>\n",
              "      <th>3</th>\n",
              "      <td>0.156250</td>\n",
              "      <td>0.0</td>\n",
              "      <td>0.0</td>\n",
              "      <td>0.0</td>\n",
              "      <td>0.0</td>\n",
              "      <td>0.0</td>\n",
              "      <td>0.0</td>\n",
              "      <td>0.0</td>\n",
              "      <td>0.018072</td>\n",
              "      <td>0.106633</td>\n",
              "      <td>...</td>\n",
              "      <td>0.005952</td>\n",
              "      <td>NaN</td>\n",
              "      <td>NaN</td>\n",
              "      <td>0.006993</td>\n",
              "      <td>NaN</td>\n",
              "      <td>0.000000</td>\n",
              "      <td>NaN</td>\n",
              "      <td>NaN</td>\n",
              "      <td>0.000000</td>\n",
              "      <td>NaN</td>\n",
              "    </tr>\n",
              "    <tr>\n",
              "      <th>4</th>\n",
              "      <td>0.046875</td>\n",
              "      <td>0.0</td>\n",
              "      <td>0.0</td>\n",
              "      <td>0.0</td>\n",
              "      <td>0.0</td>\n",
              "      <td>0.0</td>\n",
              "      <td>0.0</td>\n",
              "      <td>0.0</td>\n",
              "      <td>0.096386</td>\n",
              "      <td>0.106633</td>\n",
              "      <td>...</td>\n",
              "      <td>0.017857</td>\n",
              "      <td>0.042945</td>\n",
              "      <td>NaN</td>\n",
              "      <td>0.055944</td>\n",
              "      <td>0.000000</td>\n",
              "      <td>NaN</td>\n",
              "      <td>0.009804</td>\n",
              "      <td>NaN</td>\n",
              "      <td>0.005249</td>\n",
              "      <td>NaN</td>\n",
              "    </tr>\n",
              "  </tbody>\n",
              "</table>\n",
              "<p>5 rows × 3617 columns</p>\n",
              "</div>\n",
              "      <button class=\"colab-df-convert\" onclick=\"convertToInteractive('df-af92874f-1692-4476-8030-8a1b31fdbb99')\"\n",
              "              title=\"Convert this dataframe to an interactive table.\"\n",
              "              style=\"display:none;\">\n",
              "        \n",
              "  <svg xmlns=\"http://www.w3.org/2000/svg\" height=\"24px\"viewBox=\"0 0 24 24\"\n",
              "       width=\"24px\">\n",
              "    <path d=\"M0 0h24v24H0V0z\" fill=\"none\"/>\n",
              "    <path d=\"M18.56 5.44l.94 2.06.94-2.06 2.06-.94-2.06-.94-.94-2.06-.94 2.06-2.06.94zm-11 1L8.5 8.5l.94-2.06 2.06-.94-2.06-.94L8.5 2.5l-.94 2.06-2.06.94zm10 10l.94 2.06.94-2.06 2.06-.94-2.06-.94-.94-2.06-.94 2.06-2.06.94z\"/><path d=\"M17.41 7.96l-1.37-1.37c-.4-.4-.92-.59-1.43-.59-.52 0-1.04.2-1.43.59L10.3 9.45l-7.72 7.72c-.78.78-.78 2.05 0 2.83L4 21.41c.39.39.9.59 1.41.59.51 0 1.02-.2 1.41-.59l7.78-7.78 2.81-2.81c.8-.78.8-2.07 0-2.86zM5.41 20L4 18.59l7.72-7.72 1.47 1.35L5.41 20z\"/>\n",
              "  </svg>\n",
              "      </button>\n",
              "      \n",
              "  <style>\n",
              "    .colab-df-container {\n",
              "      display:flex;\n",
              "      flex-wrap:wrap;\n",
              "      gap: 12px;\n",
              "    }\n",
              "\n",
              "    .colab-df-convert {\n",
              "      background-color: #E8F0FE;\n",
              "      border: none;\n",
              "      border-radius: 50%;\n",
              "      cursor: pointer;\n",
              "      display: none;\n",
              "      fill: #1967D2;\n",
              "      height: 32px;\n",
              "      padding: 0 0 0 0;\n",
              "      width: 32px;\n",
              "    }\n",
              "\n",
              "    .colab-df-convert:hover {\n",
              "      background-color: #E2EBFA;\n",
              "      box-shadow: 0px 1px 2px rgba(60, 64, 67, 0.3), 0px 1px 3px 1px rgba(60, 64, 67, 0.15);\n",
              "      fill: #174EA6;\n",
              "    }\n",
              "\n",
              "    [theme=dark] .colab-df-convert {\n",
              "      background-color: #3B4455;\n",
              "      fill: #D2E3FC;\n",
              "    }\n",
              "\n",
              "    [theme=dark] .colab-df-convert:hover {\n",
              "      background-color: #434B5C;\n",
              "      box-shadow: 0px 1px 3px 1px rgba(0, 0, 0, 0.15);\n",
              "      filter: drop-shadow(0px 1px 2px rgba(0, 0, 0, 0.3));\n",
              "      fill: #FFFFFF;\n",
              "    }\n",
              "  </style>\n",
              "\n",
              "      <script>\n",
              "        const buttonEl =\n",
              "          document.querySelector('#df-af92874f-1692-4476-8030-8a1b31fdbb99 button.colab-df-convert');\n",
              "        buttonEl.style.display =\n",
              "          google.colab.kernel.accessAllowed ? 'block' : 'none';\n",
              "\n",
              "        async function convertToInteractive(key) {\n",
              "          const element = document.querySelector('#df-af92874f-1692-4476-8030-8a1b31fdbb99');\n",
              "          const dataTable =\n",
              "            await google.colab.kernel.invokeFunction('convertToInteractive',\n",
              "                                                     [key], {});\n",
              "          if (!dataTable) return;\n",
              "\n",
              "          const docLinkHtml = 'Like what you see? Visit the ' +\n",
              "            '<a target=\"_blank\" href=https://colab.research.google.com/notebooks/data_table.ipynb>data table notebook</a>'\n",
              "            + ' to learn more about interactive tables.';\n",
              "          element.innerHTML = '';\n",
              "          dataTable['output_type'] = 'display_data';\n",
              "          await google.colab.output.renderOutput(dataTable, element);\n",
              "          const docLink = document.createElement('div');\n",
              "          docLink.innerHTML = docLinkHtml;\n",
              "          element.appendChild(docLink);\n",
              "        }\n",
              "      </script>\n",
              "    </div>\n",
              "  </div>\n",
              "  "
            ],
            "text/plain": [
              "      var_1  var_2  var_3  var_4  var_5  var_6  var_7  var_8     var_9  \\\n",
              "0  0.015625    0.0    0.0    0.0    0.0    0.0    0.0    0.0  0.355422   \n",
              "1  0.187500    0.0    0.0    0.0    0.0    0.0    0.0    0.0  0.150602   \n",
              "2  0.000000    0.0    0.0    0.0    0.0    0.0    0.0    0.0       NaN   \n",
              "3  0.156250    0.0    0.0    0.0    0.0    0.0    0.0    0.0  0.018072   \n",
              "4  0.046875    0.0    0.0    0.0    0.0    0.0    0.0    0.0  0.096386   \n",
              "\n",
              "     var_10  ...  var_5456  var_5457  var_5458  var_5460  var_5461  var_5462  \\\n",
              "0  0.106633  ...  0.011905  0.012270  0.008547  0.016317       NaN       NaN   \n",
              "1  0.106633  ...  0.107143  0.055215  0.145299  0.109557       NaN  0.067114   \n",
              "2       NaN  ...  0.047619  0.079755       NaN  0.065268  0.026316  0.020134   \n",
              "3  0.106633  ...  0.005952       NaN       NaN  0.006993       NaN  0.000000   \n",
              "4  0.106633  ...  0.017857  0.042945       NaN  0.055944  0.000000       NaN   \n",
              "\n",
              "   var_5463  var_5464  var_5466  var_5472  \n",
              "0  0.000000       NaN  0.000000       NaN  \n",
              "1  0.049020  0.073684  0.062992  0.000000  \n",
              "2  0.068627       NaN  0.036745  0.008333  \n",
              "3       NaN       NaN  0.000000       NaN  \n",
              "4  0.009804       NaN  0.005249       NaN  \n",
              "\n",
              "[5 rows x 3617 columns]"
            ]
          },
          "execution_count": 24,
          "metadata": {},
          "output_type": "execute_result"
        }
      ],
      "source": [
        "df_da.head()"
      ]
    },
    {
      "cell_type": "code",
      "execution_count": null,
      "metadata": {
        "id": "odPYfsCL_2N5"
      },
      "outputs": [],
      "source": [
        "# converting into numpy array\n",
        "def mgen(df):\n",
        "  data=df.values\n",
        "  return data\n",
        "df_dask1=mgen(df_da)"
      ]
    },
    {
      "cell_type": "code",
      "execution_count": null,
      "metadata": {
        "colab": {
          "base_uri": "https://localhost:8080/",
          "height": 119
        },
        "id": "w5Skl-IoV2aA",
        "outputId": "74964d16-46f6-48d8-a8ff-fc10f128afaf"
      },
      "outputs": [
        {
          "data": {
            "text/html": [
              "<table>\n",
              "    <tr>\n",
              "        <td>\n",
              "            <table style=\"border-collapse: collapse;\">\n",
              "                <thead>\n",
              "                    <tr>\n",
              "                        <td> </td>\n",
              "                        <th> Array </th>\n",
              "                        <th> Chunk </th>\n",
              "                    </tr>\n",
              "                </thead>\n",
              "                <tbody>\n",
              "                    \n",
              "                    <tr>\n",
              "                        <th> Bytes </th>\n",
              "                        <td> unknown </td>\n",
              "                        <td> unknown </td>\n",
              "                    </tr>\n",
              "                    \n",
              "                    <tr>\n",
              "                        <th> Shape </th>\n",
              "                        <td> (nan, 3617) </td>\n",
              "                        <td> (nan, 3617) </td>\n",
              "                    </tr>\n",
              "                    <tr>\n",
              "                        <th> Dask graph </th>\n",
              "                        <td colspan=\"2\"> 8 chunks in 3 graph layers </td>\n",
              "                    </tr>\n",
              "                    <tr>\n",
              "                        <th> Data type </th>\n",
              "                        <td colspan=\"2\"> float64 numpy.ndarray </td>\n",
              "                    </tr>\n",
              "                </tbody>\n",
              "            </table>\n",
              "        </td>\n",
              "        <td>\n",
              "        \n",
              "        </td>\n",
              "    </tr>\n",
              "</table>"
            ],
            "text/plain": [
              "dask.array<values, shape=(nan, 3617), dtype=float64, chunksize=(nan, 3617), chunktype=numpy.ndarray>"
            ]
          },
          "execution_count": 26,
          "metadata": {},
          "output_type": "execute_result"
        }
      ],
      "source": [
        "df_dask1"
      ]
    },
    {
      "cell_type": "code",
      "execution_count": null,
      "metadata": {
        "id": "Gv0BogpkQgT_"
      },
      "outputs": [],
      "source": [
        "# replacing all nan values with zero\n",
        "df_dask1[np.isnan(df_dask1)]=0"
      ]
    },
    {
      "cell_type": "code",
      "execution_count": null,
      "metadata": {
        "colab": {
          "base_uri": "https://localhost:8080/"
        },
        "id": "nd2KjGY6-pow",
        "outputId": "76172fc2-900a-4851-8356-fc6b6ced7a66"
      },
      "outputs": [
        {
          "data": {
            "text/plain": [
              "dask.array.core.Array"
            ]
          },
          "execution_count": 28,
          "metadata": {},
          "output_type": "execute_result"
        }
      ],
      "source": [
        "type(df_dask1)"
      ]
    },
    {
      "cell_type": "code",
      "execution_count": null,
      "metadata": {
        "id": "gE03uLCC3tpD"
      },
      "outputs": [],
      "source": [
        "def col(df):\n",
        "  columns=df.columns\n",
        "  return columns\n",
        "columns=col(df_da)"
      ]
    },
    {
      "cell_type": "code",
      "execution_count": null,
      "metadata": {
        "colab": {
          "base_uri": "https://localhost:8080/"
        },
        "id": "imDdMTofVOjV",
        "outputId": "3591e59f-c23f-4493-834f-f050bf4bc5ff"
      },
      "outputs": [
        {
          "data": {
            "text/plain": [
              "3617"
            ]
          },
          "execution_count": 30,
          "metadata": {},
          "output_type": "execute_result"
        }
      ],
      "source": [
        "len(columns)"
      ]
    },
    {
      "cell_type": "code",
      "execution_count": null,
      "metadata": {
        "colab": {
          "base_uri": "https://localhost:8080/"
        },
        "id": "bLcSWzG8QxJB",
        "outputId": "bcbf84ae-fe89-4247-9f88-8308a67d1709"
      },
      "outputs": [
        {
          "name": "stderr",
          "output_type": "stream",
          "text": [
            "/usr/local/lib/python3.9/dist-packages/dask/array/core.py:1712: FutureWarning: The `numpy.may_share_memory` function is not implemented by Dask array. You may want to use the da.map_blocks function or something similar to silence this warning. Your code may stop working in a future release.\n",
            "  warnings.warn(\n"
          ]
        }
      ],
      "source": [
        "# standardizing the data ( scaling the data )\n",
        "from sklearn.preprocessing import MinMaxScaler\n",
        "def minmax(df_df):\n",
        "  global scaler\n",
        "  scaler=MinMaxScaler()\n",
        "  dd=scaler.fit_transform(df_df)\n",
        "  return dd\n",
        "data_scaled=minmax(df_dask1)"
      ]
    },
    {
      "cell_type": "code",
      "execution_count": null,
      "metadata": {
        "colab": {
          "base_uri": "https://localhost:8080/"
        },
        "id": "lPBNa79HQ0M2",
        "outputId": "3e9d0932-5241-4f46-d63a-9ca98e01dc53"
      },
      "outputs": [
        {
          "data": {
            "text/plain": [
              "array([[0.015625  , 0.        , 0.        , ..., 0.        , 0.        ,\n",
              "        0.        ],\n",
              "       [0.1875    , 0.        , 0.        , ..., 0.07368421, 0.06299213,\n",
              "        0.        ],\n",
              "       [0.        , 0.        , 0.        , ..., 0.        , 0.03674541,\n",
              "        0.00833333],\n",
              "       ...,\n",
              "       [0.046875  , 0.        , 0.        , ..., 0.        , 0.01312336,\n",
              "        0.        ],\n",
              "       [0.125     , 0.        , 0.        , ..., 0.02105263, 0.05511811,\n",
              "        0.        ],\n",
              "       [0.03125   , 0.        , 0.        , ..., 0.        , 0.00262467,\n",
              "        0.        ]])"
            ]
          },
          "execution_count": 32,
          "metadata": {},
          "output_type": "execute_result"
        }
      ],
      "source": [
        "data_scaled"
      ]
    },
    {
      "cell_type": "code",
      "execution_count": null,
      "metadata": {
        "colab": {
          "base_uri": "https://localhost:8080/"
        },
        "id": "SGEwV2XDY8Gt",
        "outputId": "52bf2014-4e09-46fd-ea4b-dc67c4d49c24"
      },
      "outputs": [
        {
          "data": {
            "text/plain": [
              "3617"
            ]
          },
          "execution_count": 33,
          "metadata": {},
          "output_type": "execute_result"
        }
      ],
      "source": [
        "data_scaled.shape[1]"
      ]
    },
    {
      "cell_type": "code",
      "execution_count": null,
      "metadata": {
        "colab": {
          "base_uri": "https://localhost:8080/",
          "height": 53
        },
        "id": "DOsNM42CYxN_",
        "outputId": "8a37c2f3-91dc-4248-f796-8f8d28332bec"
      },
      "outputs": [
        {
          "data": {
            "application/vnd.google.colaboratory.intrinsic+json": {
              "type": "string"
            },
            "text/plain": [
              "'\\nfrom sklearn.decomposition import TruncatedSVD\\nimport matplotlib.pyplot as plt\\n\\nn_components = (data_scaled.shape[1])\\nsvd = TruncatedSVD(n_components=n_components)\\nsvd.fit_transform(data_scaled) \\nexplained_var_ratio = svd.explained_variance_ratio_\\nplt.plot(np.cumsum(explained_var_ratio))\\nplt.show()\\n'"
            ]
          },
          "execution_count": 34,
          "metadata": {},
          "output_type": "execute_result"
        }
      ],
      "source": [
        "\"\"\"\n",
        "from sklearn.decomposition import TruncatedSVD\n",
        "import matplotlib.pyplot as plt\n",
        "\n",
        "n_components = (data_scaled.shape[1])\n",
        "svd = TruncatedSVD(n_components=n_components)\n",
        "svd.fit_transform(data_scaled) \n",
        "explained_var_ratio = svd.explained_variance_ratio_\n",
        "plt.plot(np.cumsum(explained_var_ratio))\n",
        "plt.show()\n",
        "\"\"\""
      ]
    },
    {
      "cell_type": "code",
      "execution_count": null,
      "metadata": {
        "id": "XB4_gdp4bcxp"
      },
      "outputs": [],
      "source": [
        "# as we can observe from the above scree plot the elbow taking place at the range(0-500)\n",
        "# take n_components as 500"
      ]
    },
    {
      "cell_type": "code",
      "execution_count": null,
      "metadata": {
        "id": "OrWug63GGV2F"
      },
      "outputs": [],
      "source": [
        "from sklearn.decomposition import TruncatedSVD\n",
        "svd = TruncatedSVD(n_components=500)\n",
        "data_imputed=svd.fit_transform(data_scaled)"
      ]
    },
    {
      "cell_type": "code",
      "execution_count": null,
      "metadata": {
        "colab": {
          "base_uri": "https://localhost:8080/"
        },
        "id": "75LqnHADGeSq",
        "outputId": "e90fbcdd-ca25-4947-dfc9-cff812701363"
      },
      "outputs": [
        {
          "data": {
            "text/plain": [
              "(25000, 500)"
            ]
          },
          "execution_count": 37,
          "metadata": {},
          "output_type": "execute_result"
        }
      ],
      "source": [
        "data_imputed.shape"
      ]
    },
    {
      "cell_type": "code",
      "execution_count": null,
      "metadata": {
        "colab": {
          "base_uri": "https://localhost:8080/"
        },
        "id": "yCZ_TcueRYRY",
        "outputId": "a06a3df8-37cb-438a-b4dd-df6de8a109f1"
      },
      "outputs": [
        {
          "data": {
            "text/plain": [
              "(500, 3617)"
            ]
          },
          "execution_count": 38,
          "metadata": {},
          "output_type": "execute_result"
        }
      ],
      "source": [
        "svd.components_.shape"
      ]
    },
    {
      "cell_type": "code",
      "execution_count": null,
      "metadata": {
        "id": "TaXtOGkH1v0W"
      },
      "outputs": [],
      "source": [
        "data_imp=np.dot(data_imputed,svd.components_)"
      ]
    },
    {
      "cell_type": "code",
      "execution_count": null,
      "metadata": {
        "colab": {
          "base_uri": "https://localhost:8080/"
        },
        "id": "A2qvKXg8Rl47",
        "outputId": "a8ed8cc1-1dcc-44fe-d2ed-5a0c14b7cc98"
      },
      "outputs": [
        {
          "data": {
            "text/plain": [
              "(25000, 3617)"
            ]
          },
          "execution_count": 40,
          "metadata": {},
          "output_type": "execute_result"
        }
      ],
      "source": [
        "data_imp.shape"
      ]
    },
    {
      "cell_type": "code",
      "execution_count": null,
      "metadata": {
        "id": "alC-R6eoRuox"
      },
      "outputs": [],
      "source": [
        "# descaling the data\n",
        "final_data=scaler.inverse_transform(data_imp)"
      ]
    },
    {
      "cell_type": "code",
      "execution_count": null,
      "metadata": {
        "colab": {
          "base_uri": "https://localhost:8080/"
        },
        "id": "6ky4JqVwVmwt",
        "outputId": "ad7d62b9-0813-49ef-a229-a5a17702ca1f"
      },
      "outputs": [
        {
          "data": {
            "text/plain": [
              "array([[ 0.01666612, -0.01621666, -0.00726016, ..., -0.00402654,\n",
              "         0.00086875,  0.00064487],\n",
              "       [ 0.18847001, -0.00689684,  0.00511681, ...,  0.08274073,\n",
              "         0.06639557,  0.00048274],\n",
              "       [-0.00095246,  0.00094641,  0.02976675, ..., -0.01366746,\n",
              "         0.0265663 ,  0.00880043],\n",
              "       ...,\n",
              "       [ 0.04645136,  0.00076673,  0.00206817, ...,  0.00643746,\n",
              "         0.00887417, -0.0004267 ],\n",
              "       [ 0.12518829,  0.00157765,  0.00393965, ...,  0.02396815,\n",
              "         0.05372425,  0.00046631],\n",
              "       [ 0.03131244,  0.00166124,  0.00144633, ..., -0.00079276,\n",
              "         0.00479039, -0.00103864]])"
            ]
          },
          "execution_count": 42,
          "metadata": {},
          "output_type": "execute_result"
        }
      ],
      "source": [
        "final_data"
      ]
    },
    {
      "cell_type": "code",
      "execution_count": null,
      "metadata": {
        "colab": {
          "base_uri": "https://localhost:8080/"
        },
        "id": "bsGgxdYtcnwB",
        "outputId": "82b51dd6-90ba-4b11-f5c2-3116f1f37a01"
      },
      "outputs": [
        {
          "data": {
            "text/plain": [
              "(25000, 3617)"
            ]
          },
          "execution_count": 43,
          "metadata": {},
          "output_type": "execute_result"
        }
      ],
      "source": [
        "final_data.shape"
      ]
    },
    {
      "cell_type": "code",
      "execution_count": null,
      "metadata": {
        "id": "FCx6x_HpSlU2"
      },
      "outputs": [],
      "source": [
        "# converting it into a dataframe\n",
        "final_dataframe=pd.DataFrame(final_data,columns=columns)"
      ]
    },
    {
      "cell_type": "code",
      "execution_count": null,
      "metadata": {
        "colab": {
          "base_uri": "https://localhost:8080/",
          "height": 386
        },
        "id": "hCxREZxZSvGd",
        "outputId": "43265157-5154-4074-9db0-7f5afbaebe3e"
      },
      "outputs": [
        {
          "data": {
            "text/html": [
              "\n",
              "  <div id=\"df-f1e191bc-ccf4-4226-8fef-34d731558457\">\n",
              "    <div class=\"colab-df-container\">\n",
              "      <div>\n",
              "<style scoped>\n",
              "    .dataframe tbody tr th:only-of-type {\n",
              "        vertical-align: middle;\n",
              "    }\n",
              "\n",
              "    .dataframe tbody tr th {\n",
              "        vertical-align: top;\n",
              "    }\n",
              "\n",
              "    .dataframe thead th {\n",
              "        text-align: right;\n",
              "    }\n",
              "</style>\n",
              "<table border=\"1\" class=\"dataframe\">\n",
              "  <thead>\n",
              "    <tr style=\"text-align: right;\">\n",
              "      <th></th>\n",
              "      <th>var_1</th>\n",
              "      <th>var_2</th>\n",
              "      <th>var_3</th>\n",
              "      <th>var_4</th>\n",
              "      <th>var_5</th>\n",
              "      <th>var_6</th>\n",
              "      <th>var_7</th>\n",
              "      <th>var_8</th>\n",
              "      <th>var_9</th>\n",
              "      <th>var_10</th>\n",
              "      <th>...</th>\n",
              "      <th>var_5456</th>\n",
              "      <th>var_5457</th>\n",
              "      <th>var_5458</th>\n",
              "      <th>var_5460</th>\n",
              "      <th>var_5461</th>\n",
              "      <th>var_5462</th>\n",
              "      <th>var_5463</th>\n",
              "      <th>var_5464</th>\n",
              "      <th>var_5466</th>\n",
              "      <th>var_5472</th>\n",
              "    </tr>\n",
              "  </thead>\n",
              "  <tbody>\n",
              "    <tr>\n",
              "      <th>0</th>\n",
              "      <td>0.016666</td>\n",
              "      <td>-0.016217</td>\n",
              "      <td>-0.007260</td>\n",
              "      <td>-0.001167</td>\n",
              "      <td>-0.001961</td>\n",
              "      <td>-9.780475e-17</td>\n",
              "      <td>0.000843</td>\n",
              "      <td>0.007113</td>\n",
              "      <td>0.355386</td>\n",
              "      <td>0.108867</td>\n",
              "      <td>...</td>\n",
              "      <td>0.012301</td>\n",
              "      <td>0.012169</td>\n",
              "      <td>0.009907</td>\n",
              "      <td>0.016239</td>\n",
              "      <td>0.001024</td>\n",
              "      <td>0.000627</td>\n",
              "      <td>-0.002544</td>\n",
              "      <td>-0.004027</td>\n",
              "      <td>0.000869</td>\n",
              "      <td>0.000645</td>\n",
              "    </tr>\n",
              "    <tr>\n",
              "      <th>1</th>\n",
              "      <td>0.188470</td>\n",
              "      <td>-0.006897</td>\n",
              "      <td>0.005117</td>\n",
              "      <td>-0.000869</td>\n",
              "      <td>0.001939</td>\n",
              "      <td>-2.453666e-16</td>\n",
              "      <td>0.000570</td>\n",
              "      <td>0.001909</td>\n",
              "      <td>0.151031</td>\n",
              "      <td>0.101638</td>\n",
              "      <td>...</td>\n",
              "      <td>0.111292</td>\n",
              "      <td>0.055825</td>\n",
              "      <td>0.134673</td>\n",
              "      <td>0.108834</td>\n",
              "      <td>0.005527</td>\n",
              "      <td>0.064554</td>\n",
              "      <td>0.042783</td>\n",
              "      <td>0.082741</td>\n",
              "      <td>0.066396</td>\n",
              "      <td>0.000483</td>\n",
              "    </tr>\n",
              "    <tr>\n",
              "      <th>2</th>\n",
              "      <td>-0.000952</td>\n",
              "      <td>0.000946</td>\n",
              "      <td>0.029767</td>\n",
              "      <td>-0.004795</td>\n",
              "      <td>0.016556</td>\n",
              "      <td>-3.150533e-17</td>\n",
              "      <td>-0.003638</td>\n",
              "      <td>0.000341</td>\n",
              "      <td>0.000603</td>\n",
              "      <td>0.008201</td>\n",
              "      <td>...</td>\n",
              "      <td>0.014900</td>\n",
              "      <td>0.119798</td>\n",
              "      <td>-0.001963</td>\n",
              "      <td>0.069309</td>\n",
              "      <td>0.014189</td>\n",
              "      <td>0.003953</td>\n",
              "      <td>0.086448</td>\n",
              "      <td>-0.013667</td>\n",
              "      <td>0.026566</td>\n",
              "      <td>0.008800</td>\n",
              "    </tr>\n",
              "    <tr>\n",
              "      <th>3</th>\n",
              "      <td>0.155828</td>\n",
              "      <td>0.001101</td>\n",
              "      <td>-0.004035</td>\n",
              "      <td>0.000356</td>\n",
              "      <td>0.001636</td>\n",
              "      <td>2.148918e-16</td>\n",
              "      <td>-0.000312</td>\n",
              "      <td>-0.001120</td>\n",
              "      <td>0.018491</td>\n",
              "      <td>0.104389</td>\n",
              "      <td>...</td>\n",
              "      <td>0.008845</td>\n",
              "      <td>-0.000743</td>\n",
              "      <td>-0.002091</td>\n",
              "      <td>0.006790</td>\n",
              "      <td>0.002196</td>\n",
              "      <td>-0.001494</td>\n",
              "      <td>-0.001098</td>\n",
              "      <td>0.001895</td>\n",
              "      <td>0.002471</td>\n",
              "      <td>0.000407</td>\n",
              "    </tr>\n",
              "    <tr>\n",
              "      <th>4</th>\n",
              "      <td>0.046477</td>\n",
              "      <td>-0.001981</td>\n",
              "      <td>0.000351</td>\n",
              "      <td>-0.001402</td>\n",
              "      <td>0.001498</td>\n",
              "      <td>-6.211793e-17</td>\n",
              "      <td>0.001565</td>\n",
              "      <td>0.000503</td>\n",
              "      <td>0.096011</td>\n",
              "      <td>0.106249</td>\n",
              "      <td>...</td>\n",
              "      <td>0.026887</td>\n",
              "      <td>0.046859</td>\n",
              "      <td>0.010151</td>\n",
              "      <td>0.059255</td>\n",
              "      <td>0.013718</td>\n",
              "      <td>-0.008039</td>\n",
              "      <td>0.005160</td>\n",
              "      <td>-0.005146</td>\n",
              "      <td>0.003147</td>\n",
              "      <td>-0.001686</td>\n",
              "    </tr>\n",
              "  </tbody>\n",
              "</table>\n",
              "<p>5 rows × 3596 columns</p>\n",
              "</div>\n",
              "      <button class=\"colab-df-convert\" onclick=\"convertToInteractive('df-f1e191bc-ccf4-4226-8fef-34d731558457')\"\n",
              "              title=\"Convert this dataframe to an interactive table.\"\n",
              "              style=\"display:none;\">\n",
              "        \n",
              "  <svg xmlns=\"http://www.w3.org/2000/svg\" height=\"24px\"viewBox=\"0 0 24 24\"\n",
              "       width=\"24px\">\n",
              "    <path d=\"M0 0h24v24H0V0z\" fill=\"none\"/>\n",
              "    <path d=\"M18.56 5.44l.94 2.06.94-2.06 2.06-.94-2.06-.94-.94-2.06-.94 2.06-2.06.94zm-11 1L8.5 8.5l.94-2.06 2.06-.94-2.06-.94L8.5 2.5l-.94 2.06-2.06.94zm10 10l.94 2.06.94-2.06 2.06-.94-2.06-.94-.94-2.06-.94 2.06-2.06.94z\"/><path d=\"M17.41 7.96l-1.37-1.37c-.4-.4-.92-.59-1.43-.59-.52 0-1.04.2-1.43.59L10.3 9.45l-7.72 7.72c-.78.78-.78 2.05 0 2.83L4 21.41c.39.39.9.59 1.41.59.51 0 1.02-.2 1.41-.59l7.78-7.78 2.81-2.81c.8-.78.8-2.07 0-2.86zM5.41 20L4 18.59l7.72-7.72 1.47 1.35L5.41 20z\"/>\n",
              "  </svg>\n",
              "      </button>\n",
              "      \n",
              "  <style>\n",
              "    .colab-df-container {\n",
              "      display:flex;\n",
              "      flex-wrap:wrap;\n",
              "      gap: 12px;\n",
              "    }\n",
              "\n",
              "    .colab-df-convert {\n",
              "      background-color: #E8F0FE;\n",
              "      border: none;\n",
              "      border-radius: 50%;\n",
              "      cursor: pointer;\n",
              "      display: none;\n",
              "      fill: #1967D2;\n",
              "      height: 32px;\n",
              "      padding: 0 0 0 0;\n",
              "      width: 32px;\n",
              "    }\n",
              "\n",
              "    .colab-df-convert:hover {\n",
              "      background-color: #E2EBFA;\n",
              "      box-shadow: 0px 1px 2px rgba(60, 64, 67, 0.3), 0px 1px 3px 1px rgba(60, 64, 67, 0.15);\n",
              "      fill: #174EA6;\n",
              "    }\n",
              "\n",
              "    [theme=dark] .colab-df-convert {\n",
              "      background-color: #3B4455;\n",
              "      fill: #D2E3FC;\n",
              "    }\n",
              "\n",
              "    [theme=dark] .colab-df-convert:hover {\n",
              "      background-color: #434B5C;\n",
              "      box-shadow: 0px 1px 3px 1px rgba(0, 0, 0, 0.15);\n",
              "      filter: drop-shadow(0px 1px 2px rgba(0, 0, 0, 0.3));\n",
              "      fill: #FFFFFF;\n",
              "    }\n",
              "  </style>\n",
              "\n",
              "      <script>\n",
              "        const buttonEl =\n",
              "          document.querySelector('#df-f1e191bc-ccf4-4226-8fef-34d731558457 button.colab-df-convert');\n",
              "        buttonEl.style.display =\n",
              "          google.colab.kernel.accessAllowed ? 'block' : 'none';\n",
              "\n",
              "        async function convertToInteractive(key) {\n",
              "          const element = document.querySelector('#df-f1e191bc-ccf4-4226-8fef-34d731558457');\n",
              "          const dataTable =\n",
              "            await google.colab.kernel.invokeFunction('convertToInteractive',\n",
              "                                                     [key], {});\n",
              "          if (!dataTable) return;\n",
              "\n",
              "          const docLinkHtml = 'Like what you see? Visit the ' +\n",
              "            '<a target=\"_blank\" href=https://colab.research.google.com/notebooks/data_table.ipynb>data table notebook</a>'\n",
              "            + ' to learn more about interactive tables.';\n",
              "          element.innerHTML = '';\n",
              "          dataTable['output_type'] = 'display_data';\n",
              "          await google.colab.output.renderOutput(dataTable, element);\n",
              "          const docLink = document.createElement('div');\n",
              "          docLink.innerHTML = docLinkHtml;\n",
              "          element.appendChild(docLink);\n",
              "        }\n",
              "      </script>\n",
              "    </div>\n",
              "  </div>\n",
              "  "
            ],
            "text/plain": [
              "      var_1     var_2     var_3     var_4     var_5         var_6     var_7  \\\n",
              "0  0.016666 -0.016217 -0.007260 -0.001167 -0.001961 -9.780475e-17  0.000843   \n",
              "1  0.188470 -0.006897  0.005117 -0.000869  0.001939 -2.453666e-16  0.000570   \n",
              "2 -0.000952  0.000946  0.029767 -0.004795  0.016556 -3.150533e-17 -0.003638   \n",
              "3  0.155828  0.001101 -0.004035  0.000356  0.001636  2.148918e-16 -0.000312   \n",
              "4  0.046477 -0.001981  0.000351 -0.001402  0.001498 -6.211793e-17  0.001565   \n",
              "\n",
              "      var_8     var_9    var_10  ...  var_5456  var_5457  var_5458  var_5460  \\\n",
              "0  0.007113  0.355386  0.108867  ...  0.012301  0.012169  0.009907  0.016239   \n",
              "1  0.001909  0.151031  0.101638  ...  0.111292  0.055825  0.134673  0.108834   \n",
              "2  0.000341  0.000603  0.008201  ...  0.014900  0.119798 -0.001963  0.069309   \n",
              "3 -0.001120  0.018491  0.104389  ...  0.008845 -0.000743 -0.002091  0.006790   \n",
              "4  0.000503  0.096011  0.106249  ...  0.026887  0.046859  0.010151  0.059255   \n",
              "\n",
              "   var_5461  var_5462  var_5463  var_5464  var_5466  var_5472  \n",
              "0  0.001024  0.000627 -0.002544 -0.004027  0.000869  0.000645  \n",
              "1  0.005527  0.064554  0.042783  0.082741  0.066396  0.000483  \n",
              "2  0.014189  0.003953  0.086448 -0.013667  0.026566  0.008800  \n",
              "3  0.002196 -0.001494 -0.001098  0.001895  0.002471  0.000407  \n",
              "4  0.013718 -0.008039  0.005160 -0.005146  0.003147 -0.001686  \n",
              "\n",
              "[5 rows x 3596 columns]"
            ]
          },
          "execution_count": 220,
          "metadata": {},
          "output_type": "execute_result"
        }
      ],
      "source": [
        "final_dataframe.head()"
      ]
    },
    {
      "cell_type": "code",
      "execution_count": null,
      "metadata": {
        "colab": {
          "base_uri": "https://localhost:8080/"
        },
        "id": "hb3iT-GC39Kl",
        "outputId": "146669b9-3b30-43f7-c81a-d9b2287472a9"
      },
      "outputs": [
        {
          "name": "stdout",
          "output_type": "stream",
          "text": [
            "0    0.85316\n",
            "1    0.14684\n",
            "Name: target, dtype: float64\n"
          ]
        }
      ],
      "source": [
        "class_distribution=pd.value_counts(y,normalize=True)\n",
        "print(class_distribution) # therefore, the dataset is imbalanced"
      ]
    },
    {
      "cell_type": "code",
      "execution_count": null,
      "metadata": {
        "id": "7HGiuhhe5gjM"
      },
      "outputs": [],
      "source": [
        "# we perform undersampling to reduce the instances in the majority class to class distribution\n",
        "from collections import Counter\n",
        "from imblearn.under_sampling import RandomUnderSampler\n",
        "rus = RandomUnderSampler(random_state=42)\n",
        "X_resampled, y_resampled = rus.fit_resample(final_dataframe, y)"
      ]
    },
    {
      "cell_type": "code",
      "execution_count": null,
      "metadata": {
        "colab": {
          "base_uri": "https://localhost:8080/",
          "height": 386
        },
        "id": "UiLGZbA86amW",
        "outputId": "4fd3799f-b583-4e9d-b862-0d693671dbe9"
      },
      "outputs": [
        {
          "data": {
            "text/html": [
              "\n",
              "  <div id=\"df-341d7375-1763-466b-8b6d-9714bf9a19cc\">\n",
              "    <div class=\"colab-df-container\">\n",
              "      <div>\n",
              "<style scoped>\n",
              "    .dataframe tbody tr th:only-of-type {\n",
              "        vertical-align: middle;\n",
              "    }\n",
              "\n",
              "    .dataframe tbody tr th {\n",
              "        vertical-align: top;\n",
              "    }\n",
              "\n",
              "    .dataframe thead th {\n",
              "        text-align: right;\n",
              "    }\n",
              "</style>\n",
              "<table border=\"1\" class=\"dataframe\">\n",
              "  <thead>\n",
              "    <tr style=\"text-align: right;\">\n",
              "      <th></th>\n",
              "      <th>var_1</th>\n",
              "      <th>var_2</th>\n",
              "      <th>var_3</th>\n",
              "      <th>var_4</th>\n",
              "      <th>var_5</th>\n",
              "      <th>var_6</th>\n",
              "      <th>var_7</th>\n",
              "      <th>var_8</th>\n",
              "      <th>var_9</th>\n",
              "      <th>var_10</th>\n",
              "      <th>...</th>\n",
              "      <th>var_5456</th>\n",
              "      <th>var_5457</th>\n",
              "      <th>var_5458</th>\n",
              "      <th>var_5460</th>\n",
              "      <th>var_5461</th>\n",
              "      <th>var_5462</th>\n",
              "      <th>var_5463</th>\n",
              "      <th>var_5464</th>\n",
              "      <th>var_5466</th>\n",
              "      <th>var_5472</th>\n",
              "    </tr>\n",
              "  </thead>\n",
              "  <tbody>\n",
              "    <tr>\n",
              "      <th>0</th>\n",
              "      <td>-0.000242</td>\n",
              "      <td>-0.000504</td>\n",
              "      <td>0.000937</td>\n",
              "      <td>-0.000179</td>\n",
              "      <td>-0.000239</td>\n",
              "      <td>-4.692099e-16</td>\n",
              "      <td>0.000031</td>\n",
              "      <td>0.000058</td>\n",
              "      <td>-0.000129</td>\n",
              "      <td>-0.000919</td>\n",
              "      <td>...</td>\n",
              "      <td>0.001868</td>\n",
              "      <td>0.003062</td>\n",
              "      <td>0.018164</td>\n",
              "      <td>0.012201</td>\n",
              "      <td>0.000078</td>\n",
              "      <td>-0.000333</td>\n",
              "      <td>0.002837</td>\n",
              "      <td>0.003925</td>\n",
              "      <td>0.005733</td>\n",
              "      <td>0.000483</td>\n",
              "    </tr>\n",
              "    <tr>\n",
              "      <th>1</th>\n",
              "      <td>0.030817</td>\n",
              "      <td>-0.000121</td>\n",
              "      <td>0.001885</td>\n",
              "      <td>0.001575</td>\n",
              "      <td>-0.000739</td>\n",
              "      <td>3.879722e-16</td>\n",
              "      <td>-0.000998</td>\n",
              "      <td>-0.000418</td>\n",
              "      <td>0.036543</td>\n",
              "      <td>0.108225</td>\n",
              "      <td>...</td>\n",
              "      <td>0.005817</td>\n",
              "      <td>0.000651</td>\n",
              "      <td>0.000150</td>\n",
              "      <td>0.009398</td>\n",
              "      <td>-0.004493</td>\n",
              "      <td>-0.002686</td>\n",
              "      <td>0.002093</td>\n",
              "      <td>0.001893</td>\n",
              "      <td>0.001182</td>\n",
              "      <td>-0.000228</td>\n",
              "    </tr>\n",
              "    <tr>\n",
              "      <th>2</th>\n",
              "      <td>0.062262</td>\n",
              "      <td>-0.002594</td>\n",
              "      <td>-0.001266</td>\n",
              "      <td>-0.001123</td>\n",
              "      <td>0.004920</td>\n",
              "      <td>7.817878e-17</td>\n",
              "      <td>0.000470</td>\n",
              "      <td>0.001063</td>\n",
              "      <td>0.024425</td>\n",
              "      <td>0.108599</td>\n",
              "      <td>...</td>\n",
              "      <td>0.000713</td>\n",
              "      <td>0.000380</td>\n",
              "      <td>0.002324</td>\n",
              "      <td>0.007113</td>\n",
              "      <td>0.000782</td>\n",
              "      <td>-0.002142</td>\n",
              "      <td>-0.003816</td>\n",
              "      <td>-0.000399</td>\n",
              "      <td>0.002233</td>\n",
              "      <td>0.000221</td>\n",
              "    </tr>\n",
              "    <tr>\n",
              "      <th>3</th>\n",
              "      <td>0.000594</td>\n",
              "      <td>-0.003848</td>\n",
              "      <td>-0.007782</td>\n",
              "      <td>-0.002704</td>\n",
              "      <td>0.002649</td>\n",
              "      <td>-4.418052e-16</td>\n",
              "      <td>-0.010762</td>\n",
              "      <td>-0.000077</td>\n",
              "      <td>0.001563</td>\n",
              "      <td>0.004880</td>\n",
              "      <td>...</td>\n",
              "      <td>0.108113</td>\n",
              "      <td>0.084556</td>\n",
              "      <td>0.048307</td>\n",
              "      <td>0.110570</td>\n",
              "      <td>0.033878</td>\n",
              "      <td>0.061751</td>\n",
              "      <td>0.034311</td>\n",
              "      <td>-0.003087</td>\n",
              "      <td>0.048318</td>\n",
              "      <td>0.011673</td>\n",
              "    </tr>\n",
              "    <tr>\n",
              "      <th>4</th>\n",
              "      <td>0.000036</td>\n",
              "      <td>-0.000418</td>\n",
              "      <td>-0.000014</td>\n",
              "      <td>0.000483</td>\n",
              "      <td>-0.000211</td>\n",
              "      <td>-2.033770e-16</td>\n",
              "      <td>-0.000055</td>\n",
              "      <td>0.000129</td>\n",
              "      <td>0.000040</td>\n",
              "      <td>-0.000251</td>\n",
              "      <td>...</td>\n",
              "      <td>-0.000872</td>\n",
              "      <td>0.002851</td>\n",
              "      <td>0.002718</td>\n",
              "      <td>0.008183</td>\n",
              "      <td>-0.001531</td>\n",
              "      <td>-0.001715</td>\n",
              "      <td>0.000108</td>\n",
              "      <td>-0.002475</td>\n",
              "      <td>0.002193</td>\n",
              "      <td>-0.000429</td>\n",
              "    </tr>\n",
              "  </tbody>\n",
              "</table>\n",
              "<p>5 rows × 3596 columns</p>\n",
              "</div>\n",
              "      <button class=\"colab-df-convert\" onclick=\"convertToInteractive('df-341d7375-1763-466b-8b6d-9714bf9a19cc')\"\n",
              "              title=\"Convert this dataframe to an interactive table.\"\n",
              "              style=\"display:none;\">\n",
              "        \n",
              "  <svg xmlns=\"http://www.w3.org/2000/svg\" height=\"24px\"viewBox=\"0 0 24 24\"\n",
              "       width=\"24px\">\n",
              "    <path d=\"M0 0h24v24H0V0z\" fill=\"none\"/>\n",
              "    <path d=\"M18.56 5.44l.94 2.06.94-2.06 2.06-.94-2.06-.94-.94-2.06-.94 2.06-2.06.94zm-11 1L8.5 8.5l.94-2.06 2.06-.94-2.06-.94L8.5 2.5l-.94 2.06-2.06.94zm10 10l.94 2.06.94-2.06 2.06-.94-2.06-.94-.94-2.06-.94 2.06-2.06.94z\"/><path d=\"M17.41 7.96l-1.37-1.37c-.4-.4-.92-.59-1.43-.59-.52 0-1.04.2-1.43.59L10.3 9.45l-7.72 7.72c-.78.78-.78 2.05 0 2.83L4 21.41c.39.39.9.59 1.41.59.51 0 1.02-.2 1.41-.59l7.78-7.78 2.81-2.81c.8-.78.8-2.07 0-2.86zM5.41 20L4 18.59l7.72-7.72 1.47 1.35L5.41 20z\"/>\n",
              "  </svg>\n",
              "      </button>\n",
              "      \n",
              "  <style>\n",
              "    .colab-df-container {\n",
              "      display:flex;\n",
              "      flex-wrap:wrap;\n",
              "      gap: 12px;\n",
              "    }\n",
              "\n",
              "    .colab-df-convert {\n",
              "      background-color: #E8F0FE;\n",
              "      border: none;\n",
              "      border-radius: 50%;\n",
              "      cursor: pointer;\n",
              "      display: none;\n",
              "      fill: #1967D2;\n",
              "      height: 32px;\n",
              "      padding: 0 0 0 0;\n",
              "      width: 32px;\n",
              "    }\n",
              "\n",
              "    .colab-df-convert:hover {\n",
              "      background-color: #E2EBFA;\n",
              "      box-shadow: 0px 1px 2px rgba(60, 64, 67, 0.3), 0px 1px 3px 1px rgba(60, 64, 67, 0.15);\n",
              "      fill: #174EA6;\n",
              "    }\n",
              "\n",
              "    [theme=dark] .colab-df-convert {\n",
              "      background-color: #3B4455;\n",
              "      fill: #D2E3FC;\n",
              "    }\n",
              "\n",
              "    [theme=dark] .colab-df-convert:hover {\n",
              "      background-color: #434B5C;\n",
              "      box-shadow: 0px 1px 3px 1px rgba(0, 0, 0, 0.15);\n",
              "      filter: drop-shadow(0px 1px 2px rgba(0, 0, 0, 0.3));\n",
              "      fill: #FFFFFF;\n",
              "    }\n",
              "  </style>\n",
              "\n",
              "      <script>\n",
              "        const buttonEl =\n",
              "          document.querySelector('#df-341d7375-1763-466b-8b6d-9714bf9a19cc button.colab-df-convert');\n",
              "        buttonEl.style.display =\n",
              "          google.colab.kernel.accessAllowed ? 'block' : 'none';\n",
              "\n",
              "        async function convertToInteractive(key) {\n",
              "          const element = document.querySelector('#df-341d7375-1763-466b-8b6d-9714bf9a19cc');\n",
              "          const dataTable =\n",
              "            await google.colab.kernel.invokeFunction('convertToInteractive',\n",
              "                                                     [key], {});\n",
              "          if (!dataTable) return;\n",
              "\n",
              "          const docLinkHtml = 'Like what you see? Visit the ' +\n",
              "            '<a target=\"_blank\" href=https://colab.research.google.com/notebooks/data_table.ipynb>data table notebook</a>'\n",
              "            + ' to learn more about interactive tables.';\n",
              "          element.innerHTML = '';\n",
              "          dataTable['output_type'] = 'display_data';\n",
              "          await google.colab.output.renderOutput(dataTable, element);\n",
              "          const docLink = document.createElement('div');\n",
              "          docLink.innerHTML = docLinkHtml;\n",
              "          element.appendChild(docLink);\n",
              "        }\n",
              "      </script>\n",
              "    </div>\n",
              "  </div>\n",
              "  "
            ],
            "text/plain": [
              "      var_1     var_2     var_3     var_4     var_5         var_6     var_7  \\\n",
              "0 -0.000242 -0.000504  0.000937 -0.000179 -0.000239 -4.692099e-16  0.000031   \n",
              "1  0.030817 -0.000121  0.001885  0.001575 -0.000739  3.879722e-16 -0.000998   \n",
              "2  0.062262 -0.002594 -0.001266 -0.001123  0.004920  7.817878e-17  0.000470   \n",
              "3  0.000594 -0.003848 -0.007782 -0.002704  0.002649 -4.418052e-16 -0.010762   \n",
              "4  0.000036 -0.000418 -0.000014  0.000483 -0.000211 -2.033770e-16 -0.000055   \n",
              "\n",
              "      var_8     var_9    var_10  ...  var_5456  var_5457  var_5458  var_5460  \\\n",
              "0  0.000058 -0.000129 -0.000919  ...  0.001868  0.003062  0.018164  0.012201   \n",
              "1 -0.000418  0.036543  0.108225  ...  0.005817  0.000651  0.000150  0.009398   \n",
              "2  0.001063  0.024425  0.108599  ...  0.000713  0.000380  0.002324  0.007113   \n",
              "3 -0.000077  0.001563  0.004880  ...  0.108113  0.084556  0.048307  0.110570   \n",
              "4  0.000129  0.000040 -0.000251  ... -0.000872  0.002851  0.002718  0.008183   \n",
              "\n",
              "   var_5461  var_5462  var_5463  var_5464  var_5466  var_5472  \n",
              "0  0.000078 -0.000333  0.002837  0.003925  0.005733  0.000483  \n",
              "1 -0.004493 -0.002686  0.002093  0.001893  0.001182 -0.000228  \n",
              "2  0.000782 -0.002142 -0.003816 -0.000399  0.002233  0.000221  \n",
              "3  0.033878  0.061751  0.034311 -0.003087  0.048318  0.011673  \n",
              "4 -0.001531 -0.001715  0.000108 -0.002475  0.002193 -0.000429  \n",
              "\n",
              "[5 rows x 3596 columns]"
            ]
          },
          "execution_count": 223,
          "metadata": {},
          "output_type": "execute_result"
        }
      ],
      "source": [
        "X_resampled.head()"
      ]
    },
    {
      "cell_type": "code",
      "execution_count": null,
      "metadata": {
        "colab": {
          "base_uri": "https://localhost:8080/"
        },
        "id": "EQJU0B7e6H-z",
        "outputId": "26d7d7e6-2d5a-4007-a78b-e31d44dc6e20"
      },
      "outputs": [
        {
          "name": "stdout",
          "output_type": "stream",
          "text": [
            "0    0.5\n",
            "1    0.5\n",
            "Name: target, dtype: float64\n"
          ]
        }
      ],
      "source": [
        "class_distribution1=pd.value_counts(y_resampled,normalize=True)\n",
        "print(class_distribution1) # therefore, the dataset is balanced"
      ]
    },
    {
      "cell_type": "code",
      "execution_count": null,
      "metadata": {
        "colab": {
          "base_uri": "https://localhost:8080/"
        },
        "id": "GmoZUJJuSzNP",
        "outputId": "4a2ebdd2-5a60-4a19-fb02-333a2081e72e"
      },
      "outputs": [
        {
          "name": "stdout",
          "output_type": "stream",
          "text": [
            "False\n"
          ]
        }
      ],
      "source": [
        "print(np.any(np.isnan(X_resampled))) # no nan values"
      ]
    },
    {
      "cell_type": "code",
      "execution_count": null,
      "metadata": {
        "colab": {
          "base_uri": "https://localhost:8080/",
          "height": 235
        },
        "id": "pD7TxxsVUT6O",
        "outputId": "f7ddad53-c183-476f-b600-29de0820e8bb"
      },
      "outputs": [
        {
          "data": {
            "text/html": [
              "\n",
              "  <div id=\"df-ecff277a-b5af-455a-bc14-f900d2e150ad\">\n",
              "    <div class=\"colab-df-container\">\n",
              "      <div>\n",
              "<style scoped>\n",
              "    .dataframe tbody tr th:only-of-type {\n",
              "        vertical-align: middle;\n",
              "    }\n",
              "\n",
              "    .dataframe tbody tr th {\n",
              "        vertical-align: top;\n",
              "    }\n",
              "\n",
              "    .dataframe thead th {\n",
              "        text-align: right;\n",
              "    }\n",
              "</style>\n",
              "<table border=\"1\" class=\"dataframe\">\n",
              "  <thead>\n",
              "    <tr style=\"text-align: right;\">\n",
              "      <th></th>\n",
              "      <th>id</th>\n",
              "      <th>var_1</th>\n",
              "      <th>var_2</th>\n",
              "      <th>var_3</th>\n",
              "      <th>var_4</th>\n",
              "      <th>var_5</th>\n",
              "      <th>var_6</th>\n",
              "      <th>var_7</th>\n",
              "      <th>var_8</th>\n",
              "      <th>var_9</th>\n",
              "      <th>...</th>\n",
              "      <th>var_5469</th>\n",
              "      <th>var_5470</th>\n",
              "      <th>var_5471</th>\n",
              "      <th>var_5472</th>\n",
              "      <th>var_5473</th>\n",
              "      <th>var_5474</th>\n",
              "      <th>var_5475</th>\n",
              "      <th>var_5476</th>\n",
              "      <th>var_5477</th>\n",
              "      <th>var_5478</th>\n",
              "    </tr>\n",
              "  </thead>\n",
              "  <tbody>\n",
              "    <tr>\n",
              "      <th>0</th>\n",
              "      <td>id_1</td>\n",
              "      <td>0.015625</td>\n",
              "      <td>0.0</td>\n",
              "      <td>0.0</td>\n",
              "      <td>0.0</td>\n",
              "      <td>0.0</td>\n",
              "      <td>0.0</td>\n",
              "      <td>0.0</td>\n",
              "      <td>0.0</td>\n",
              "      <td>0.018072</td>\n",
              "      <td>...</td>\n",
              "      <td>NaN</td>\n",
              "      <td>0.035714</td>\n",
              "      <td>NaN</td>\n",
              "      <td>0.0125</td>\n",
              "      <td>NaN</td>\n",
              "      <td>NaN</td>\n",
              "      <td>NaN</td>\n",
              "      <td>NaN</td>\n",
              "      <td>NaN</td>\n",
              "      <td>NaN</td>\n",
              "    </tr>\n",
              "    <tr>\n",
              "      <th>1</th>\n",
              "      <td>id_2</td>\n",
              "      <td>0.015625</td>\n",
              "      <td>0.0</td>\n",
              "      <td>0.0</td>\n",
              "      <td>0.0</td>\n",
              "      <td>0.0</td>\n",
              "      <td>0.0</td>\n",
              "      <td>0.0</td>\n",
              "      <td>0.0</td>\n",
              "      <td>0.018072</td>\n",
              "      <td>...</td>\n",
              "      <td>NaN</td>\n",
              "      <td>NaN</td>\n",
              "      <td>NaN</td>\n",
              "      <td>NaN</td>\n",
              "      <td>NaN</td>\n",
              "      <td>NaN</td>\n",
              "      <td>NaN</td>\n",
              "      <td>NaN</td>\n",
              "      <td>NaN</td>\n",
              "      <td>NaN</td>\n",
              "    </tr>\n",
              "    <tr>\n",
              "      <th>2</th>\n",
              "      <td>id_3</td>\n",
              "      <td>0.015625</td>\n",
              "      <td>0.0</td>\n",
              "      <td>0.0</td>\n",
              "      <td>0.0</td>\n",
              "      <td>0.0</td>\n",
              "      <td>0.0</td>\n",
              "      <td>0.0</td>\n",
              "      <td>0.0</td>\n",
              "      <td>0.012048</td>\n",
              "      <td>...</td>\n",
              "      <td>NaN</td>\n",
              "      <td>NaN</td>\n",
              "      <td>NaN</td>\n",
              "      <td>NaN</td>\n",
              "      <td>NaN</td>\n",
              "      <td>NaN</td>\n",
              "      <td>NaN</td>\n",
              "      <td>NaN</td>\n",
              "      <td>NaN</td>\n",
              "      <td>NaN</td>\n",
              "    </tr>\n",
              "    <tr>\n",
              "      <th>3</th>\n",
              "      <td>id_4</td>\n",
              "      <td>0.000000</td>\n",
              "      <td>0.0</td>\n",
              "      <td>0.0</td>\n",
              "      <td>0.0</td>\n",
              "      <td>0.0</td>\n",
              "      <td>0.0</td>\n",
              "      <td>0.0</td>\n",
              "      <td>0.0</td>\n",
              "      <td>NaN</td>\n",
              "      <td>...</td>\n",
              "      <td>NaN</td>\n",
              "      <td>NaN</td>\n",
              "      <td>NaN</td>\n",
              "      <td>NaN</td>\n",
              "      <td>NaN</td>\n",
              "      <td>NaN</td>\n",
              "      <td>NaN</td>\n",
              "      <td>NaN</td>\n",
              "      <td>NaN</td>\n",
              "      <td>NaN</td>\n",
              "    </tr>\n",
              "    <tr>\n",
              "      <th>4</th>\n",
              "      <td>id_5</td>\n",
              "      <td>0.046875</td>\n",
              "      <td>0.0</td>\n",
              "      <td>0.0</td>\n",
              "      <td>0.0</td>\n",
              "      <td>0.0</td>\n",
              "      <td>0.0</td>\n",
              "      <td>0.0</td>\n",
              "      <td>0.0</td>\n",
              "      <td>NaN</td>\n",
              "      <td>...</td>\n",
              "      <td>NaN</td>\n",
              "      <td>NaN</td>\n",
              "      <td>NaN</td>\n",
              "      <td>NaN</td>\n",
              "      <td>NaN</td>\n",
              "      <td>NaN</td>\n",
              "      <td>NaN</td>\n",
              "      <td>NaN</td>\n",
              "      <td>NaN</td>\n",
              "      <td>NaN</td>\n",
              "    </tr>\n",
              "  </tbody>\n",
              "</table>\n",
              "<p>5 rows × 5479 columns</p>\n",
              "</div>\n",
              "      <button class=\"colab-df-convert\" onclick=\"convertToInteractive('df-ecff277a-b5af-455a-bc14-f900d2e150ad')\"\n",
              "              title=\"Convert this dataframe to an interactive table.\"\n",
              "              style=\"display:none;\">\n",
              "        \n",
              "  <svg xmlns=\"http://www.w3.org/2000/svg\" height=\"24px\"viewBox=\"0 0 24 24\"\n",
              "       width=\"24px\">\n",
              "    <path d=\"M0 0h24v24H0V0z\" fill=\"none\"/>\n",
              "    <path d=\"M18.56 5.44l.94 2.06.94-2.06 2.06-.94-2.06-.94-.94-2.06-.94 2.06-2.06.94zm-11 1L8.5 8.5l.94-2.06 2.06-.94-2.06-.94L8.5 2.5l-.94 2.06-2.06.94zm10 10l.94 2.06.94-2.06 2.06-.94-2.06-.94-.94-2.06-.94 2.06-2.06.94z\"/><path d=\"M17.41 7.96l-1.37-1.37c-.4-.4-.92-.59-1.43-.59-.52 0-1.04.2-1.43.59L10.3 9.45l-7.72 7.72c-.78.78-.78 2.05 0 2.83L4 21.41c.39.39.9.59 1.41.59.51 0 1.02-.2 1.41-.59l7.78-7.78 2.81-2.81c.8-.78.8-2.07 0-2.86zM5.41 20L4 18.59l7.72-7.72 1.47 1.35L5.41 20z\"/>\n",
              "  </svg>\n",
              "      </button>\n",
              "      \n",
              "  <style>\n",
              "    .colab-df-container {\n",
              "      display:flex;\n",
              "      flex-wrap:wrap;\n",
              "      gap: 12px;\n",
              "    }\n",
              "\n",
              "    .colab-df-convert {\n",
              "      background-color: #E8F0FE;\n",
              "      border: none;\n",
              "      border-radius: 50%;\n",
              "      cursor: pointer;\n",
              "      display: none;\n",
              "      fill: #1967D2;\n",
              "      height: 32px;\n",
              "      padding: 0 0 0 0;\n",
              "      width: 32px;\n",
              "    }\n",
              "\n",
              "    .colab-df-convert:hover {\n",
              "      background-color: #E2EBFA;\n",
              "      box-shadow: 0px 1px 2px rgba(60, 64, 67, 0.3), 0px 1px 3px 1px rgba(60, 64, 67, 0.15);\n",
              "      fill: #174EA6;\n",
              "    }\n",
              "\n",
              "    [theme=dark] .colab-df-convert {\n",
              "      background-color: #3B4455;\n",
              "      fill: #D2E3FC;\n",
              "    }\n",
              "\n",
              "    [theme=dark] .colab-df-convert:hover {\n",
              "      background-color: #434B5C;\n",
              "      box-shadow: 0px 1px 3px 1px rgba(0, 0, 0, 0.15);\n",
              "      filter: drop-shadow(0px 1px 2px rgba(0, 0, 0, 0.3));\n",
              "      fill: #FFFFFF;\n",
              "    }\n",
              "  </style>\n",
              "\n",
              "      <script>\n",
              "        const buttonEl =\n",
              "          document.querySelector('#df-ecff277a-b5af-455a-bc14-f900d2e150ad button.colab-df-convert');\n",
              "        buttonEl.style.display =\n",
              "          google.colab.kernel.accessAllowed ? 'block' : 'none';\n",
              "\n",
              "        async function convertToInteractive(key) {\n",
              "          const element = document.querySelector('#df-ecff277a-b5af-455a-bc14-f900d2e150ad');\n",
              "          const dataTable =\n",
              "            await google.colab.kernel.invokeFunction('convertToInteractive',\n",
              "                                                     [key], {});\n",
              "          if (!dataTable) return;\n",
              "\n",
              "          const docLinkHtml = 'Like what you see? Visit the ' +\n",
              "            '<a target=\"_blank\" href=https://colab.research.google.com/notebooks/data_table.ipynb>data table notebook</a>'\n",
              "            + ' to learn more about interactive tables.';\n",
              "          element.innerHTML = '';\n",
              "          dataTable['output_type'] = 'display_data';\n",
              "          await google.colab.output.renderOutput(dataTable, element);\n",
              "          const docLink = document.createElement('div');\n",
              "          docLink.innerHTML = docLinkHtml;\n",
              "          element.appendChild(docLink);\n",
              "        }\n",
              "      </script>\n",
              "    </div>\n",
              "  </div>\n",
              "  "
            ],
            "text/plain": [
              "     id     var_1  var_2  var_3  var_4  var_5  var_6  var_7  var_8     var_9  \\\n",
              "0  id_1  0.015625    0.0    0.0    0.0    0.0    0.0    0.0    0.0  0.018072   \n",
              "1  id_2  0.015625    0.0    0.0    0.0    0.0    0.0    0.0    0.0  0.018072   \n",
              "2  id_3  0.015625    0.0    0.0    0.0    0.0    0.0    0.0    0.0  0.012048   \n",
              "3  id_4  0.000000    0.0    0.0    0.0    0.0    0.0    0.0    0.0       NaN   \n",
              "4  id_5  0.046875    0.0    0.0    0.0    0.0    0.0    0.0    0.0       NaN   \n",
              "\n",
              "   ...  var_5469  var_5470  var_5471  var_5472  var_5473  var_5474  var_5475  \\\n",
              "0  ...       NaN  0.035714       NaN    0.0125       NaN       NaN       NaN   \n",
              "1  ...       NaN       NaN       NaN       NaN       NaN       NaN       NaN   \n",
              "2  ...       NaN       NaN       NaN       NaN       NaN       NaN       NaN   \n",
              "3  ...       NaN       NaN       NaN       NaN       NaN       NaN       NaN   \n",
              "4  ...       NaN       NaN       NaN       NaN       NaN       NaN       NaN   \n",
              "\n",
              "   var_5476  var_5477  var_5478  \n",
              "0       NaN       NaN       NaN  \n",
              "1       NaN       NaN       NaN  \n",
              "2       NaN       NaN       NaN  \n",
              "3       NaN       NaN       NaN  \n",
              "4       NaN       NaN       NaN  \n",
              "\n",
              "[5 rows x 5479 columns]"
            ]
          },
          "execution_count": 227,
          "metadata": {},
          "output_type": "execute_result"
        }
      ],
      "source": [
        "df_test=pd.read_csv('/content/drive/MyDrive/fibe hackathon/dataset/test.csv')\n",
        "df_test.head()"
      ]
    },
    {
      "cell_type": "code",
      "execution_count": null,
      "metadata": {
        "id": "ayuIsDyJ3lnm"
      },
      "outputs": [],
      "source": [
        "df_test=df_test.drop('id',axis=1)"
      ]
    },
    {
      "cell_type": "code",
      "execution_count": null,
      "metadata": {
        "id": "8pehQZ302wGT"
      },
      "outputs": [],
      "source": [
        "df_test.replace([np.inf,-np.inf],-1e9,inplace=True)"
      ]
    },
    {
      "cell_type": "code",
      "execution_count": null,
      "metadata": {
        "colab": {
          "base_uri": "https://localhost:8080/"
        },
        "id": "muhxHQyL2zQ1",
        "outputId": "8c0cf807-1819-46d4-995f-e70829f4e576"
      },
      "outputs": [
        {
          "name": "stdout",
          "output_type": "stream",
          "text": [
            "False\n"
          ]
        }
      ],
      "source": [
        "print(np.any(np.isinf(df_test)))"
      ]
    },
    {
      "cell_type": "code",
      "execution_count": null,
      "metadata": {
        "id": "mBaqEJr6q_pD"
      },
      "outputs": [],
      "source": [
        "import numpy as np"
      ]
    },
    {
      "cell_type": "code",
      "execution_count": null,
      "metadata": {
        "colab": {
          "base_uri": "https://localhost:8080/",
          "height": 423
        },
        "id": "JDj4wuSGrg88",
        "outputId": "33525d7c-e6a6-4808-ae33-2e79e1f5c986"
      },
      "outputs": [
        {
          "data": {
            "text/html": [
              "\n",
              "  <div id=\"df-d7351610-9edb-4a57-979f-d68566671a77\">\n",
              "    <div class=\"colab-df-container\">\n",
              "      <div>\n",
              "<style scoped>\n",
              "    .dataframe tbody tr th:only-of-type {\n",
              "        vertical-align: middle;\n",
              "    }\n",
              "\n",
              "    .dataframe tbody tr th {\n",
              "        vertical-align: top;\n",
              "    }\n",
              "\n",
              "    .dataframe thead th {\n",
              "        text-align: right;\n",
              "    }\n",
              "</style>\n",
              "<table border=\"1\" class=\"dataframe\">\n",
              "  <thead>\n",
              "    <tr style=\"text-align: right;\">\n",
              "      <th></th>\n",
              "      <th>column_name</th>\n",
              "      <th>percent_missing</th>\n",
              "    </tr>\n",
              "  </thead>\n",
              "  <tbody>\n",
              "    <tr>\n",
              "      <th>var_1586</th>\n",
              "      <td>var_1586</td>\n",
              "      <td>100.0</td>\n",
              "    </tr>\n",
              "    <tr>\n",
              "      <th>var_1141</th>\n",
              "      <td>var_1141</td>\n",
              "      <td>100.0</td>\n",
              "    </tr>\n",
              "    <tr>\n",
              "      <th>var_3161</th>\n",
              "      <td>var_3161</td>\n",
              "      <td>100.0</td>\n",
              "    </tr>\n",
              "    <tr>\n",
              "      <th>var_3160</th>\n",
              "      <td>var_3160</td>\n",
              "      <td>100.0</td>\n",
              "    </tr>\n",
              "    <tr>\n",
              "      <th>var_1137</th>\n",
              "      <td>var_1137</td>\n",
              "      <td>100.0</td>\n",
              "    </tr>\n",
              "    <tr>\n",
              "      <th>...</th>\n",
              "      <td>...</td>\n",
              "      <td>...</td>\n",
              "    </tr>\n",
              "    <tr>\n",
              "      <th>var_4389</th>\n",
              "      <td>var_4389</td>\n",
              "      <td>0.0</td>\n",
              "    </tr>\n",
              "    <tr>\n",
              "      <th>var_4390</th>\n",
              "      <td>var_4390</td>\n",
              "      <td>0.0</td>\n",
              "    </tr>\n",
              "    <tr>\n",
              "      <th>var_4391</th>\n",
              "      <td>var_4391</td>\n",
              "      <td>0.0</td>\n",
              "    </tr>\n",
              "    <tr>\n",
              "      <th>var_4392</th>\n",
              "      <td>var_4392</td>\n",
              "      <td>0.0</td>\n",
              "    </tr>\n",
              "    <tr>\n",
              "      <th>var_5316</th>\n",
              "      <td>var_5316</td>\n",
              "      <td>0.0</td>\n",
              "    </tr>\n",
              "  </tbody>\n",
              "</table>\n",
              "<p>5478 rows × 2 columns</p>\n",
              "</div>\n",
              "      <button class=\"colab-df-convert\" onclick=\"convertToInteractive('df-d7351610-9edb-4a57-979f-d68566671a77')\"\n",
              "              title=\"Convert this dataframe to an interactive table.\"\n",
              "              style=\"display:none;\">\n",
              "        \n",
              "  <svg xmlns=\"http://www.w3.org/2000/svg\" height=\"24px\"viewBox=\"0 0 24 24\"\n",
              "       width=\"24px\">\n",
              "    <path d=\"M0 0h24v24H0V0z\" fill=\"none\"/>\n",
              "    <path d=\"M18.56 5.44l.94 2.06.94-2.06 2.06-.94-2.06-.94-.94-2.06-.94 2.06-2.06.94zm-11 1L8.5 8.5l.94-2.06 2.06-.94-2.06-.94L8.5 2.5l-.94 2.06-2.06.94zm10 10l.94 2.06.94-2.06 2.06-.94-2.06-.94-.94-2.06-.94 2.06-2.06.94z\"/><path d=\"M17.41 7.96l-1.37-1.37c-.4-.4-.92-.59-1.43-.59-.52 0-1.04.2-1.43.59L10.3 9.45l-7.72 7.72c-.78.78-.78 2.05 0 2.83L4 21.41c.39.39.9.59 1.41.59.51 0 1.02-.2 1.41-.59l7.78-7.78 2.81-2.81c.8-.78.8-2.07 0-2.86zM5.41 20L4 18.59l7.72-7.72 1.47 1.35L5.41 20z\"/>\n",
              "  </svg>\n",
              "      </button>\n",
              "      \n",
              "  <style>\n",
              "    .colab-df-container {\n",
              "      display:flex;\n",
              "      flex-wrap:wrap;\n",
              "      gap: 12px;\n",
              "    }\n",
              "\n",
              "    .colab-df-convert {\n",
              "      background-color: #E8F0FE;\n",
              "      border: none;\n",
              "      border-radius: 50%;\n",
              "      cursor: pointer;\n",
              "      display: none;\n",
              "      fill: #1967D2;\n",
              "      height: 32px;\n",
              "      padding: 0 0 0 0;\n",
              "      width: 32px;\n",
              "    }\n",
              "\n",
              "    .colab-df-convert:hover {\n",
              "      background-color: #E2EBFA;\n",
              "      box-shadow: 0px 1px 2px rgba(60, 64, 67, 0.3), 0px 1px 3px 1px rgba(60, 64, 67, 0.15);\n",
              "      fill: #174EA6;\n",
              "    }\n",
              "\n",
              "    [theme=dark] .colab-df-convert {\n",
              "      background-color: #3B4455;\n",
              "      fill: #D2E3FC;\n",
              "    }\n",
              "\n",
              "    [theme=dark] .colab-df-convert:hover {\n",
              "      background-color: #434B5C;\n",
              "      box-shadow: 0px 1px 3px 1px rgba(0, 0, 0, 0.15);\n",
              "      filter: drop-shadow(0px 1px 2px rgba(0, 0, 0, 0.3));\n",
              "      fill: #FFFFFF;\n",
              "    }\n",
              "  </style>\n",
              "\n",
              "      <script>\n",
              "        const buttonEl =\n",
              "          document.querySelector('#df-d7351610-9edb-4a57-979f-d68566671a77 button.colab-df-convert');\n",
              "        buttonEl.style.display =\n",
              "          google.colab.kernel.accessAllowed ? 'block' : 'none';\n",
              "\n",
              "        async function convertToInteractive(key) {\n",
              "          const element = document.querySelector('#df-d7351610-9edb-4a57-979f-d68566671a77');\n",
              "          const dataTable =\n",
              "            await google.colab.kernel.invokeFunction('convertToInteractive',\n",
              "                                                     [key], {});\n",
              "          if (!dataTable) return;\n",
              "\n",
              "          const docLinkHtml = 'Like what you see? Visit the ' +\n",
              "            '<a target=\"_blank\" href=https://colab.research.google.com/notebooks/data_table.ipynb>data table notebook</a>'\n",
              "            + ' to learn more about interactive tables.';\n",
              "          element.innerHTML = '';\n",
              "          dataTable['output_type'] = 'display_data';\n",
              "          await google.colab.output.renderOutput(dataTable, element);\n",
              "          const docLink = document.createElement('div');\n",
              "          docLink.innerHTML = docLinkHtml;\n",
              "          element.appendChild(docLink);\n",
              "        }\n",
              "      </script>\n",
              "    </div>\n",
              "  </div>\n",
              "  "
            ],
            "text/plain": [
              "         column_name  percent_missing\n",
              "var_1586    var_1586            100.0\n",
              "var_1141    var_1141            100.0\n",
              "var_3161    var_3161            100.0\n",
              "var_3160    var_3160            100.0\n",
              "var_1137    var_1137            100.0\n",
              "...              ...              ...\n",
              "var_4389    var_4389              0.0\n",
              "var_4390    var_4390              0.0\n",
              "var_4391    var_4391              0.0\n",
              "var_4392    var_4392              0.0\n",
              "var_5316    var_5316              0.0\n",
              "\n",
              "[5478 rows x 2 columns]"
            ]
          },
          "execution_count": 232,
          "metadata": {},
          "output_type": "execute_result"
        }
      ],
      "source": [
        "percent_missing_test1 = df_test.isnull().sum() * 100 / len(df_test)\n",
        "missing_value_df_test1 = pd.DataFrame({'column_name': df_test.columns,'percent_missing': percent_missing_test1})\n",
        "missing_value_df_test2= missing_value_df_test1.sort_values('percent_missing', ascending=False)\n",
        "missing_value_df_test2"
      ]
    },
    {
      "cell_type": "code",
      "execution_count": null,
      "metadata": {
        "id": "hkqmG8_Yrg88"
      },
      "outputs": [],
      "source": [
        "mxmiss_test1=missing_value_df_test1[missing_value_df_test1['percent_missing']>=80.0]"
      ]
    },
    {
      "cell_type": "code",
      "execution_count": null,
      "metadata": {
        "colab": {
          "base_uri": "https://localhost:8080/",
          "height": 423
        },
        "id": "xgBi2ZJj0fmr",
        "outputId": "30eb205b-ce86-4989-c0bf-b3288110756e"
      },
      "outputs": [
        {
          "data": {
            "text/html": [
              "\n",
              "  <div id=\"df-2b664b6e-b651-4a57-ad02-aa3e94908655\">\n",
              "    <div class=\"colab-df-container\">\n",
              "      <div>\n",
              "<style scoped>\n",
              "    .dataframe tbody tr th:only-of-type {\n",
              "        vertical-align: middle;\n",
              "    }\n",
              "\n",
              "    .dataframe tbody tr th {\n",
              "        vertical-align: top;\n",
              "    }\n",
              "\n",
              "    .dataframe thead th {\n",
              "        text-align: right;\n",
              "    }\n",
              "</style>\n",
              "<table border=\"1\" class=\"dataframe\">\n",
              "  <thead>\n",
              "    <tr style=\"text-align: right;\">\n",
              "      <th></th>\n",
              "      <th>column_name</th>\n",
              "      <th>percent_missing</th>\n",
              "    </tr>\n",
              "  </thead>\n",
              "  <tbody>\n",
              "    <tr>\n",
              "      <th>var_11</th>\n",
              "      <td>var_11</td>\n",
              "      <td>94.28</td>\n",
              "    </tr>\n",
              "    <tr>\n",
              "      <th>var_12</th>\n",
              "      <td>var_12</td>\n",
              "      <td>80.54</td>\n",
              "    </tr>\n",
              "    <tr>\n",
              "      <th>var_15</th>\n",
              "      <td>var_15</td>\n",
              "      <td>94.28</td>\n",
              "    </tr>\n",
              "    <tr>\n",
              "      <th>var_16</th>\n",
              "      <td>var_16</td>\n",
              "      <td>80.54</td>\n",
              "    </tr>\n",
              "    <tr>\n",
              "      <th>var_19</th>\n",
              "      <td>var_19</td>\n",
              "      <td>94.66</td>\n",
              "    </tr>\n",
              "    <tr>\n",
              "      <th>...</th>\n",
              "      <td>...</td>\n",
              "      <td>...</td>\n",
              "    </tr>\n",
              "    <tr>\n",
              "      <th>var_5474</th>\n",
              "      <td>var_5474</td>\n",
              "      <td>95.64</td>\n",
              "    </tr>\n",
              "    <tr>\n",
              "      <th>var_5475</th>\n",
              "      <td>var_5475</td>\n",
              "      <td>95.72</td>\n",
              "    </tr>\n",
              "    <tr>\n",
              "      <th>var_5476</th>\n",
              "      <td>var_5476</td>\n",
              "      <td>97.32</td>\n",
              "    </tr>\n",
              "    <tr>\n",
              "      <th>var_5477</th>\n",
              "      <td>var_5477</td>\n",
              "      <td>99.98</td>\n",
              "    </tr>\n",
              "    <tr>\n",
              "      <th>var_5478</th>\n",
              "      <td>var_5478</td>\n",
              "      <td>89.96</td>\n",
              "    </tr>\n",
              "  </tbody>\n",
              "</table>\n",
              "<p>1869 rows × 2 columns</p>\n",
              "</div>\n",
              "      <button class=\"colab-df-convert\" onclick=\"convertToInteractive('df-2b664b6e-b651-4a57-ad02-aa3e94908655')\"\n",
              "              title=\"Convert this dataframe to an interactive table.\"\n",
              "              style=\"display:none;\">\n",
              "        \n",
              "  <svg xmlns=\"http://www.w3.org/2000/svg\" height=\"24px\"viewBox=\"0 0 24 24\"\n",
              "       width=\"24px\">\n",
              "    <path d=\"M0 0h24v24H0V0z\" fill=\"none\"/>\n",
              "    <path d=\"M18.56 5.44l.94 2.06.94-2.06 2.06-.94-2.06-.94-.94-2.06-.94 2.06-2.06.94zm-11 1L8.5 8.5l.94-2.06 2.06-.94-2.06-.94L8.5 2.5l-.94 2.06-2.06.94zm10 10l.94 2.06.94-2.06 2.06-.94-2.06-.94-.94-2.06-.94 2.06-2.06.94z\"/><path d=\"M17.41 7.96l-1.37-1.37c-.4-.4-.92-.59-1.43-.59-.52 0-1.04.2-1.43.59L10.3 9.45l-7.72 7.72c-.78.78-.78 2.05 0 2.83L4 21.41c.39.39.9.59 1.41.59.51 0 1.02-.2 1.41-.59l7.78-7.78 2.81-2.81c.8-.78.8-2.07 0-2.86zM5.41 20L4 18.59l7.72-7.72 1.47 1.35L5.41 20z\"/>\n",
              "  </svg>\n",
              "      </button>\n",
              "      \n",
              "  <style>\n",
              "    .colab-df-container {\n",
              "      display:flex;\n",
              "      flex-wrap:wrap;\n",
              "      gap: 12px;\n",
              "    }\n",
              "\n",
              "    .colab-df-convert {\n",
              "      background-color: #E8F0FE;\n",
              "      border: none;\n",
              "      border-radius: 50%;\n",
              "      cursor: pointer;\n",
              "      display: none;\n",
              "      fill: #1967D2;\n",
              "      height: 32px;\n",
              "      padding: 0 0 0 0;\n",
              "      width: 32px;\n",
              "    }\n",
              "\n",
              "    .colab-df-convert:hover {\n",
              "      background-color: #E2EBFA;\n",
              "      box-shadow: 0px 1px 2px rgba(60, 64, 67, 0.3), 0px 1px 3px 1px rgba(60, 64, 67, 0.15);\n",
              "      fill: #174EA6;\n",
              "    }\n",
              "\n",
              "    [theme=dark] .colab-df-convert {\n",
              "      background-color: #3B4455;\n",
              "      fill: #D2E3FC;\n",
              "    }\n",
              "\n",
              "    [theme=dark] .colab-df-convert:hover {\n",
              "      background-color: #434B5C;\n",
              "      box-shadow: 0px 1px 3px 1px rgba(0, 0, 0, 0.15);\n",
              "      filter: drop-shadow(0px 1px 2px rgba(0, 0, 0, 0.3));\n",
              "      fill: #FFFFFF;\n",
              "    }\n",
              "  </style>\n",
              "\n",
              "      <script>\n",
              "        const buttonEl =\n",
              "          document.querySelector('#df-2b664b6e-b651-4a57-ad02-aa3e94908655 button.colab-df-convert');\n",
              "        buttonEl.style.display =\n",
              "          google.colab.kernel.accessAllowed ? 'block' : 'none';\n",
              "\n",
              "        async function convertToInteractive(key) {\n",
              "          const element = document.querySelector('#df-2b664b6e-b651-4a57-ad02-aa3e94908655');\n",
              "          const dataTable =\n",
              "            await google.colab.kernel.invokeFunction('convertToInteractive',\n",
              "                                                     [key], {});\n",
              "          if (!dataTable) return;\n",
              "\n",
              "          const docLinkHtml = 'Like what you see? Visit the ' +\n",
              "            '<a target=\"_blank\" href=https://colab.research.google.com/notebooks/data_table.ipynb>data table notebook</a>'\n",
              "            + ' to learn more about interactive tables.';\n",
              "          element.innerHTML = '';\n",
              "          dataTable['output_type'] = 'display_data';\n",
              "          await google.colab.output.renderOutput(dataTable, element);\n",
              "          const docLink = document.createElement('div');\n",
              "          docLink.innerHTML = docLinkHtml;\n",
              "          element.appendChild(docLink);\n",
              "        }\n",
              "      </script>\n",
              "    </div>\n",
              "  </div>\n",
              "  "
            ],
            "text/plain": [
              "         column_name  percent_missing\n",
              "var_11        var_11            94.28\n",
              "var_12        var_12            80.54\n",
              "var_15        var_15            94.28\n",
              "var_16        var_16            80.54\n",
              "var_19        var_19            94.66\n",
              "...              ...              ...\n",
              "var_5474    var_5474            95.64\n",
              "var_5475    var_5475            95.72\n",
              "var_5476    var_5476            97.32\n",
              "var_5477    var_5477            99.98\n",
              "var_5478    var_5478            89.96\n",
              "\n",
              "[1869 rows x 2 columns]"
            ]
          },
          "execution_count": 234,
          "metadata": {},
          "output_type": "execute_result"
        }
      ],
      "source": [
        "mxmiss_test1"
      ]
    },
    {
      "cell_type": "code",
      "execution_count": null,
      "metadata": {
        "colab": {
          "base_uri": "https://localhost:8080/"
        },
        "id": "aknzsrHfrg88",
        "outputId": "67801cdd-06d0-440c-ecde-5000de55bc47"
      },
      "outputs": [
        {
          "data": {
            "text/plain": [
              "(1869, 2)"
            ]
          },
          "execution_count": 235,
          "metadata": {},
          "output_type": "execute_result"
        }
      ],
      "source": [
        "mxmiss_test1.shape"
      ]
    },
    {
      "cell_type": "code",
      "execution_count": null,
      "metadata": {
        "id": "F7yLFUikrg88"
      },
      "outputs": [],
      "source": [
        "row_index_test=mxmiss_test1.index\n",
        "row_index_test=list(row_index_test)\n",
        "df_test=df_test.drop(row_index_test,axis=1) "
      ]
    },
    {
      "cell_type": "code",
      "execution_count": null,
      "metadata": {
        "colab": {
          "base_uri": "https://localhost:8080/",
          "height": 279
        },
        "id": "0aFa2LcZsR3k",
        "outputId": "c3e2548e-f0d8-4f64-8fe8-c7776c967f5f"
      },
      "outputs": [
        {
          "data": {
            "text/html": [
              "\n",
              "  <div id=\"df-03af6c84-4c85-4018-a888-d087b7e2d2a9\">\n",
              "    <div class=\"colab-df-container\">\n",
              "      <div>\n",
              "<style scoped>\n",
              "    .dataframe tbody tr th:only-of-type {\n",
              "        vertical-align: middle;\n",
              "    }\n",
              "\n",
              "    .dataframe tbody tr th {\n",
              "        vertical-align: top;\n",
              "    }\n",
              "\n",
              "    .dataframe thead th {\n",
              "        text-align: right;\n",
              "    }\n",
              "</style>\n",
              "<table border=\"1\" class=\"dataframe\">\n",
              "  <thead>\n",
              "    <tr style=\"text-align: right;\">\n",
              "      <th></th>\n",
              "      <th>var_1</th>\n",
              "      <th>var_2</th>\n",
              "      <th>var_3</th>\n",
              "      <th>var_4</th>\n",
              "      <th>var_5</th>\n",
              "      <th>var_6</th>\n",
              "      <th>var_7</th>\n",
              "      <th>var_8</th>\n",
              "      <th>var_9</th>\n",
              "      <th>var_10</th>\n",
              "      <th>...</th>\n",
              "      <th>var_5456</th>\n",
              "      <th>var_5457</th>\n",
              "      <th>var_5458</th>\n",
              "      <th>var_5460</th>\n",
              "      <th>var_5461</th>\n",
              "      <th>var_5462</th>\n",
              "      <th>var_5463</th>\n",
              "      <th>var_5464</th>\n",
              "      <th>var_5466</th>\n",
              "      <th>var_5472</th>\n",
              "    </tr>\n",
              "  </thead>\n",
              "  <tbody>\n",
              "    <tr>\n",
              "      <th>0</th>\n",
              "      <td>0.015625</td>\n",
              "      <td>0.0</td>\n",
              "      <td>0.0</td>\n",
              "      <td>0.0</td>\n",
              "      <td>0.0</td>\n",
              "      <td>0.0</td>\n",
              "      <td>0.0</td>\n",
              "      <td>0.0</td>\n",
              "      <td>0.018072</td>\n",
              "      <td>0.128426</td>\n",
              "      <td>...</td>\n",
              "      <td>0.059524</td>\n",
              "      <td>0.036810</td>\n",
              "      <td>0.068376</td>\n",
              "      <td>0.079254</td>\n",
              "      <td>0.052632</td>\n",
              "      <td>0.046980</td>\n",
              "      <td>0.049020</td>\n",
              "      <td>0.084211</td>\n",
              "      <td>0.070866</td>\n",
              "      <td>0.0125</td>\n",
              "    </tr>\n",
              "    <tr>\n",
              "      <th>1</th>\n",
              "      <td>0.015625</td>\n",
              "      <td>0.0</td>\n",
              "      <td>0.0</td>\n",
              "      <td>0.0</td>\n",
              "      <td>0.0</td>\n",
              "      <td>0.0</td>\n",
              "      <td>0.0</td>\n",
              "      <td>0.0</td>\n",
              "      <td>0.018072</td>\n",
              "      <td>0.111644</td>\n",
              "      <td>...</td>\n",
              "      <td>0.041667</td>\n",
              "      <td>0.055215</td>\n",
              "      <td>NaN</td>\n",
              "      <td>0.069930</td>\n",
              "      <td>0.105263</td>\n",
              "      <td>0.026846</td>\n",
              "      <td>0.029412</td>\n",
              "      <td>NaN</td>\n",
              "      <td>0.044619</td>\n",
              "      <td>NaN</td>\n",
              "    </tr>\n",
              "    <tr>\n",
              "      <th>2</th>\n",
              "      <td>0.015625</td>\n",
              "      <td>0.0</td>\n",
              "      <td>0.0</td>\n",
              "      <td>0.0</td>\n",
              "      <td>0.0</td>\n",
              "      <td>0.0</td>\n",
              "      <td>0.0</td>\n",
              "      <td>0.0</td>\n",
              "      <td>0.012048</td>\n",
              "      <td>0.106633</td>\n",
              "      <td>...</td>\n",
              "      <td>0.017857</td>\n",
              "      <td>0.049080</td>\n",
              "      <td>0.000000</td>\n",
              "      <td>0.037296</td>\n",
              "      <td>NaN</td>\n",
              "      <td>0.000000</td>\n",
              "      <td>0.029412</td>\n",
              "      <td>NaN</td>\n",
              "      <td>0.010499</td>\n",
              "      <td>NaN</td>\n",
              "    </tr>\n",
              "    <tr>\n",
              "      <th>3</th>\n",
              "      <td>0.000000</td>\n",
              "      <td>0.0</td>\n",
              "      <td>0.0</td>\n",
              "      <td>0.0</td>\n",
              "      <td>0.0</td>\n",
              "      <td>0.0</td>\n",
              "      <td>0.0</td>\n",
              "      <td>0.0</td>\n",
              "      <td>NaN</td>\n",
              "      <td>NaN</td>\n",
              "      <td>...</td>\n",
              "      <td>0.029762</td>\n",
              "      <td>NaN</td>\n",
              "      <td>NaN</td>\n",
              "      <td>0.020979</td>\n",
              "      <td>0.026316</td>\n",
              "      <td>0.020134</td>\n",
              "      <td>NaN</td>\n",
              "      <td>NaN</td>\n",
              "      <td>0.015748</td>\n",
              "      <td>NaN</td>\n",
              "    </tr>\n",
              "    <tr>\n",
              "      <th>4</th>\n",
              "      <td>0.046875</td>\n",
              "      <td>0.0</td>\n",
              "      <td>0.0</td>\n",
              "      <td>0.0</td>\n",
              "      <td>0.0</td>\n",
              "      <td>0.0</td>\n",
              "      <td>0.0</td>\n",
              "      <td>0.0</td>\n",
              "      <td>NaN</td>\n",
              "      <td>0.106633</td>\n",
              "      <td>...</td>\n",
              "      <td>0.011905</td>\n",
              "      <td>0.006135</td>\n",
              "      <td>NaN</td>\n",
              "      <td>0.011655</td>\n",
              "      <td>NaN</td>\n",
              "      <td>NaN</td>\n",
              "      <td>0.000000</td>\n",
              "      <td>NaN</td>\n",
              "      <td>0.000000</td>\n",
              "      <td>NaN</td>\n",
              "    </tr>\n",
              "  </tbody>\n",
              "</table>\n",
              "<p>5 rows × 3609 columns</p>\n",
              "</div>\n",
              "      <button class=\"colab-df-convert\" onclick=\"convertToInteractive('df-03af6c84-4c85-4018-a888-d087b7e2d2a9')\"\n",
              "              title=\"Convert this dataframe to an interactive table.\"\n",
              "              style=\"display:none;\">\n",
              "        \n",
              "  <svg xmlns=\"http://www.w3.org/2000/svg\" height=\"24px\"viewBox=\"0 0 24 24\"\n",
              "       width=\"24px\">\n",
              "    <path d=\"M0 0h24v24H0V0z\" fill=\"none\"/>\n",
              "    <path d=\"M18.56 5.44l.94 2.06.94-2.06 2.06-.94-2.06-.94-.94-2.06-.94 2.06-2.06.94zm-11 1L8.5 8.5l.94-2.06 2.06-.94-2.06-.94L8.5 2.5l-.94 2.06-2.06.94zm10 10l.94 2.06.94-2.06 2.06-.94-2.06-.94-.94-2.06-.94 2.06-2.06.94z\"/><path d=\"M17.41 7.96l-1.37-1.37c-.4-.4-.92-.59-1.43-.59-.52 0-1.04.2-1.43.59L10.3 9.45l-7.72 7.72c-.78.78-.78 2.05 0 2.83L4 21.41c.39.39.9.59 1.41.59.51 0 1.02-.2 1.41-.59l7.78-7.78 2.81-2.81c.8-.78.8-2.07 0-2.86zM5.41 20L4 18.59l7.72-7.72 1.47 1.35L5.41 20z\"/>\n",
              "  </svg>\n",
              "      </button>\n",
              "      \n",
              "  <style>\n",
              "    .colab-df-container {\n",
              "      display:flex;\n",
              "      flex-wrap:wrap;\n",
              "      gap: 12px;\n",
              "    }\n",
              "\n",
              "    .colab-df-convert {\n",
              "      background-color: #E8F0FE;\n",
              "      border: none;\n",
              "      border-radius: 50%;\n",
              "      cursor: pointer;\n",
              "      display: none;\n",
              "      fill: #1967D2;\n",
              "      height: 32px;\n",
              "      padding: 0 0 0 0;\n",
              "      width: 32px;\n",
              "    }\n",
              "\n",
              "    .colab-df-convert:hover {\n",
              "      background-color: #E2EBFA;\n",
              "      box-shadow: 0px 1px 2px rgba(60, 64, 67, 0.3), 0px 1px 3px 1px rgba(60, 64, 67, 0.15);\n",
              "      fill: #174EA6;\n",
              "    }\n",
              "\n",
              "    [theme=dark] .colab-df-convert {\n",
              "      background-color: #3B4455;\n",
              "      fill: #D2E3FC;\n",
              "    }\n",
              "\n",
              "    [theme=dark] .colab-df-convert:hover {\n",
              "      background-color: #434B5C;\n",
              "      box-shadow: 0px 1px 3px 1px rgba(0, 0, 0, 0.15);\n",
              "      filter: drop-shadow(0px 1px 2px rgba(0, 0, 0, 0.3));\n",
              "      fill: #FFFFFF;\n",
              "    }\n",
              "  </style>\n",
              "\n",
              "      <script>\n",
              "        const buttonEl =\n",
              "          document.querySelector('#df-03af6c84-4c85-4018-a888-d087b7e2d2a9 button.colab-df-convert');\n",
              "        buttonEl.style.display =\n",
              "          google.colab.kernel.accessAllowed ? 'block' : 'none';\n",
              "\n",
              "        async function convertToInteractive(key) {\n",
              "          const element = document.querySelector('#df-03af6c84-4c85-4018-a888-d087b7e2d2a9');\n",
              "          const dataTable =\n",
              "            await google.colab.kernel.invokeFunction('convertToInteractive',\n",
              "                                                     [key], {});\n",
              "          if (!dataTable) return;\n",
              "\n",
              "          const docLinkHtml = 'Like what you see? Visit the ' +\n",
              "            '<a target=\"_blank\" href=https://colab.research.google.com/notebooks/data_table.ipynb>data table notebook</a>'\n",
              "            + ' to learn more about interactive tables.';\n",
              "          element.innerHTML = '';\n",
              "          dataTable['output_type'] = 'display_data';\n",
              "          await google.colab.output.renderOutput(dataTable, element);\n",
              "          const docLink = document.createElement('div');\n",
              "          docLink.innerHTML = docLinkHtml;\n",
              "          element.appendChild(docLink);\n",
              "        }\n",
              "      </script>\n",
              "    </div>\n",
              "  </div>\n",
              "  "
            ],
            "text/plain": [
              "      var_1  var_2  var_3  var_4  var_5  var_6  var_7  var_8     var_9  \\\n",
              "0  0.015625    0.0    0.0    0.0    0.0    0.0    0.0    0.0  0.018072   \n",
              "1  0.015625    0.0    0.0    0.0    0.0    0.0    0.0    0.0  0.018072   \n",
              "2  0.015625    0.0    0.0    0.0    0.0    0.0    0.0    0.0  0.012048   \n",
              "3  0.000000    0.0    0.0    0.0    0.0    0.0    0.0    0.0       NaN   \n",
              "4  0.046875    0.0    0.0    0.0    0.0    0.0    0.0    0.0       NaN   \n",
              "\n",
              "     var_10  ...  var_5456  var_5457  var_5458  var_5460  var_5461  var_5462  \\\n",
              "0  0.128426  ...  0.059524  0.036810  0.068376  0.079254  0.052632  0.046980   \n",
              "1  0.111644  ...  0.041667  0.055215       NaN  0.069930  0.105263  0.026846   \n",
              "2  0.106633  ...  0.017857  0.049080  0.000000  0.037296       NaN  0.000000   \n",
              "3       NaN  ...  0.029762       NaN       NaN  0.020979  0.026316  0.020134   \n",
              "4  0.106633  ...  0.011905  0.006135       NaN  0.011655       NaN       NaN   \n",
              "\n",
              "   var_5463  var_5464  var_5466  var_5472  \n",
              "0  0.049020  0.084211  0.070866    0.0125  \n",
              "1  0.029412       NaN  0.044619       NaN  \n",
              "2  0.029412       NaN  0.010499       NaN  \n",
              "3       NaN       NaN  0.015748       NaN  \n",
              "4  0.000000       NaN  0.000000       NaN  \n",
              "\n",
              "[5 rows x 3609 columns]"
            ]
          },
          "execution_count": 237,
          "metadata": {},
          "output_type": "execute_result"
        }
      ],
      "source": [
        "df_test.head()"
      ]
    },
    {
      "cell_type": "code",
      "execution_count": null,
      "metadata": {
        "colab": {
          "base_uri": "https://localhost:8080/"
        },
        "id": "xl0PTVDye39M",
        "outputId": "2153d7a3-dfb5-4964-de2d-450512034242"
      },
      "outputs": [
        {
          "name": "stdout",
          "output_type": "stream",
          "text": [
            "False\n",
            "True\n"
          ]
        }
      ],
      "source": [
        "print(np.any(np.isinf(df_test)))\n",
        "print(np.any(np.isnan(df_test)))"
      ]
    },
    {
      "cell_type": "code",
      "execution_count": null,
      "metadata": {
        "id": "4Cie3wyD0q-T"
      },
      "outputs": [],
      "source": [
        "df_test.to_csv('df_test.csv')"
      ]
    },
    {
      "cell_type": "code",
      "execution_count": null,
      "metadata": {
        "id": "tcTTsFdb4HWZ"
      },
      "outputs": [],
      "source": [
        "import dask.dataframe as dd"
      ]
    },
    {
      "cell_type": "code",
      "execution_count": null,
      "metadata": {
        "id": "88mzB0Fh1i0D"
      },
      "outputs": [],
      "source": [
        "df_test_dd=dd.read_csv('df_test.csv')"
      ]
    },
    {
      "cell_type": "code",
      "execution_count": null,
      "metadata": {
        "colab": {
          "base_uri": "https://localhost:8080/",
          "height": 297
        },
        "id": "p0378S3UwbH2",
        "outputId": "36c4da5e-7a6d-4309-c60b-697046b463e7"
      },
      "outputs": [
        {
          "data": {
            "text/html": [
              "\n",
              "  <div id=\"df-339dd34d-e549-4e93-a81a-43fcee5e1fb9\">\n",
              "    <div class=\"colab-df-container\">\n",
              "      <div>\n",
              "<style scoped>\n",
              "    .dataframe tbody tr th:only-of-type {\n",
              "        vertical-align: middle;\n",
              "    }\n",
              "\n",
              "    .dataframe tbody tr th {\n",
              "        vertical-align: top;\n",
              "    }\n",
              "\n",
              "    .dataframe thead th {\n",
              "        text-align: right;\n",
              "    }\n",
              "</style>\n",
              "<table border=\"1\" class=\"dataframe\">\n",
              "  <thead>\n",
              "    <tr style=\"text-align: right;\">\n",
              "      <th></th>\n",
              "      <th>Unnamed: 0</th>\n",
              "      <th>var_1</th>\n",
              "      <th>var_2</th>\n",
              "      <th>var_3</th>\n",
              "      <th>var_4</th>\n",
              "      <th>var_5</th>\n",
              "      <th>var_6</th>\n",
              "      <th>var_7</th>\n",
              "      <th>var_8</th>\n",
              "      <th>var_9</th>\n",
              "      <th>...</th>\n",
              "      <th>var_5456</th>\n",
              "      <th>var_5457</th>\n",
              "      <th>var_5458</th>\n",
              "      <th>var_5460</th>\n",
              "      <th>var_5461</th>\n",
              "      <th>var_5462</th>\n",
              "      <th>var_5463</th>\n",
              "      <th>var_5464</th>\n",
              "      <th>var_5466</th>\n",
              "      <th>var_5472</th>\n",
              "    </tr>\n",
              "  </thead>\n",
              "  <tbody>\n",
              "    <tr>\n",
              "      <th>0</th>\n",
              "      <td>0</td>\n",
              "      <td>0.015625</td>\n",
              "      <td>0.0</td>\n",
              "      <td>0.0</td>\n",
              "      <td>0.0</td>\n",
              "      <td>0.0</td>\n",
              "      <td>0.0</td>\n",
              "      <td>0.0</td>\n",
              "      <td>0.0</td>\n",
              "      <td>0.018072</td>\n",
              "      <td>...</td>\n",
              "      <td>0.059524</td>\n",
              "      <td>0.036810</td>\n",
              "      <td>0.068376</td>\n",
              "      <td>0.079254</td>\n",
              "      <td>0.052632</td>\n",
              "      <td>0.046980</td>\n",
              "      <td>0.049020</td>\n",
              "      <td>0.084211</td>\n",
              "      <td>0.070866</td>\n",
              "      <td>0.0125</td>\n",
              "    </tr>\n",
              "    <tr>\n",
              "      <th>1</th>\n",
              "      <td>1</td>\n",
              "      <td>0.015625</td>\n",
              "      <td>0.0</td>\n",
              "      <td>0.0</td>\n",
              "      <td>0.0</td>\n",
              "      <td>0.0</td>\n",
              "      <td>0.0</td>\n",
              "      <td>0.0</td>\n",
              "      <td>0.0</td>\n",
              "      <td>0.018072</td>\n",
              "      <td>...</td>\n",
              "      <td>0.041667</td>\n",
              "      <td>0.055215</td>\n",
              "      <td>NaN</td>\n",
              "      <td>0.069930</td>\n",
              "      <td>0.105263</td>\n",
              "      <td>0.026846</td>\n",
              "      <td>0.029412</td>\n",
              "      <td>NaN</td>\n",
              "      <td>0.044619</td>\n",
              "      <td>NaN</td>\n",
              "    </tr>\n",
              "    <tr>\n",
              "      <th>2</th>\n",
              "      <td>2</td>\n",
              "      <td>0.015625</td>\n",
              "      <td>0.0</td>\n",
              "      <td>0.0</td>\n",
              "      <td>0.0</td>\n",
              "      <td>0.0</td>\n",
              "      <td>0.0</td>\n",
              "      <td>0.0</td>\n",
              "      <td>0.0</td>\n",
              "      <td>0.012048</td>\n",
              "      <td>...</td>\n",
              "      <td>0.017857</td>\n",
              "      <td>0.049080</td>\n",
              "      <td>0.000000</td>\n",
              "      <td>0.037296</td>\n",
              "      <td>NaN</td>\n",
              "      <td>0.000000</td>\n",
              "      <td>0.029412</td>\n",
              "      <td>NaN</td>\n",
              "      <td>0.010499</td>\n",
              "      <td>NaN</td>\n",
              "    </tr>\n",
              "    <tr>\n",
              "      <th>3</th>\n",
              "      <td>3</td>\n",
              "      <td>0.000000</td>\n",
              "      <td>0.0</td>\n",
              "      <td>0.0</td>\n",
              "      <td>0.0</td>\n",
              "      <td>0.0</td>\n",
              "      <td>0.0</td>\n",
              "      <td>0.0</td>\n",
              "      <td>0.0</td>\n",
              "      <td>NaN</td>\n",
              "      <td>...</td>\n",
              "      <td>0.029762</td>\n",
              "      <td>NaN</td>\n",
              "      <td>NaN</td>\n",
              "      <td>0.020979</td>\n",
              "      <td>0.026316</td>\n",
              "      <td>0.020134</td>\n",
              "      <td>NaN</td>\n",
              "      <td>NaN</td>\n",
              "      <td>0.015748</td>\n",
              "      <td>NaN</td>\n",
              "    </tr>\n",
              "    <tr>\n",
              "      <th>4</th>\n",
              "      <td>4</td>\n",
              "      <td>0.046875</td>\n",
              "      <td>0.0</td>\n",
              "      <td>0.0</td>\n",
              "      <td>0.0</td>\n",
              "      <td>0.0</td>\n",
              "      <td>0.0</td>\n",
              "      <td>0.0</td>\n",
              "      <td>0.0</td>\n",
              "      <td>NaN</td>\n",
              "      <td>...</td>\n",
              "      <td>0.011905</td>\n",
              "      <td>0.006135</td>\n",
              "      <td>NaN</td>\n",
              "      <td>0.011655</td>\n",
              "      <td>NaN</td>\n",
              "      <td>NaN</td>\n",
              "      <td>0.000000</td>\n",
              "      <td>NaN</td>\n",
              "      <td>0.000000</td>\n",
              "      <td>NaN</td>\n",
              "    </tr>\n",
              "  </tbody>\n",
              "</table>\n",
              "<p>5 rows × 3610 columns</p>\n",
              "</div>\n",
              "      <button class=\"colab-df-convert\" onclick=\"convertToInteractive('df-339dd34d-e549-4e93-a81a-43fcee5e1fb9')\"\n",
              "              title=\"Convert this dataframe to an interactive table.\"\n",
              "              style=\"display:none;\">\n",
              "        \n",
              "  <svg xmlns=\"http://www.w3.org/2000/svg\" height=\"24px\"viewBox=\"0 0 24 24\"\n",
              "       width=\"24px\">\n",
              "    <path d=\"M0 0h24v24H0V0z\" fill=\"none\"/>\n",
              "    <path d=\"M18.56 5.44l.94 2.06.94-2.06 2.06-.94-2.06-.94-.94-2.06-.94 2.06-2.06.94zm-11 1L8.5 8.5l.94-2.06 2.06-.94-2.06-.94L8.5 2.5l-.94 2.06-2.06.94zm10 10l.94 2.06.94-2.06 2.06-.94-2.06-.94-.94-2.06-.94 2.06-2.06.94z\"/><path d=\"M17.41 7.96l-1.37-1.37c-.4-.4-.92-.59-1.43-.59-.52 0-1.04.2-1.43.59L10.3 9.45l-7.72 7.72c-.78.78-.78 2.05 0 2.83L4 21.41c.39.39.9.59 1.41.59.51 0 1.02-.2 1.41-.59l7.78-7.78 2.81-2.81c.8-.78.8-2.07 0-2.86zM5.41 20L4 18.59l7.72-7.72 1.47 1.35L5.41 20z\"/>\n",
              "  </svg>\n",
              "      </button>\n",
              "      \n",
              "  <style>\n",
              "    .colab-df-container {\n",
              "      display:flex;\n",
              "      flex-wrap:wrap;\n",
              "      gap: 12px;\n",
              "    }\n",
              "\n",
              "    .colab-df-convert {\n",
              "      background-color: #E8F0FE;\n",
              "      border: none;\n",
              "      border-radius: 50%;\n",
              "      cursor: pointer;\n",
              "      display: none;\n",
              "      fill: #1967D2;\n",
              "      height: 32px;\n",
              "      padding: 0 0 0 0;\n",
              "      width: 32px;\n",
              "    }\n",
              "\n",
              "    .colab-df-convert:hover {\n",
              "      background-color: #E2EBFA;\n",
              "      box-shadow: 0px 1px 2px rgba(60, 64, 67, 0.3), 0px 1px 3px 1px rgba(60, 64, 67, 0.15);\n",
              "      fill: #174EA6;\n",
              "    }\n",
              "\n",
              "    [theme=dark] .colab-df-convert {\n",
              "      background-color: #3B4455;\n",
              "      fill: #D2E3FC;\n",
              "    }\n",
              "\n",
              "    [theme=dark] .colab-df-convert:hover {\n",
              "      background-color: #434B5C;\n",
              "      box-shadow: 0px 1px 3px 1px rgba(0, 0, 0, 0.15);\n",
              "      filter: drop-shadow(0px 1px 2px rgba(0, 0, 0, 0.3));\n",
              "      fill: #FFFFFF;\n",
              "    }\n",
              "  </style>\n",
              "\n",
              "      <script>\n",
              "        const buttonEl =\n",
              "          document.querySelector('#df-339dd34d-e549-4e93-a81a-43fcee5e1fb9 button.colab-df-convert');\n",
              "        buttonEl.style.display =\n",
              "          google.colab.kernel.accessAllowed ? 'block' : 'none';\n",
              "\n",
              "        async function convertToInteractive(key) {\n",
              "          const element = document.querySelector('#df-339dd34d-e549-4e93-a81a-43fcee5e1fb9');\n",
              "          const dataTable =\n",
              "            await google.colab.kernel.invokeFunction('convertToInteractive',\n",
              "                                                     [key], {});\n",
              "          if (!dataTable) return;\n",
              "\n",
              "          const docLinkHtml = 'Like what you see? Visit the ' +\n",
              "            '<a target=\"_blank\" href=https://colab.research.google.com/notebooks/data_table.ipynb>data table notebook</a>'\n",
              "            + ' to learn more about interactive tables.';\n",
              "          element.innerHTML = '';\n",
              "          dataTable['output_type'] = 'display_data';\n",
              "          await google.colab.output.renderOutput(dataTable, element);\n",
              "          const docLink = document.createElement('div');\n",
              "          docLink.innerHTML = docLinkHtml;\n",
              "          element.appendChild(docLink);\n",
              "        }\n",
              "      </script>\n",
              "    </div>\n",
              "  </div>\n",
              "  "
            ],
            "text/plain": [
              "   Unnamed: 0     var_1  var_2  var_3  var_4  var_5  var_6  var_7  var_8  \\\n",
              "0           0  0.015625    0.0    0.0    0.0    0.0    0.0    0.0    0.0   \n",
              "1           1  0.015625    0.0    0.0    0.0    0.0    0.0    0.0    0.0   \n",
              "2           2  0.015625    0.0    0.0    0.0    0.0    0.0    0.0    0.0   \n",
              "3           3  0.000000    0.0    0.0    0.0    0.0    0.0    0.0    0.0   \n",
              "4           4  0.046875    0.0    0.0    0.0    0.0    0.0    0.0    0.0   \n",
              "\n",
              "      var_9  ...  var_5456  var_5457  var_5458  var_5460  var_5461  var_5462  \\\n",
              "0  0.018072  ...  0.059524  0.036810  0.068376  0.079254  0.052632  0.046980   \n",
              "1  0.018072  ...  0.041667  0.055215       NaN  0.069930  0.105263  0.026846   \n",
              "2  0.012048  ...  0.017857  0.049080  0.000000  0.037296       NaN  0.000000   \n",
              "3       NaN  ...  0.029762       NaN       NaN  0.020979  0.026316  0.020134   \n",
              "4       NaN  ...  0.011905  0.006135       NaN  0.011655       NaN       NaN   \n",
              "\n",
              "   var_5463  var_5464  var_5466  var_5472  \n",
              "0  0.049020  0.084211  0.070866    0.0125  \n",
              "1  0.029412       NaN  0.044619       NaN  \n",
              "2  0.029412       NaN  0.010499       NaN  \n",
              "3       NaN       NaN  0.015748       NaN  \n",
              "4  0.000000       NaN  0.000000       NaN  \n",
              "\n",
              "[5 rows x 3610 columns]"
            ]
          },
          "execution_count": 242,
          "metadata": {},
          "output_type": "execute_result"
        }
      ],
      "source": [
        "df_test_dd.head()"
      ]
    },
    {
      "cell_type": "code",
      "execution_count": null,
      "metadata": {
        "id": "stRgQu9v1yRE"
      },
      "outputs": [],
      "source": [
        "def dd(df):\n",
        "  df = df.loc[:, ~df.columns.str.contains('^Unnamed')]\n",
        "  return df\n",
        "df_daa=dd(df_test_dd)"
      ]
    },
    {
      "cell_type": "code",
      "execution_count": null,
      "metadata": {
        "id": "DpFrNRSu1yRF"
      },
      "outputs": [],
      "source": [
        "# converting into numpy array\n",
        "def mgen(df):\n",
        "  data=df.values\n",
        "  return data\n",
        "df_dask2=mgen(df_daa)"
      ]
    },
    {
      "cell_type": "code",
      "execution_count": null,
      "metadata": {
        "id": "C0JlIZf31yRF"
      },
      "outputs": [],
      "source": [
        "# replacing all nan values with zero\n",
        "df_dask2[np.isnan(df_dask2)]=0"
      ]
    },
    {
      "cell_type": "code",
      "execution_count": null,
      "metadata": {
        "colab": {
          "base_uri": "https://localhost:8080/"
        },
        "id": "XgoHgoMf1yRF",
        "outputId": "dc91c313-b9a5-4892-f98e-3642ef797518"
      },
      "outputs": [
        {
          "data": {
            "text/plain": [
              "dask.array.core.Array"
            ]
          },
          "execution_count": 246,
          "metadata": {},
          "output_type": "execute_result"
        }
      ],
      "source": [
        "type(df_dask2)"
      ]
    },
    {
      "cell_type": "code",
      "execution_count": null,
      "metadata": {
        "id": "sciN2szr1yRF"
      },
      "outputs": [],
      "source": [
        "def col(df):\n",
        "  columns=df.columns\n",
        "  return columns\n",
        "columns1=col(df_daa)"
      ]
    },
    {
      "cell_type": "code",
      "execution_count": null,
      "metadata": {
        "colab": {
          "base_uri": "https://localhost:8080/"
        },
        "id": "6bkFikeh1yRF",
        "outputId": "32e39f4e-d6f9-4295-8bb8-2500660aafd8"
      },
      "outputs": [
        {
          "data": {
            "text/plain": [
              "3609"
            ]
          },
          "execution_count": 248,
          "metadata": {},
          "output_type": "execute_result"
        }
      ],
      "source": [
        "len(columns1)"
      ]
    },
    {
      "cell_type": "code",
      "execution_count": null,
      "metadata": {
        "colab": {
          "base_uri": "https://localhost:8080/"
        },
        "id": "Ed7lgCOe1yRF",
        "outputId": "1081ce1c-16b3-4b76-8598-ad4b3719db63"
      },
      "outputs": [
        {
          "name": "stderr",
          "output_type": "stream",
          "text": [
            "/usr/local/lib/python3.9/dist-packages/dask/array/core.py:1712: FutureWarning: The `numpy.may_share_memory` function is not implemented by Dask array. You may want to use the da.map_blocks function or something similar to silence this warning. Your code may stop working in a future release.\n",
            "  warnings.warn(\n"
          ]
        }
      ],
      "source": [
        "# standardizing the data ( scaling the data )\n",
        "from sklearn.preprocessing import MinMaxScaler\n",
        "def minmax(df_df):\n",
        "  global scaler\n",
        "  scaler=MinMaxScaler()\n",
        "  dd=scaler.fit_transform(df_df)\n",
        "  return dd\n",
        "data_scaled1=minmax(df_dask2)"
      ]
    },
    {
      "cell_type": "code",
      "execution_count": null,
      "metadata": {
        "colab": {
          "base_uri": "https://localhost:8080/"
        },
        "id": "MDzWIaby1yRF",
        "outputId": "3dbc582d-81e5-4187-c10c-9cab342fd31e"
      },
      "outputs": [
        {
          "data": {
            "text/plain": [
              "array([[0.01754386, 0.        , 0.        , ..., 0.06956522, 0.06835443,\n",
              "        0.02830189],\n",
              "       [0.01754386, 0.        , 0.        , ..., 0.        , 0.04303797,\n",
              "        0.        ],\n",
              "       [0.01754386, 0.        , 0.        , ..., 0.        , 0.01012658,\n",
              "        0.        ],\n",
              "       ...,\n",
              "       [0.        , 0.        , 0.        , ..., 0.        , 0.00253165,\n",
              "        0.        ],\n",
              "       [0.        , 0.        , 0.        , ..., 0.0173913 , 0.03544304,\n",
              "        0.00943396],\n",
              "       [0.        , 0.        , 0.        , ..., 0.        , 0.01518987,\n",
              "        0.        ]])"
            ]
          },
          "execution_count": 250,
          "metadata": {},
          "output_type": "execute_result"
        }
      ],
      "source": [
        "data_scaled1"
      ]
    },
    {
      "cell_type": "code",
      "execution_count": null,
      "metadata": {
        "colab": {
          "base_uri": "https://localhost:8080/"
        },
        "id": "uhcpY2uX1yRF",
        "outputId": "aa6ac059-4fcb-47ab-fbd0-bbf569413707"
      },
      "outputs": [
        {
          "data": {
            "text/plain": [
              "3609"
            ]
          },
          "execution_count": 251,
          "metadata": {},
          "output_type": "execute_result"
        }
      ],
      "source": [
        "data_scaled1.shape[1]"
      ]
    },
    {
      "cell_type": "code",
      "execution_count": null,
      "metadata": {
        "colab": {
          "base_uri": "https://localhost:8080/",
          "height": 430
        },
        "id": "1w2aH4vY1yRF",
        "outputId": "7c85709e-3764-4a2d-c5f4-ddf6cc3c88ee"
      },
      "outputs": [
        {
          "data": {
            "image/png": "[encoded data removed]",
            "text/plain": [
              "<Figure size 640x480 with 1 Axes>"
            ]
          },
          "metadata": {},
          "output_type": "display_data"
        }
      ],
      "source": [
        "\"\"\"\n",
        "from sklearn.decomposition import TruncatedSVD\n",
        "import matplotlib.pyplot as plt\n",
        "\n",
        "n_components = (data_scaled1.shape[1])\n",
        "svd = TruncatedSVD(n_components=n_components)\n",
        "svd.fit_transform(data_scaled1) \n",
        "explained_var_ratio = svd.explained_variance_ratio_\n",
        "plt.plot(np.cumsum(explained_var_ratio))\n",
        "plt.show()\n",
        "\"\"\""
      ]
    },
    {
      "cell_type": "code",
      "execution_count": null,
      "metadata": {
        "id": "wqUP96lu7B4T"
      },
      "outputs": [],
      "source": [
        "from sklearn.decomposition import TruncatedSVD\n",
        "svd1 = TruncatedSVD(n_components=500)\n",
        "data_imputed1=svd1.fit_transform(data_scaled1)"
      ]
    },
    {
      "cell_type": "code",
      "execution_count": null,
      "metadata": {
        "colab": {
          "base_uri": "https://localhost:8080/"
        },
        "id": "-V5spCFR7B4T",
        "outputId": "2752e958-ff44-4f80-fcf1-4290f5bdac7e"
      },
      "outputs": [
        {
          "data": {
            "text/plain": [
              "(5000, 500)"
            ]
          },
          "execution_count": 253,
          "metadata": {},
          "output_type": "execute_result"
        }
      ],
      "source": [
        "data_imputed1.shape"
      ]
    },
    {
      "cell_type": "code",
      "execution_count": null,
      "metadata": {
        "colab": {
          "base_uri": "https://localhost:8080/"
        },
        "id": "WebLfkf87B4U",
        "outputId": "18867cae-6baa-46e2-d4e1-c3dc9420c1d0"
      },
      "outputs": [
        {
          "data": {
            "text/plain": [
              "(500, 3609)"
            ]
          },
          "execution_count": 254,
          "metadata": {},
          "output_type": "execute_result"
        }
      ],
      "source": [
        "svd1.components_.shape"
      ]
    },
    {
      "cell_type": "code",
      "execution_count": null,
      "metadata": {
        "id": "iHkYqeva7B4U"
      },
      "outputs": [],
      "source": [
        "data_imp1=np.dot(data_imputed1,svd1.components_)"
      ]
    },
    {
      "cell_type": "code",
      "execution_count": null,
      "metadata": {
        "colab": {
          "base_uri": "https://localhost:8080/"
        },
        "id": "zQYaHpCD7B4U",
        "outputId": "f652a957-4852-42ff-c7be-0fe554bbbcd2"
      },
      "outputs": [
        {
          "data": {
            "text/plain": [
              "(5000, 3609)"
            ]
          },
          "execution_count": 256,
          "metadata": {},
          "output_type": "execute_result"
        }
      ],
      "source": [
        "data_imp1.shape"
      ]
    },
    {
      "cell_type": "code",
      "execution_count": null,
      "metadata": {
        "id": "41u3igb77B4U"
      },
      "outputs": [],
      "source": [
        "# descaling the data\n",
        "final_data1=scaler.inverse_transform(data_imp1)"
      ]
    },
    {
      "cell_type": "code",
      "execution_count": null,
      "metadata": {
        "colab": {
          "base_uri": "https://localhost:8080/"
        },
        "id": "4-Xwc0aM7B4U",
        "outputId": "302fc155-d064-44dc-cacc-2e11c50d690d"
      },
      "outputs": [
        {
          "data": {
            "text/plain": [
              "array([[ 1.34333602e-02, -9.84863776e-04,  4.05559170e-04, ...,\n",
              "         7.78465057e-02,  6.52716367e-02,  9.63051498e-03],\n",
              "       [ 1.48171433e-02,  9.70331843e-04,  1.13683339e-03, ...,\n",
              "         1.95271798e-03,  3.96689568e-02,  1.51341764e-03],\n",
              "       [ 1.64339012e-02,  6.38578065e-05, -2.43607437e-03, ...,\n",
              "        -7.56679433e-03,  5.88731197e-03,  1.35113627e-03],\n",
              "       ...,\n",
              "       [ 1.38755799e-03, -2.00951881e-03, -2.26503218e-03, ...,\n",
              "        -5.91117942e-04, -2.59493623e-04, -1.91333827e-03],\n",
              "       [ 3.81809761e-03,  3.28896717e-03, -3.71274656e-03, ...,\n",
              "         2.07005685e-02,  3.25061007e-02,  4.60317603e-03],\n",
              "       [ 8.17696804e-04, -1.41252350e-03,  7.21550957e-04, ...,\n",
              "        -6.11827806e-03,  1.54449382e-02,  2.15628338e-04]])"
            ]
          },
          "execution_count": 258,
          "metadata": {},
          "output_type": "execute_result"
        }
      ],
      "source": [
        "final_data1"
      ]
    },
    {
      "cell_type": "code",
      "execution_count": null,
      "metadata": {
        "id": "pf2pLzHB7B4U"
      },
      "outputs": [],
      "source": [
        "# converting it into a dataframe\n",
        "final_dataframe1=pd.DataFrame(final_data1,columns=columns1)"
      ]
    },
    {
      "cell_type": "code",
      "execution_count": null,
      "metadata": {
        "colab": {
          "base_uri": "https://localhost:8080/",
          "height": 386
        },
        "id": "jNLU38298P2f",
        "outputId": "ff6b998b-ca82-4802-b1a5-b5b48c59724f"
      },
      "outputs": [
        {
          "data": {
            "text/html": [
              "\n",
              "  <div id=\"df-ebb1d229-a3a7-4f63-9f5b-71434e9f82da\">\n",
              "    <div class=\"colab-df-container\">\n",
              "      <div>\n",
              "<style scoped>\n",
              "    .dataframe tbody tr th:only-of-type {\n",
              "        vertical-align: middle;\n",
              "    }\n",
              "\n",
              "    .dataframe tbody tr th {\n",
              "        vertical-align: top;\n",
              "    }\n",
              "\n",
              "    .dataframe thead th {\n",
              "        text-align: right;\n",
              "    }\n",
              "</style>\n",
              "<table border=\"1\" class=\"dataframe\">\n",
              "  <thead>\n",
              "    <tr style=\"text-align: right;\">\n",
              "      <th></th>\n",
              "      <th>var_1</th>\n",
              "      <th>var_2</th>\n",
              "      <th>var_3</th>\n",
              "      <th>var_4</th>\n",
              "      <th>var_5</th>\n",
              "      <th>var_6</th>\n",
              "      <th>var_7</th>\n",
              "      <th>var_8</th>\n",
              "      <th>var_9</th>\n",
              "      <th>var_10</th>\n",
              "      <th>...</th>\n",
              "      <th>var_5456</th>\n",
              "      <th>var_5457</th>\n",
              "      <th>var_5458</th>\n",
              "      <th>var_5460</th>\n",
              "      <th>var_5461</th>\n",
              "      <th>var_5462</th>\n",
              "      <th>var_5463</th>\n",
              "      <th>var_5464</th>\n",
              "      <th>var_5466</th>\n",
              "      <th>var_5472</th>\n",
              "    </tr>\n",
              "  </thead>\n",
              "  <tbody>\n",
              "    <tr>\n",
              "      <th>0</th>\n",
              "      <td>0.013433</td>\n",
              "      <td>-0.000985</td>\n",
              "      <td>0.000406</td>\n",
              "      <td>-0.000885</td>\n",
              "      <td>-0.001271</td>\n",
              "      <td>-1.697162e-16</td>\n",
              "      <td>0.001894</td>\n",
              "      <td>0.001143</td>\n",
              "      <td>0.018844</td>\n",
              "      <td>0.127661</td>\n",
              "      <td>...</td>\n",
              "      <td>0.054732</td>\n",
              "      <td>0.038972</td>\n",
              "      <td>0.076507</td>\n",
              "      <td>0.082196</td>\n",
              "      <td>0.057416</td>\n",
              "      <td>0.034142</td>\n",
              "      <td>0.053329</td>\n",
              "      <td>0.077847</td>\n",
              "      <td>0.065272</td>\n",
              "      <td>0.009631</td>\n",
              "    </tr>\n",
              "    <tr>\n",
              "      <th>1</th>\n",
              "      <td>0.014817</td>\n",
              "      <td>0.000970</td>\n",
              "      <td>0.001137</td>\n",
              "      <td>-0.003591</td>\n",
              "      <td>-0.000509</td>\n",
              "      <td>-1.410916e-18</td>\n",
              "      <td>0.000012</td>\n",
              "      <td>-0.000608</td>\n",
              "      <td>0.018637</td>\n",
              "      <td>0.112467</td>\n",
              "      <td>...</td>\n",
              "      <td>0.050922</td>\n",
              "      <td>0.053396</td>\n",
              "      <td>0.000808</td>\n",
              "      <td>0.069762</td>\n",
              "      <td>0.080633</td>\n",
              "      <td>0.028130</td>\n",
              "      <td>0.036552</td>\n",
              "      <td>0.001953</td>\n",
              "      <td>0.039669</td>\n",
              "      <td>0.001513</td>\n",
              "    </tr>\n",
              "    <tr>\n",
              "      <th>2</th>\n",
              "      <td>0.016434</td>\n",
              "      <td>0.000064</td>\n",
              "      <td>-0.002436</td>\n",
              "      <td>0.018581</td>\n",
              "      <td>0.003659</td>\n",
              "      <td>2.584074e-16</td>\n",
              "      <td>0.000022</td>\n",
              "      <td>-0.000746</td>\n",
              "      <td>0.011622</td>\n",
              "      <td>0.105946</td>\n",
              "      <td>...</td>\n",
              "      <td>0.017187</td>\n",
              "      <td>0.046702</td>\n",
              "      <td>0.007466</td>\n",
              "      <td>0.039009</td>\n",
              "      <td>-0.002309</td>\n",
              "      <td>0.003966</td>\n",
              "      <td>0.017716</td>\n",
              "      <td>-0.007567</td>\n",
              "      <td>0.005887</td>\n",
              "      <td>0.001351</td>\n",
              "    </tr>\n",
              "    <tr>\n",
              "      <th>3</th>\n",
              "      <td>0.002239</td>\n",
              "      <td>-0.001240</td>\n",
              "      <td>-0.001891</td>\n",
              "      <td>-0.003994</td>\n",
              "      <td>0.000282</td>\n",
              "      <td>1.422576e-16</td>\n",
              "      <td>0.002592</td>\n",
              "      <td>0.000406</td>\n",
              "      <td>-0.001003</td>\n",
              "      <td>0.000139</td>\n",
              "      <td>...</td>\n",
              "      <td>0.029250</td>\n",
              "      <td>0.000569</td>\n",
              "      <td>0.002768</td>\n",
              "      <td>0.023389</td>\n",
              "      <td>0.019983</td>\n",
              "      <td>0.013226</td>\n",
              "      <td>-0.000304</td>\n",
              "      <td>0.001644</td>\n",
              "      <td>0.012861</td>\n",
              "      <td>-0.000983</td>\n",
              "    </tr>\n",
              "    <tr>\n",
              "      <th>4</th>\n",
              "      <td>0.046435</td>\n",
              "      <td>-0.000236</td>\n",
              "      <td>0.003148</td>\n",
              "      <td>-0.000560</td>\n",
              "      <td>-0.001170</td>\n",
              "      <td>-6.733389e-18</td>\n",
              "      <td>0.000188</td>\n",
              "      <td>0.000401</td>\n",
              "      <td>-0.000294</td>\n",
              "      <td>0.106408</td>\n",
              "      <td>...</td>\n",
              "      <td>0.011691</td>\n",
              "      <td>0.006337</td>\n",
              "      <td>-0.000862</td>\n",
              "      <td>0.012113</td>\n",
              "      <td>-0.001860</td>\n",
              "      <td>0.003230</td>\n",
              "      <td>-0.000815</td>\n",
              "      <td>-0.003879</td>\n",
              "      <td>0.002494</td>\n",
              "      <td>-0.001247</td>\n",
              "    </tr>\n",
              "  </tbody>\n",
              "</table>\n",
              "<p>5 rows × 3609 columns</p>\n",
              "</div>\n",
              "      <button class=\"colab-df-convert\" onclick=\"convertToInteractive('df-ebb1d229-a3a7-4f63-9f5b-71434e9f82da')\"\n",
              "              title=\"Convert this dataframe to an interactive table.\"\n",
              "              style=\"display:none;\">\n",
              "        \n",
              "  <svg xmlns=\"http://www.w3.org/2000/svg\" height=\"24px\"viewBox=\"0 0 24 24\"\n",
              "       width=\"24px\">\n",
              "    <path d=\"M0 0h24v24H0V0z\" fill=\"none\"/>\n",
              "    <path d=\"M18.56 5.44l.94 2.06.94-2.06 2.06-.94-2.06-.94-.94-2.06-.94 2.06-2.06.94zm-11 1L8.5 8.5l.94-2.06 2.06-.94-2.06-.94L8.5 2.5l-.94 2.06-2.06.94zm10 10l.94 2.06.94-2.06 2.06-.94-2.06-.94-.94-2.06-.94 2.06-2.06.94z\"/><path d=\"M17.41 7.96l-1.37-1.37c-.4-.4-.92-.59-1.43-.59-.52 0-1.04.2-1.43.59L10.3 9.45l-7.72 7.72c-.78.78-.78 2.05 0 2.83L4 21.41c.39.39.9.59 1.41.59.51 0 1.02-.2 1.41-.59l7.78-7.78 2.81-2.81c.8-.78.8-2.07 0-2.86zM5.41 20L4 18.59l7.72-7.72 1.47 1.35L5.41 20z\"/>\n",
              "  </svg>\n",
              "      </button>\n",
              "      \n",
              "  <style>\n",
              "    .colab-df-container {\n",
              "      display:flex;\n",
              "      flex-wrap:wrap;\n",
              "      gap: 12px;\n",
              "    }\n",
              "\n",
              "    .colab-df-convert {\n",
              "      background-color: #E8F0FE;\n",
              "      border: none;\n",
              "      border-radius: 50%;\n",
              "      cursor: pointer;\n",
              "      display: none;\n",
              "      fill: #1967D2;\n",
              "      height: 32px;\n",
              "      padding: 0 0 0 0;\n",
              "      width: 32px;\n",
              "    }\n",
              "\n",
              "    .colab-df-convert:hover {\n",
              "      background-color: #E2EBFA;\n",
              "      box-shadow: 0px 1px 2px rgba(60, 64, 67, 0.3), 0px 1px 3px 1px rgba(60, 64, 67, 0.15);\n",
              "      fill: #174EA6;\n",
              "    }\n",
              "\n",
              "    [theme=dark] .colab-df-convert {\n",
              "      background-color: #3B4455;\n",
              "      fill: #D2E3FC;\n",
              "    }\n",
              "\n",
              "    [theme=dark] .colab-df-convert:hover {\n",
              "      background-color: #434B5C;\n",
              "      box-shadow: 0px 1px 3px 1px rgba(0, 0, 0, 0.15);\n",
              "      filter: drop-shadow(0px 1px 2px rgba(0, 0, 0, 0.3));\n",
              "      fill: #FFFFFF;\n",
              "    }\n",
              "  </style>\n",
              "\n",
              "      <script>\n",
              "        const buttonEl =\n",
              "          document.querySelector('#df-ebb1d229-a3a7-4f63-9f5b-71434e9f82da button.colab-df-convert');\n",
              "        buttonEl.style.display =\n",
              "          google.colab.kernel.accessAllowed ? 'block' : 'none';\n",
              "\n",
              "        async function convertToInteractive(key) {\n",
              "          const element = document.querySelector('#df-ebb1d229-a3a7-4f63-9f5b-71434e9f82da');\n",
              "          const dataTable =\n",
              "            await google.colab.kernel.invokeFunction('convertToInteractive',\n",
              "                                                     [key], {});\n",
              "          if (!dataTable) return;\n",
              "\n",
              "          const docLinkHtml = 'Like what you see? Visit the ' +\n",
              "            '<a target=\"_blank\" href=https://colab.research.google.com/notebooks/data_table.ipynb>data table notebook</a>'\n",
              "            + ' to learn more about interactive tables.';\n",
              "          element.innerHTML = '';\n",
              "          dataTable['output_type'] = 'display_data';\n",
              "          await google.colab.output.renderOutput(dataTable, element);\n",
              "          const docLink = document.createElement('div');\n",
              "          docLink.innerHTML = docLinkHtml;\n",
              "          element.appendChild(docLink);\n",
              "        }\n",
              "      </script>\n",
              "    </div>\n",
              "  </div>\n",
              "  "
            ],
            "text/plain": [
              "      var_1     var_2     var_3     var_4     var_5         var_6     var_7  \\\n",
              "0  0.013433 -0.000985  0.000406 -0.000885 -0.001271 -1.697162e-16  0.001894   \n",
              "1  0.014817  0.000970  0.001137 -0.003591 -0.000509 -1.410916e-18  0.000012   \n",
              "2  0.016434  0.000064 -0.002436  0.018581  0.003659  2.584074e-16  0.000022   \n",
              "3  0.002239 -0.001240 -0.001891 -0.003994  0.000282  1.422576e-16  0.002592   \n",
              "4  0.046435 -0.000236  0.003148 -0.000560 -0.001170 -6.733389e-18  0.000188   \n",
              "\n",
              "      var_8     var_9    var_10  ...  var_5456  var_5457  var_5458  var_5460  \\\n",
              "0  0.001143  0.018844  0.127661  ...  0.054732  0.038972  0.076507  0.082196   \n",
              "1 -0.000608  0.018637  0.112467  ...  0.050922  0.053396  0.000808  0.069762   \n",
              "2 -0.000746  0.011622  0.105946  ...  0.017187  0.046702  0.007466  0.039009   \n",
              "3  0.000406 -0.001003  0.000139  ...  0.029250  0.000569  0.002768  0.023389   \n",
              "4  0.000401 -0.000294  0.106408  ...  0.011691  0.006337 -0.000862  0.012113   \n",
              "\n",
              "   var_5461  var_5462  var_5463  var_5464  var_5466  var_5472  \n",
              "0  0.057416  0.034142  0.053329  0.077847  0.065272  0.009631  \n",
              "1  0.080633  0.028130  0.036552  0.001953  0.039669  0.001513  \n",
              "2 -0.002309  0.003966  0.017716 -0.007567  0.005887  0.001351  \n",
              "3  0.019983  0.013226 -0.000304  0.001644  0.012861 -0.000983  \n",
              "4 -0.001860  0.003230 -0.000815 -0.003879  0.002494 -0.001247  \n",
              "\n",
              "[5 rows x 3609 columns]"
            ]
          },
          "execution_count": 260,
          "metadata": {},
          "output_type": "execute_result"
        }
      ],
      "source": [
        "final_dataframe1.head()"
      ]
    },
    {
      "cell_type": "code",
      "execution_count": null,
      "metadata": {
        "colab": {
          "base_uri": "https://localhost:8080/",
          "height": 386
        },
        "id": "SqBAGXxj619J",
        "outputId": "7a085262-830b-47c5-b876-ac31d074615f"
      },
      "outputs": [
        {
          "data": {
            "text/html": [
              "\n",
              "  <div id=\"df-c58383a9-d570-4514-8505-25d97d3a5e87\">\n",
              "    <div class=\"colab-df-container\">\n",
              "      <div>\n",
              "<style scoped>\n",
              "    .dataframe tbody tr th:only-of-type {\n",
              "        vertical-align: middle;\n",
              "    }\n",
              "\n",
              "    .dataframe tbody tr th {\n",
              "        vertical-align: top;\n",
              "    }\n",
              "\n",
              "    .dataframe thead th {\n",
              "        text-align: right;\n",
              "    }\n",
              "</style>\n",
              "<table border=\"1\" class=\"dataframe\">\n",
              "  <thead>\n",
              "    <tr style=\"text-align: right;\">\n",
              "      <th></th>\n",
              "      <th>var_1</th>\n",
              "      <th>var_2</th>\n",
              "      <th>var_3</th>\n",
              "      <th>var_4</th>\n",
              "      <th>var_5</th>\n",
              "      <th>var_6</th>\n",
              "      <th>var_7</th>\n",
              "      <th>var_8</th>\n",
              "      <th>var_9</th>\n",
              "      <th>var_10</th>\n",
              "      <th>...</th>\n",
              "      <th>var_5456</th>\n",
              "      <th>var_5457</th>\n",
              "      <th>var_5458</th>\n",
              "      <th>var_5460</th>\n",
              "      <th>var_5461</th>\n",
              "      <th>var_5462</th>\n",
              "      <th>var_5463</th>\n",
              "      <th>var_5464</th>\n",
              "      <th>var_5466</th>\n",
              "      <th>var_5472</th>\n",
              "    </tr>\n",
              "  </thead>\n",
              "  <tbody>\n",
              "    <tr>\n",
              "      <th>0</th>\n",
              "      <td>-0.000242</td>\n",
              "      <td>-0.000504</td>\n",
              "      <td>0.000937</td>\n",
              "      <td>-0.000179</td>\n",
              "      <td>-0.000239</td>\n",
              "      <td>-4.692099e-16</td>\n",
              "      <td>0.000031</td>\n",
              "      <td>0.000058</td>\n",
              "      <td>-0.000129</td>\n",
              "      <td>-0.000919</td>\n",
              "      <td>...</td>\n",
              "      <td>0.001868</td>\n",
              "      <td>0.003062</td>\n",
              "      <td>0.018164</td>\n",
              "      <td>0.012201</td>\n",
              "      <td>0.000078</td>\n",
              "      <td>-0.000333</td>\n",
              "      <td>0.002837</td>\n",
              "      <td>0.003925</td>\n",
              "      <td>0.005733</td>\n",
              "      <td>0.000483</td>\n",
              "    </tr>\n",
              "    <tr>\n",
              "      <th>1</th>\n",
              "      <td>0.030817</td>\n",
              "      <td>-0.000121</td>\n",
              "      <td>0.001885</td>\n",
              "      <td>0.001575</td>\n",
              "      <td>-0.000739</td>\n",
              "      <td>3.879722e-16</td>\n",
              "      <td>-0.000998</td>\n",
              "      <td>-0.000418</td>\n",
              "      <td>0.036543</td>\n",
              "      <td>0.108225</td>\n",
              "      <td>...</td>\n",
              "      <td>0.005817</td>\n",
              "      <td>0.000651</td>\n",
              "      <td>0.000150</td>\n",
              "      <td>0.009398</td>\n",
              "      <td>-0.004493</td>\n",
              "      <td>-0.002686</td>\n",
              "      <td>0.002093</td>\n",
              "      <td>0.001893</td>\n",
              "      <td>0.001182</td>\n",
              "      <td>-0.000228</td>\n",
              "    </tr>\n",
              "    <tr>\n",
              "      <th>2</th>\n",
              "      <td>0.062262</td>\n",
              "      <td>-0.002594</td>\n",
              "      <td>-0.001266</td>\n",
              "      <td>-0.001123</td>\n",
              "      <td>0.004920</td>\n",
              "      <td>7.817878e-17</td>\n",
              "      <td>0.000470</td>\n",
              "      <td>0.001063</td>\n",
              "      <td>0.024425</td>\n",
              "      <td>0.108599</td>\n",
              "      <td>...</td>\n",
              "      <td>0.000713</td>\n",
              "      <td>0.000380</td>\n",
              "      <td>0.002324</td>\n",
              "      <td>0.007113</td>\n",
              "      <td>0.000782</td>\n",
              "      <td>-0.002142</td>\n",
              "      <td>-0.003816</td>\n",
              "      <td>-0.000399</td>\n",
              "      <td>0.002233</td>\n",
              "      <td>0.000221</td>\n",
              "    </tr>\n",
              "    <tr>\n",
              "      <th>3</th>\n",
              "      <td>0.000594</td>\n",
              "      <td>-0.003848</td>\n",
              "      <td>-0.007782</td>\n",
              "      <td>-0.002704</td>\n",
              "      <td>0.002649</td>\n",
              "      <td>-4.418052e-16</td>\n",
              "      <td>-0.010762</td>\n",
              "      <td>-0.000077</td>\n",
              "      <td>0.001563</td>\n",
              "      <td>0.004880</td>\n",
              "      <td>...</td>\n",
              "      <td>0.108113</td>\n",
              "      <td>0.084556</td>\n",
              "      <td>0.048307</td>\n",
              "      <td>0.110570</td>\n",
              "      <td>0.033878</td>\n",
              "      <td>0.061751</td>\n",
              "      <td>0.034311</td>\n",
              "      <td>-0.003087</td>\n",
              "      <td>0.048318</td>\n",
              "      <td>0.011673</td>\n",
              "    </tr>\n",
              "    <tr>\n",
              "      <th>4</th>\n",
              "      <td>0.000036</td>\n",
              "      <td>-0.000418</td>\n",
              "      <td>-0.000014</td>\n",
              "      <td>0.000483</td>\n",
              "      <td>-0.000211</td>\n",
              "      <td>-2.033770e-16</td>\n",
              "      <td>-0.000055</td>\n",
              "      <td>0.000129</td>\n",
              "      <td>0.000040</td>\n",
              "      <td>-0.000251</td>\n",
              "      <td>...</td>\n",
              "      <td>-0.000872</td>\n",
              "      <td>0.002851</td>\n",
              "      <td>0.002718</td>\n",
              "      <td>0.008183</td>\n",
              "      <td>-0.001531</td>\n",
              "      <td>-0.001715</td>\n",
              "      <td>0.000108</td>\n",
              "      <td>-0.002475</td>\n",
              "      <td>0.002193</td>\n",
              "      <td>-0.000429</td>\n",
              "    </tr>\n",
              "  </tbody>\n",
              "</table>\n",
              "<p>5 rows × 3596 columns</p>\n",
              "</div>\n",
              "      <button class=\"colab-df-convert\" onclick=\"convertToInteractive('df-c58383a9-d570-4514-8505-25d97d3a5e87')\"\n",
              "              title=\"Convert this dataframe to an interactive table.\"\n",
              "              style=\"display:none;\">\n",
              "        \n",
              "  <svg xmlns=\"http://www.w3.org/2000/svg\" height=\"24px\"viewBox=\"0 0 24 24\"\n",
              "       width=\"24px\">\n",
              "    <path d=\"M0 0h24v24H0V0z\" fill=\"none\"/>\n",
              "    <path d=\"M18.56 5.44l.94 2.06.94-2.06 2.06-.94-2.06-.94-.94-2.06-.94 2.06-2.06.94zm-11 1L8.5 8.5l.94-2.06 2.06-.94-2.06-.94L8.5 2.5l-.94 2.06-2.06.94zm10 10l.94 2.06.94-2.06 2.06-.94-2.06-.94-.94-2.06-.94 2.06-2.06.94z\"/><path d=\"M17.41 7.96l-1.37-1.37c-.4-.4-.92-.59-1.43-.59-.52 0-1.04.2-1.43.59L10.3 9.45l-7.72 7.72c-.78.78-.78 2.05 0 2.83L4 21.41c.39.39.9.59 1.41.59.51 0 1.02-.2 1.41-.59l7.78-7.78 2.81-2.81c.8-.78.8-2.07 0-2.86zM5.41 20L4 18.59l7.72-7.72 1.47 1.35L5.41 20z\"/>\n",
              "  </svg>\n",
              "      </button>\n",
              "      \n",
              "  <style>\n",
              "    .colab-df-container {\n",
              "      display:flex;\n",
              "      flex-wrap:wrap;\n",
              "      gap: 12px;\n",
              "    }\n",
              "\n",
              "    .colab-df-convert {\n",
              "      background-color: #E8F0FE;\n",
              "      border: none;\n",
              "      border-radius: 50%;\n",
              "      cursor: pointer;\n",
              "      display: none;\n",
              "      fill: #1967D2;\n",
              "      height: 32px;\n",
              "      padding: 0 0 0 0;\n",
              "      width: 32px;\n",
              "    }\n",
              "\n",
              "    .colab-df-convert:hover {\n",
              "      background-color: #E2EBFA;\n",
              "      box-shadow: 0px 1px 2px rgba(60, 64, 67, 0.3), 0px 1px 3px 1px rgba(60, 64, 67, 0.15);\n",
              "      fill: #174EA6;\n",
              "    }\n",
              "\n",
              "    [theme=dark] .colab-df-convert {\n",
              "      background-color: #3B4455;\n",
              "      fill: #D2E3FC;\n",
              "    }\n",
              "\n",
              "    [theme=dark] .colab-df-convert:hover {\n",
              "      background-color: #434B5C;\n",
              "      box-shadow: 0px 1px 3px 1px rgba(0, 0, 0, 0.15);\n",
              "      filter: drop-shadow(0px 1px 2px rgba(0, 0, 0, 0.3));\n",
              "      fill: #FFFFFF;\n",
              "    }\n",
              "  </style>\n",
              "\n",
              "      <script>\n",
              "        const buttonEl =\n",
              "          document.querySelector('#df-c58383a9-d570-4514-8505-25d97d3a5e87 button.colab-df-convert');\n",
              "        buttonEl.style.display =\n",
              "          google.colab.kernel.accessAllowed ? 'block' : 'none';\n",
              "\n",
              "        async function convertToInteractive(key) {\n",
              "          const element = document.querySelector('#df-c58383a9-d570-4514-8505-25d97d3a5e87');\n",
              "          const dataTable =\n",
              "            await google.colab.kernel.invokeFunction('convertToInteractive',\n",
              "                                                     [key], {});\n",
              "          if (!dataTable) return;\n",
              "\n",
              "          const docLinkHtml = 'Like what you see? Visit the ' +\n",
              "            '<a target=\"_blank\" href=https://colab.research.google.com/notebooks/data_table.ipynb>data table notebook</a>'\n",
              "            + ' to learn more about interactive tables.';\n",
              "          element.innerHTML = '';\n",
              "          dataTable['output_type'] = 'display_data';\n",
              "          await google.colab.output.renderOutput(dataTable, element);\n",
              "          const docLink = document.createElement('div');\n",
              "          docLink.innerHTML = docLinkHtml;\n",
              "          element.appendChild(docLink);\n",
              "        }\n",
              "      </script>\n",
              "    </div>\n",
              "  </div>\n",
              "  "
            ],
            "text/plain": [
              "      var_1     var_2     var_3     var_4     var_5         var_6     var_7  \\\n",
              "0 -0.000242 -0.000504  0.000937 -0.000179 -0.000239 -4.692099e-16  0.000031   \n",
              "1  0.030817 -0.000121  0.001885  0.001575 -0.000739  3.879722e-16 -0.000998   \n",
              "2  0.062262 -0.002594 -0.001266 -0.001123  0.004920  7.817878e-17  0.000470   \n",
              "3  0.000594 -0.003848 -0.007782 -0.002704  0.002649 -4.418052e-16 -0.010762   \n",
              "4  0.000036 -0.000418 -0.000014  0.000483 -0.000211 -2.033770e-16 -0.000055   \n",
              "\n",
              "      var_8     var_9    var_10  ...  var_5456  var_5457  var_5458  var_5460  \\\n",
              "0  0.000058 -0.000129 -0.000919  ...  0.001868  0.003062  0.018164  0.012201   \n",
              "1 -0.000418  0.036543  0.108225  ...  0.005817  0.000651  0.000150  0.009398   \n",
              "2  0.001063  0.024425  0.108599  ...  0.000713  0.000380  0.002324  0.007113   \n",
              "3 -0.000077  0.001563  0.004880  ...  0.108113  0.084556  0.048307  0.110570   \n",
              "4  0.000129  0.000040 -0.000251  ... -0.000872  0.002851  0.002718  0.008183   \n",
              "\n",
              "   var_5461  var_5462  var_5463  var_5464  var_5466  var_5472  \n",
              "0  0.000078 -0.000333  0.002837  0.003925  0.005733  0.000483  \n",
              "1 -0.004493 -0.002686  0.002093  0.001893  0.001182 -0.000228  \n",
              "2  0.000782 -0.002142 -0.003816 -0.000399  0.002233  0.000221  \n",
              "3  0.033878  0.061751  0.034311 -0.003087  0.048318  0.011673  \n",
              "4 -0.001531 -0.001715  0.000108 -0.002475  0.002193 -0.000429  \n",
              "\n",
              "[5 rows x 3596 columns]"
            ]
          },
          "execution_count": 261,
          "metadata": {},
          "output_type": "execute_result"
        }
      ],
      "source": [
        "X_resampled.head()"
      ]
    },
    {
      "cell_type": "code",
      "execution_count": null,
      "metadata": {
        "id": "JYqp5fAavzcQ"
      },
      "outputs": [],
      "source": [
        "col1=set(X_resampled.columns)\n",
        "col2=set(final_dataframe1.columns)"
      ]
    },
    {
      "cell_type": "code",
      "execution_count": null,
      "metadata": {
        "colab": {
          "base_uri": "https://localhost:8080/"
        },
        "id": "C07U5Anp-Y4N",
        "outputId": "7ecffc78-8957-4bd7-feaa-9f777bce9e38"
      },
      "outputs": [
        {
          "name": "stdout",
          "output_type": "stream",
          "text": [
            "3596\n",
            "3609\n"
          ]
        }
      ],
      "source": [
        "print(len(col1))\n",
        "print(len(col2))"
      ]
    },
    {
      "cell_type": "code",
      "execution_count": null,
      "metadata": {
        "colab": {
          "base_uri": "https://localhost:8080/"
        },
        "id": "GcziLvpswAEM",
        "outputId": "5c84efee-ca6c-4b1a-f952-61f8f764741b"
      },
      "outputs": [
        {
          "data": {
            "text/plain": [
              "3596"
            ]
          },
          "execution_count": 269,
          "metadata": {},
          "output_type": "execute_result"
        }
      ],
      "source": [
        "col3=col2.intersection(col1)\n",
        "col4=list(col3)\n",
        "len(col4)"
      ]
    },
    {
      "cell_type": "code",
      "execution_count": null,
      "metadata": {
        "id": "EE0Yjb2FyVos"
      },
      "outputs": [],
      "source": [
        "for i in X_resampled.columns:\n",
        "  if(i in col4):\n",
        "    continue\n",
        "  else:\n",
        "    X_resampled=X_resampled.drop(i,axis=1)"
      ]
    },
    {
      "cell_type": "code",
      "execution_count": null,
      "metadata": {
        "id": "_Km0E2WHvt0G"
      },
      "outputs": [],
      "source": [
        "for i in final_dataframe1.columns:\n",
        "  if(i in col4):\n",
        "    continue\n",
        "  else:\n",
        "    final_dataframe1=final_dataframe1.drop(i,axis=1)"
      ]
    },
    {
      "cell_type": "code",
      "execution_count": null,
      "metadata": {
        "colab": {
          "base_uri": "https://localhost:8080/"
        },
        "id": "aUjMY3lolfNt",
        "outputId": "50aafe67-ad9f-4241-feca-12b63e60e1f5"
      },
      "outputs": [
        {
          "data": {
            "text/plain": [
              "((25000, 3596), (5000, 3596))"
            ]
          },
          "execution_count": 272,
          "metadata": {},
          "output_type": "execute_result"
        }
      ],
      "source": [
        "final_dataframe.shape,final_dataframe1.shape"
      ]
    },
    {
      "cell_type": "code",
      "execution_count": null,
      "metadata": {
        "id": "-e8rUZfzUJvv"
      },
      "outputs": [],
      "source": [
        "from sklearn.model_selection import train_test_split\n",
        "x_train,x_test,y_train,y_test=train_test_split(X_resampled,y_resampled,random_state=42,test_size=0.33)"
      ]
    },
    {
      "cell_type": "code",
      "execution_count": 112,
      "metadata": {
        "colab": {
          "base_uri": "https://localhost:8080/",
          "height": 1000
        },
        "id": "QcCD_HJejpvk",
        "outputId": "170b45c2-e1f5-4f51-dfe7-ce691bba81ae"
      },
      "outputs": [
        {
          "name": "stderr",
          "output_type": "stream",
          "text": [
            "/usr/local/lib/python3.9/dist-packages/sklearn/ensemble/_forest.py:424: FutureWarning: `max_features='auto'` has been deprecated in 1.1 and will be removed in 1.3. To keep the past behaviour, explicitly set `max_features='sqrt'` or remove this parameter as it is also the default value for RandomForestClassifiers and ExtraTreesClassifiers.\n",
            "  warn(\n",
            "/usr/local/lib/python3.9/dist-packages/sklearn/ensemble/_forest.py:424: FutureWarning: `max_features='auto'` has been deprecated in 1.1 and will be removed in 1.3. To keep the past behaviour, explicitly set `max_features='sqrt'` or remove this parameter as it is also the default value for RandomForestClassifiers and ExtraTreesClassifiers.\n",
            "  warn(\n",
            "/usr/local/lib/python3.9/dist-packages/sklearn/ensemble/_forest.py:424: FutureWarning: `max_features='auto'` has been deprecated in 1.1 and will be removed in 1.3. To keep the past behaviour, explicitly set `max_features='sqrt'` or remove this parameter as it is also the default value for RandomForestClassifiers and ExtraTreesClassifiers.\n",
            "  warn(\n",
            "/usr/local/lib/python3.9/dist-packages/sklearn/ensemble/_forest.py:424: FutureWarning: `max_features='auto'` has been deprecated in 1.1 and will be removed in 1.3. To keep the past behaviour, explicitly set `max_features='sqrt'` or remove this parameter as it is also the default value for RandomForestClassifiers and ExtraTreesClassifiers.\n",
            "  warn(\n",
            "/usr/local/lib/python3.9/dist-packages/sklearn/ensemble/_forest.py:424: FutureWarning: `max_features='auto'` has been deprecated in 1.1 and will be removed in 1.3. To keep the past behaviour, explicitly set `max_features='sqrt'` or remove this parameter as it is also the default value for RandomForestClassifiers and ExtraTreesClassifiers.\n",
            "  warn(\n",
            "/usr/local/lib/python3.9/dist-packages/sklearn/ensemble/_forest.py:424: FutureWarning: `max_features='auto'` has been deprecated in 1.1 and will be removed in 1.3. To keep the past behaviour, explicitly set `max_features='sqrt'` or remove this parameter as it is also the default value for RandomForestClassifiers and ExtraTreesClassifiers.\n",
            "  warn(\n",
            "/usr/local/lib/python3.9/dist-packages/sklearn/ensemble/_forest.py:424: FutureWarning: `max_features='auto'` has been deprecated in 1.1 and will be removed in 1.3. To keep the past behaviour, explicitly set `max_features='sqrt'` or remove this parameter as it is also the default value for RandomForestClassifiers and ExtraTreesClassifiers.\n",
            "  warn(\n",
            "/usr/local/lib/python3.9/dist-packages/sklearn/ensemble/_forest.py:424: FutureWarning: `max_features='auto'` has been deprecated in 1.1 and will be removed in 1.3. To keep the past behaviour, explicitly set `max_features='sqrt'` or remove this parameter as it is also the default value for RandomForestClassifiers and ExtraTreesClassifiers.\n",
            "  warn(\n",
            "/usr/local/lib/python3.9/dist-packages/sklearn/ensemble/_forest.py:424: FutureWarning: `max_features='auto'` has been deprecated in 1.1 and will be removed in 1.3. To keep the past behaviour, explicitly set `max_features='sqrt'` or remove this parameter as it is also the default value for RandomForestClassifiers and ExtraTreesClassifiers.\n",
            "  warn(\n",
            "/usr/local/lib/python3.9/dist-packages/sklearn/ensemble/_forest.py:424: FutureWarning: `max_features='auto'` has been deprecated in 1.1 and will be removed in 1.3. To keep the past behaviour, explicitly set `max_features='sqrt'` or remove this parameter as it is also the default value for RandomForestClassifiers and ExtraTreesClassifiers.\n",
            "  warn(\n",
            "/usr/local/lib/python3.9/dist-packages/sklearn/ensemble/_forest.py:424: FutureWarning: `max_features='auto'` has been deprecated in 1.1 and will be removed in 1.3. To keep the past behaviour, explicitly set `max_features='sqrt'` or remove this parameter as it is also the default value for RandomForestClassifiers and ExtraTreesClassifiers.\n",
            "  warn(\n",
            "/usr/local/lib/python3.9/dist-packages/sklearn/ensemble/_forest.py:424: FutureWarning: `max_features='auto'` has been deprecated in 1.1 and will be removed in 1.3. To keep the past behaviour, explicitly set `max_features='sqrt'` or remove this parameter as it is also the default value for RandomForestClassifiers and ExtraTreesClassifiers.\n",
            "  warn(\n",
            "/usr/local/lib/python3.9/dist-packages/sklearn/ensemble/_forest.py:424: FutureWarning: `max_features='auto'` has been deprecated in 1.1 and will be removed in 1.3. To keep the past behaviour, explicitly set `max_features='sqrt'` or remove this parameter as it is also the default value for RandomForestClassifiers and ExtraTreesClassifiers.\n",
            "  warn(\n",
            "/usr/local/lib/python3.9/dist-packages/sklearn/ensemble/_forest.py:424: FutureWarning: `max_features='auto'` has been deprecated in 1.1 and will be removed in 1.3. To keep the past behaviour, explicitly set `max_features='sqrt'` or remove this parameter as it is also the default value for RandomForestClassifiers and ExtraTreesClassifiers.\n",
            "  warn(\n",
            "/usr/local/lib/python3.9/dist-packages/sklearn/ensemble/_forest.py:424: FutureWarning: `max_features='auto'` has been deprecated in 1.1 and will be removed in 1.3. To keep the past behaviour, explicitly set `max_features='sqrt'` or remove this parameter as it is also the default value for RandomForestClassifiers and ExtraTreesClassifiers.\n",
            "  warn(\n",
            "/usr/local/lib/python3.9/dist-packages/sklearn/ensemble/_forest.py:424: FutureWarning: `max_features='auto'` has been deprecated in 1.1 and will be removed in 1.3. To keep the past behaviour, explicitly set `max_features='sqrt'` or remove this parameter as it is also the default value for RandomForestClassifiers and ExtraTreesClassifiers.\n",
            "  warn(\n",
            "/usr/local/lib/python3.9/dist-packages/sklearn/ensemble/_forest.py:424: FutureWarning: `max_features='auto'` has been deprecated in 1.1 and will be removed in 1.3. To keep the past behaviour, explicitly set `max_features='sqrt'` or remove this parameter as it is also the default value for RandomForestClassifiers and ExtraTreesClassifiers.\n",
            "  warn(\n",
            "/usr/local/lib/python3.9/dist-packages/sklearn/ensemble/_forest.py:424: FutureWarning: `max_features='auto'` has been deprecated in 1.1 and will be removed in 1.3. To keep the past behaviour, explicitly set `max_features='sqrt'` or remove this parameter as it is also the default value for RandomForestClassifiers and ExtraTreesClassifiers.\n",
            "  warn(\n",
            "/usr/local/lib/python3.9/dist-packages/sklearn/ensemble/_forest.py:424: FutureWarning: `max_features='auto'` has been deprecated in 1.1 and will be removed in 1.3. To keep the past behaviour, explicitly set `max_features='sqrt'` or remove this parameter as it is also the default value for RandomForestClassifiers and ExtraTreesClassifiers.\n",
            "  warn(\n"
          ]
        },
        {
          "data": {
            "image/png": "[encoded data removed]",
            "text/plain": [
              "<Figure size 640x480 with 1 Axes>"
            ]
          },
          "metadata": {},
          "output_type": "display_data"
        }
      ],
      "source": [
        "\"\"\"\n",
        "import matplotlib.pyplot as plt\n",
        "from sklearn.ensemble import RandomForestClassifier\n",
        "from sklearn.metrics import accuracy_score\n",
        "train_score=[]\n",
        "test_score=[]\n",
        "values=[i for i in range(1,20)]\n",
        "for i in range(1,20):\n",
        "  model=RandomForestClassifier(n_estimators=100,max_depth=i,max_features='auto',random_state=None,criterion=\"gini\")\n",
        "  model.fit(x_train,y_train)\n",
        "  y_pred=model.predict(x_test)\n",
        "  acc1=accuracy_score(y_pred,y_test)\n",
        "  y1_pred=model.predict(x_train)\n",
        "  acc=accuracy_score(y1_pred,y_train) \n",
        "  train_score.append(acc)\n",
        "  test_score.append(acc1) \n",
        "plt.plot(values,train_score,'-o',label=\"train\")\n",
        "plt.plot(values,test_score,'-o',label=\"test\")\n",
        "plt.xlabel(\"max_depth\")\n",
        "plt.ylabel(\"acc\")\n",
        "plt.legend()\n",
        "plt.show()\n",
        "\"\"\""
      ]
    },
    {
      "cell_type": "code",
      "execution_count": null,
      "metadata": {
        "id": "igoAiBR4p6_E"
      },
      "outputs": [],
      "source": [
        "# from the above graph we can conclude that after max_depth= 7 it is getting overfit"
      ]
    },
    {
      "cell_type": "code",
      "execution_count": 274,
      "metadata": {
        "colab": {
          "base_uri": "https://localhost:8080/",
          "height": 146
        },
        "id": "KhQQVF_3S8Du",
        "outputId": "944d464f-1fb7-4521-f5e0-2b543ad899fd"
      },
      "outputs": [
        {
          "name": "stderr",
          "output_type": "stream",
          "text": [
            "/usr/local/lib/python3.9/dist-packages/sklearn/ensemble/_forest.py:424: FutureWarning: `max_features='auto'` has been deprecated in 1.1 and will be removed in 1.3. To keep the past behaviour, explicitly set `max_features='sqrt'` or remove this parameter as it is also the default value for RandomForestClassifiers and ExtraTreesClassifiers.\n",
            "  warn(\n"
          ]
        },
        {
          "data": {
            "text/html": [
              "<style>#sk-container-id-9 {color: black;background-color: white;}#sk-container-id-9 pre{padding: 0;}#sk-container-id-9 div.sk-toggleable {background-color: white;}#sk-container-id-9 label.sk-toggleable__label {cursor: pointer;display: block;width: 100%;margin-bottom: 0;padding: 0.3em;box-sizing: border-box;text-align: center;}#sk-container-id-9 label.sk-toggleable__label-arrow:before {content: \"▸\";float: left;margin-right: 0.25em;color: #696969;}#sk-container-id-9 label.sk-toggleable__label-arrow:hover:before {color: black;}#sk-container-id-9 div.sk-estimator:hover label.sk-toggleable__label-arrow:before {color: black;}#sk-container-id-9 div.sk-toggleable__content {max-height: 0;max-width: 0;overflow: hidden;text-align: left;background-color: #f0f8ff;}#sk-container-id-9 div.sk-toggleable__content pre {margin: 0.2em;color: black;border-radius: 0.25em;background-color: #f0f8ff;}#sk-container-id-9 input.sk-toggleable__control:checked~div.sk-toggleable__content {max-height: 200px;max-width: 100%;overflow: auto;}#sk-container-id-9 input.sk-toggleable__control:checked~label.sk-toggleable__label-arrow:before {content: \"▾\";}#sk-container-id-9 div.sk-estimator input.sk-toggleable__control:checked~label.sk-toggleable__label {background-color: #d4ebff;}#sk-container-id-9 div.sk-label input.sk-toggleable__control:checked~label.sk-toggleable__label {background-color: #d4ebff;}#sk-container-id-9 input.sk-hidden--visually {border: 0;clip: rect(1px 1px 1px 1px);clip: rect(1px, 1px, 1px, 1px);height: 1px;margin: -1px;overflow: hidden;padding: 0;position: absolute;width: 1px;}#sk-container-id-9 div.sk-estimator {font-family: monospace;background-color: #f0f8ff;border: 1px dotted black;border-radius: 0.25em;box-sizing: border-box;margin-bottom: 0.5em;}#sk-container-id-9 div.sk-estimator:hover {background-color: #d4ebff;}#sk-container-id-9 div.sk-parallel-item::after {content: \"\";width: 100%;border-bottom: 1px solid gray;flex-grow: 1;}#sk-container-id-9 div.sk-label:hover label.sk-toggleable__label {background-color: #d4ebff;}#sk-container-id-9 div.sk-serial::before {content: \"\";position: absolute;border-left: 1px solid gray;box-sizing: border-box;top: 0;bottom: 0;left: 50%;z-index: 0;}#sk-container-id-9 div.sk-serial {display: flex;flex-direction: column;align-items: center;background-color: white;padding-right: 0.2em;padding-left: 0.2em;position: relative;}#sk-container-id-9 div.sk-item {position: relative;z-index: 1;}#sk-container-id-9 div.sk-parallel {display: flex;align-items: stretch;justify-content: center;background-color: white;position: relative;}#sk-container-id-9 div.sk-item::before, #sk-container-id-9 div.sk-parallel-item::before {content: \"\";position: absolute;border-left: 1px solid gray;box-sizing: border-box;top: 0;bottom: 0;left: 50%;z-index: -1;}#sk-container-id-9 div.sk-parallel-item {display: flex;flex-direction: column;z-index: 1;position: relative;background-color: white;}#sk-container-id-9 div.sk-parallel-item:first-child::after {align-self: flex-end;width: 50%;}#sk-container-id-9 div.sk-parallel-item:last-child::after {align-self: flex-start;width: 50%;}#sk-container-id-9 div.sk-parallel-item:only-child::after {width: 0;}#sk-container-id-9 div.sk-dashed-wrapped {border: 1px dashed gray;margin: 0 0.4em 0.5em 0.4em;box-sizing: border-box;padding-bottom: 0.4em;background-color: white;}#sk-container-id-9 div.sk-label label {font-family: monospace;font-weight: bold;display: inline-block;line-height: 1.2em;}#sk-container-id-9 div.sk-label-container {text-align: center;}#sk-container-id-9 div.sk-container {/* jupyter's `normalize.less` sets `[hidden] { display: none; }` but bootstrap.min.css set `[hidden] { display: none !important; }` so we also need the `!important` here to be able to override the default hidden behavior on the sphinx rendered scikit-learn.org. See: https://github.com/scikit-learn/scikit-learn/issues/21755 */display: inline-block !important;position: relative;}#sk-container-id-9 div.sk-text-repr-fallback {display: none;}</style><div id=\"sk-container-id-9\" class=\"sk-top-container\"><div class=\"sk-text-repr-fallback\"><pre>RandomForestClassifier(criterion=&#x27;entropy&#x27;, max_depth=7, max_features=&#x27;auto&#x27;,\n",
              "                       n_estimators=150)</pre><b>In a Jupyter environment, please rerun this cell to show the HTML representation or trust the notebook. <br />On GitHub, the HTML representation is unable to render, please try loading this page with nbviewer.org.</b></div><div class=\"sk-container\" hidden><div class=\"sk-item\"><div class=\"sk-estimator sk-toggleable\"><input class=\"sk-toggleable__control sk-hidden--visually\" id=\"sk-estimator-id-9\" type=\"checkbox\" checked><label for=\"sk-estimator-id-9\" class=\"sk-toggleable__label sk-toggleable__label-arrow\">RandomForestClassifier</label><div class=\"sk-toggleable__content\"><pre>RandomForestClassifier(criterion=&#x27;entropy&#x27;, max_depth=7, max_features=&#x27;auto&#x27;,\n",
              "                       n_estimators=150)</pre></div></div></div></div></div>"
            ],
            "text/plain": [
              "RandomForestClassifier(criterion='entropy', max_depth=7, max_features='auto',\n",
              "                       n_estimators=150)"
            ]
          },
          "execution_count": 274,
          "metadata": {},
          "output_type": "execute_result"
        }
      ],
      "source": [
        "from sklearn.ensemble import RandomForestClassifier\n",
        "model=RandomForestClassifier(n_estimators=150,max_depth=7,max_features='auto',criterion='entropy')\n",
        "model.fit(x_train,y_train)"
      ]
    },
    {
      "cell_type": "code",
      "execution_count": 278,
      "metadata": {
        "colab": {
          "base_uri": "https://localhost:8080/"
        },
        "id": "4cGJmD4Pt_WB",
        "outputId": "b3dbe991-73ba-4ee8-86f9-d9934e9bf5c6"
      },
      "outputs": [
        {
          "name": "stdout",
          "output_type": "stream",
          "text": [
            "3596\n",
            "3596\n",
            "same columns\n"
          ]
        }
      ],
      "source": [
        "print(len(X_resampled.columns))\n",
        "print(len(final_dataframe1.columns))\n",
        "if(len(X_resampled.columns)==len(final_dataframe1.columns)):\n",
        "  print(\"same columns\")\n",
        "else:\n",
        "  print(\"variable columns\")"
      ]
    },
    {
      "cell_type": "code",
      "execution_count": 279,
      "metadata": {
        "id": "y7ZZn3s88SJC"
      },
      "outputs": [],
      "source": [
        "y_pred1=model.predict(final_dataframe1)"
      ]
    },
    {
      "cell_type": "code",
      "execution_count": 280,
      "metadata": {
        "colab": {
          "base_uri": "https://localhost:8080/"
        },
        "id": "GtsECqwr1YJG",
        "outputId": "1ea98335-3313-4e61-eb9c-51f3d4240a82"
      },
      "outputs": [
        {
          "data": {
            "text/plain": [
              "array([1, 1, 0, ..., 1, 0, 0])"
            ]
          },
          "execution_count": 280,
          "metadata": {},
          "output_type": "execute_result"
        }
      ],
      "source": [
        "y_pred1"
      ]
    },
    {
      "cell_type": "code",
      "execution_count": 281,
      "metadata": {
        "id": "_U8VbOBpCIZs"
      },
      "outputs": [],
      "source": [
        "columns2=['predicted']"
      ]
    },
    {
      "cell_type": "code",
      "execution_count": 282,
      "metadata": {
        "id": "yhrbG0qd8tU8"
      },
      "outputs": [],
      "source": [
        "final_dd=pd.DataFrame(y_pred1.reshape(-1,1),columns=columns2)"
      ]
    },
    {
      "cell_type": "code",
      "execution_count": 283,
      "metadata": {
        "colab": {
          "base_uri": "https://localhost:8080/"
        },
        "id": "qJOZkl5BLurz",
        "outputId": "0d8a6830-39c3-4a45-83fb-c2de0da24039"
      },
      "outputs": [
        {
          "data": {
            "text/plain": [
              "array([1, 0])"
            ]
          },
          "execution_count": 283,
          "metadata": {},
          "output_type": "execute_result"
        }
      ],
      "source": [
        "final_dd['predicted'].unique()"
      ]
    },
    {
      "cell_type": "code",
      "execution_count": 290,
      "metadata": {
        "id": "emNjAlvjDkCL"
      },
      "outputs": [],
      "source": [
        "ccc=model.predict_proba(final_dataframe1)\n",
        "l=[]\n",
        "for i in range(0,5000):\n",
        "  l.append(ccc[i][1])"
      ]
    },
    {
      "cell_type": "code",
      "execution_count": 291,
      "metadata": {
        "colab": {
          "base_uri": "https://localhost:8080/"
        },
        "id": "VXCOVJA1JWdC",
        "outputId": "73130597-06b4-4b9c-cc73-ccd296b1c4a8"
      },
      "outputs": [
        {
          "data": {
            "text/plain": [
              "array([[0.49409832, 0.50590168],\n",
              "       [0.48802748, 0.51197252],\n",
              "       [0.51320775, 0.48679225],\n",
              "       ...,\n",
              "       [0.38877625, 0.61122375],\n",
              "       [0.79460197, 0.20539803],\n",
              "       [0.55506673, 0.44493327]])"
            ]
          },
          "execution_count": 291,
          "metadata": {},
          "output_type": "execute_result"
        }
      ],
      "source": [
        "ccc"
      ]
    },
    {
      "cell_type": "code",
      "execution_count": 292,
      "metadata": {
        "id": "KqlP9wOqFmLt"
      },
      "outputs": [],
      "source": [
        "final_dd['predicted_probability']=l"
      ]
    },
    {
      "cell_type": "code",
      "execution_count": 293,
      "metadata": {
        "colab": {
          "base_uri": "https://localhost:8080/",
          "height": 206
        },
        "id": "wH580zobAKJN",
        "outputId": "f692a669-7af6-485a-9895-24fb4f133568"
      },
      "outputs": [
        {
          "data": {
            "text/html": [
              "\n",
              "  <div id=\"df-e581bd9c-989c-45ca-9ee4-9020cbe78519\">\n",
              "    <div class=\"colab-df-container\">\n",
              "      <div>\n",
              "<style scoped>\n",
              "    .dataframe tbody tr th:only-of-type {\n",
              "        vertical-align: middle;\n",
              "    }\n",
              "\n",
              "    .dataframe tbody tr th {\n",
              "        vertical-align: top;\n",
              "    }\n",
              "\n",
              "    .dataframe thead th {\n",
              "        text-align: right;\n",
              "    }\n",
              "</style>\n",
              "<table border=\"1\" class=\"dataframe\">\n",
              "  <thead>\n",
              "    <tr style=\"text-align: right;\">\n",
              "      <th></th>\n",
              "      <th>predicted</th>\n",
              "      <th>predicted_probability</th>\n",
              "    </tr>\n",
              "  </thead>\n",
              "  <tbody>\n",
              "    <tr>\n",
              "      <th>0</th>\n",
              "      <td>1</td>\n",
              "      <td>0.505902</td>\n",
              "    </tr>\n",
              "    <tr>\n",
              "      <th>1</th>\n",
              "      <td>1</td>\n",
              "      <td>0.511973</td>\n",
              "    </tr>\n",
              "    <tr>\n",
              "      <th>2</th>\n",
              "      <td>0</td>\n",
              "      <td>0.486792</td>\n",
              "    </tr>\n",
              "    <tr>\n",
              "      <th>3</th>\n",
              "      <td>1</td>\n",
              "      <td>0.585495</td>\n",
              "    </tr>\n",
              "    <tr>\n",
              "      <th>4</th>\n",
              "      <td>0</td>\n",
              "      <td>0.440061</td>\n",
              "    </tr>\n",
              "  </tbody>\n",
              "</table>\n",
              "</div>\n",
              "      <button class=\"colab-df-convert\" onclick=\"convertToInteractive('df-e581bd9c-989c-45ca-9ee4-9020cbe78519')\"\n",
              "              title=\"Convert this dataframe to an interactive table.\"\n",
              "              style=\"display:none;\">\n",
              "        \n",
              "  <svg xmlns=\"http://www.w3.org/2000/svg\" height=\"24px\"viewBox=\"0 0 24 24\"\n",
              "       width=\"24px\">\n",
              "    <path d=\"M0 0h24v24H0V0z\" fill=\"none\"/>\n",
              "    <path d=\"M18.56 5.44l.94 2.06.94-2.06 2.06-.94-2.06-.94-.94-2.06-.94 2.06-2.06.94zm-11 1L8.5 8.5l.94-2.06 2.06-.94-2.06-.94L8.5 2.5l-.94 2.06-2.06.94zm10 10l.94 2.06.94-2.06 2.06-.94-2.06-.94-.94-2.06-.94 2.06-2.06.94z\"/><path d=\"M17.41 7.96l-1.37-1.37c-.4-.4-.92-.59-1.43-.59-.52 0-1.04.2-1.43.59L10.3 9.45l-7.72 7.72c-.78.78-.78 2.05 0 2.83L4 21.41c.39.39.9.59 1.41.59.51 0 1.02-.2 1.41-.59l7.78-7.78 2.81-2.81c.8-.78.8-2.07 0-2.86zM5.41 20L4 18.59l7.72-7.72 1.47 1.35L5.41 20z\"/>\n",
              "  </svg>\n",
              "      </button>\n",
              "      \n",
              "  <style>\n",
              "    .colab-df-container {\n",
              "      display:flex;\n",
              "      flex-wrap:wrap;\n",
              "      gap: 12px;\n",
              "    }\n",
              "\n",
              "    .colab-df-convert {\n",
              "      background-color: #E8F0FE;\n",
              "      border: none;\n",
              "      border-radius: 50%;\n",
              "      cursor: pointer;\n",
              "      display: none;\n",
              "      fill: #1967D2;\n",
              "      height: 32px;\n",
              "      padding: 0 0 0 0;\n",
              "      width: 32px;\n",
              "    }\n",
              "\n",
              "    .colab-df-convert:hover {\n",
              "      background-color: #E2EBFA;\n",
              "      box-shadow: 0px 1px 2px rgba(60, 64, 67, 0.3), 0px 1px 3px 1px rgba(60, 64, 67, 0.15);\n",
              "      fill: #174EA6;\n",
              "    }\n",
              "\n",
              "    [theme=dark] .colab-df-convert {\n",
              "      background-color: #3B4455;\n",
              "      fill: #D2E3FC;\n",
              "    }\n",
              "\n",
              "    [theme=dark] .colab-df-convert:hover {\n",
              "      background-color: #434B5C;\n",
              "      box-shadow: 0px 1px 3px 1px rgba(0, 0, 0, 0.15);\n",
              "      filter: drop-shadow(0px 1px 2px rgba(0, 0, 0, 0.3));\n",
              "      fill: #FFFFFF;\n",
              "    }\n",
              "  </style>\n",
              "\n",
              "      <script>\n",
              "        const buttonEl =\n",
              "          document.querySelector('#df-e581bd9c-989c-45ca-9ee4-9020cbe78519 button.colab-df-convert');\n",
              "        buttonEl.style.display =\n",
              "          google.colab.kernel.accessAllowed ? 'block' : 'none';\n",
              "\n",
              "        async function convertToInteractive(key) {\n",
              "          const element = document.querySelector('#df-e581bd9c-989c-45ca-9ee4-9020cbe78519');\n",
              "          const dataTable =\n",
              "            await google.colab.kernel.invokeFunction('convertToInteractive',\n",
              "                                                     [key], {});\n",
              "          if (!dataTable) return;\n",
              "\n",
              "          const docLinkHtml = 'Like what you see? Visit the ' +\n",
              "            '<a target=\"_blank\" href=https://colab.research.google.com/notebooks/data_table.ipynb>data table notebook</a>'\n",
              "            + ' to learn more about interactive tables.';\n",
              "          element.innerHTML = '';\n",
              "          dataTable['output_type'] = 'display_data';\n",
              "          await google.colab.output.renderOutput(dataTable, element);\n",
              "          const docLink = document.createElement('div');\n",
              "          docLink.innerHTML = docLinkHtml;\n",
              "          element.appendChild(docLink);\n",
              "        }\n",
              "      </script>\n",
              "    </div>\n",
              "  </div>\n",
              "  "
            ],
            "text/plain": [
              "   predicted  predicted_probability\n",
              "0          1               0.505902\n",
              "1          1               0.511973\n",
              "2          0               0.486792\n",
              "3          1               0.585495\n",
              "4          0               0.440061"
            ]
          },
          "execution_count": 293,
          "metadata": {},
          "output_type": "execute_result"
        }
      ],
      "source": [
        "final_dd.head()"
      ]
    },
    {
      "cell_type": "code",
      "execution_count": 294,
      "metadata": {
        "id": "VNmO3aqi8fvD"
      },
      "outputs": [],
      "source": [
        "final_dd.to_csv('/content/drive/MyDrive/fibe hackathon/dataset/sub.csv', index=False)"
      ]
    },
    {
      "cell_type": "code",
      "execution_count": null,
      "metadata": {
        "id": "VBVG6UFAGKMq"
      },
      "outputs": [],
      "source": []
    }
  ],
  "metadata": {
    "colab": {
      "provenance": []
    },
    "kernelspec": {
      "display_name": "Python 3",
      "name": "python3"
    },
    "language_info": {
      "name": "python"
    }
  },
  "nbformat": 4,
  "nbformat_minor": 0
}
